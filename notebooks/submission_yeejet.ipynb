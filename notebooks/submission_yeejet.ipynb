{
 "cells": [
  {
   "cell_type": "markdown",
   "id": "f019f255-41c7-43b2-9b47-542f97543d8f",
   "metadata": {},
   "source": [
    "# Submission\n",
    "Generate submission files"
   ]
  },
  {
   "cell_type": "markdown",
   "id": "794ad696-1b24-4bb7-add7-1964c881b2f4",
   "metadata": {},
   "source": [
    "## Model training"
   ]
  },
  {
   "cell_type": "code",
   "execution_count": 1,
   "id": "663ec417-037b-44c3-9a5b-fbd3fa484a3a",
   "metadata": {},
   "outputs": [
    {
     "name": "stdout",
     "output_type": "stream",
     "text": [
      "[INFO] Preprocessing data...\n",
      "[INFO] Initializing model...\n",
      "[INFO] Fitting model...\n",
      "[INFO] Saving model...\n",
      "[INFO] Done.\n"
     ]
    }
   ],
   "source": [
    "!python3 ../scripts/train_xgb.py -d ../data/data.json -l ../data/data.info -s ../outputs/xgb.model"
   ]
  },
  {
   "cell_type": "markdown",
   "id": "fab4c9ea-cf2c-4038-a63d-c9d06e81abaa",
   "metadata": {},
   "source": [
    "## Predictions"
   ]
  },
  {
   "cell_type": "code",
   "execution_count": 3,
   "id": "7095b0a8-30a8-4225-90f7-f91076d95557",
   "metadata": {},
   "outputs": [
    {
     "name": "stdout",
     "output_type": "stream",
     "text": [
      "[INFO] Preprocessing data...\n",
      "[INFO] Loading model...\n",
      "[INFO] Running inference...\n",
      "[INFO] Saving predictions...\n",
      "[INFO] Done.\n",
      "CPU times: user 1.12 s, sys: 168 ms, total: 1.29 s\n",
      "Wall time: 54.4 s\n"
     ]
    }
   ],
   "source": [
    "%%time\n",
    "!python3 ../scripts/predict_xgb.py -d ../data/dataset1.json -m ../outputs/xgb.model -s ../outputs/teamgenono_dataset1.csv"
   ]
  },
  {
   "cell_type": "code",
   "execution_count": 4,
   "id": "49acf1c6-5fb4-457f-bb4f-e0389197cc0b",
   "metadata": {},
   "outputs": [
    {
     "name": "stdout",
     "output_type": "stream",
     "text": [
      "[INFO] Preprocessing data...\n",
      "[INFO] Loading model...\n",
      "[INFO] Running inference...\n",
      "[INFO] Saving predictions...\n",
      "[INFO] Done.\n",
      "CPU times: user 943 ms, sys: 157 ms, total: 1.1 s\n",
      "Wall time: 49.3 s\n"
     ]
    }
   ],
   "source": [
    "%%time\n",
    "!python3 ../scripts/predict_xgb.py -d ../data/dataset2.json -m ../outputs/xgb.model -s ../outputs/teamgenono_dataset2.csv"
   ]
  },
  {
   "cell_type": "code",
   "execution_count": 5,
   "id": "233f9bfe-885b-4d55-a7bb-921a3daffbef",
   "metadata": {},
   "outputs": [
    {
     "name": "stdout",
     "output_type": "stream",
     "text": [
      "[INFO] Preprocessing data...\n",
      "[INFO] Loading model...\n",
      "[INFO] Running inference...\n",
      "[INFO] Saving predictions...\n",
      "[INFO] Done.\n",
      "CPU times: user 209 ms, sys: 36.1 ms, total: 245 ms\n",
      "Wall time: 11.9 s\n"
     ]
    }
   ],
   "source": [
    "%%time\n",
    "!python3 ../scripts/predict_xgb.py -d ../data/dataset3.json -m ../outputs/xgb.model -s ../outputs/teamgenono_dataset3.csv"
   ]
  }
 ],
 "metadata": {
  "kernelspec": {
   "display_name": "Python 3 (ipykernel)",
   "language": "python",
   "name": "python3"
  },
  "language_info": {
   "codemirror_mode": {
    "name": "ipython",
    "version": 3
   },
   "file_extension": ".py",
   "mimetype": "text/x-python",
   "name": "python",
   "nbconvert_exporter": "python",
   "pygments_lexer": "ipython3",
   "version": "3.8.10"
  }
 },
 "nbformat": 4,
 "nbformat_minor": 5
}
