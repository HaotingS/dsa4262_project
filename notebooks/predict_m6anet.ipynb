{
 "cells": [
  {
   "cell_type": "code",
   "execution_count": 1,
   "metadata": {},
   "outputs": [
    {
     "name": "stderr",
     "output_type": "stream",
     "text": [
      "d:\\Programming_Language\\Python3\\lib\\site-packages\\pkg_resources\\__init__.py:123: PkgResourcesDeprecationWarning: p is an invalid version and will not be supported in a future release\n",
      "  warnings.warn(\n"
     ]
    }
   ],
   "source": [
    "# import packages\n",
    "import pandas as pd\n",
    "import numpy as np\n",
    "import json \n",
    "from collections import Counter\n",
    "import matplotlib.pyplot as plt\n",
    "import os\n",
    "\n",
    "# initial model \n",
    "import xgboost as xgb\n",
    "from xgboost import XGBClassifier \n",
    "from math import ceil\n",
    "\n",
    "from sklearn import preprocessing"
   ]
  },
  {
   "cell_type": "markdown",
   "metadata": {},
   "source": [
    "---"
   ]
  },
  {
   "cell_type": "code",
   "execution_count": 2,
   "metadata": {},
   "outputs": [],
   "source": [
    "# load prev model\n",
    "model = XGBClassifier()\n",
    "model.load_model('./output/xgb.model')"
   ]
  },
  {
   "cell_type": "code",
   "execution_count": 3,
   "metadata": {},
   "outputs": [],
   "source": [
    "folder_names = []\n",
    "for entry_name in os.listdir('./data/m6anet'):\n",
    "    entry_path = os.path.join('./data/m6anet', entry_name)\n",
    "    if os.path.isdir(entry_path):\n",
    "        folder_names.append(entry_name)"
   ]
  },
  {
   "cell_type": "code",
   "execution_count": 4,
   "metadata": {},
   "outputs": [
    {
     "name": "stdout",
     "output_type": "stream",
     "text": [
      "[INFO] Preprocessing data SGNex_A549_directRNA_replicate5_run1...\n",
      "[INFO] Running inference...\n",
      "[INFO] Saving predictions...\n",
      "[INFO] Preprocessing data SGNex_A549_directRNA_replicate6_run1...\n",
      "[INFO] Running inference...\n",
      "[INFO] Saving predictions...\n",
      "[INFO] Preprocessing data SGNex_Hct116_directRNA_replicate3_run1...\n",
      "[INFO] Running inference...\n",
      "[INFO] Saving predictions...\n",
      "[INFO] Preprocessing data SGNex_Hct116_directRNA_replicate3_run4...\n",
      "[INFO] Running inference...\n",
      "[INFO] Saving predictions...\n",
      "[INFO] Preprocessing data SGNex_Hct116_directRNA_replicate4_run3...\n",
      "[INFO] Running inference...\n",
      "[INFO] Saving predictions...\n",
      "[INFO] Preprocessing data SGNex_HepG2_directRNA_replicate5_run2...\n",
      "[INFO] Running inference...\n",
      "[INFO] Saving predictions...\n",
      "[INFO] Preprocessing data SGNex_HepG2_directRNA_replicate6_run1...\n",
      "[INFO] Running inference...\n",
      "[INFO] Saving predictions...\n",
      "[INFO] Preprocessing data SGNex_K562_directRNA_replicate4_run1...\n",
      "[INFO] Running inference...\n",
      "[INFO] Saving predictions...\n",
      "[INFO] Preprocessing data SGNex_K562_directRNA_replicate5_run1...\n",
      "[INFO] Running inference...\n",
      "[INFO] Saving predictions...\n",
      "[INFO] Preprocessing data SGNex_K562_directRNA_replicate6_run1...\n",
      "[INFO] Running inference...\n",
      "[INFO] Saving predictions...\n",
      "[INFO] Preprocessing data SGNex_MCF7_directRNA_replicate3_run1...\n",
      "[INFO] Running inference...\n",
      "[INFO] Saving predictions...\n",
      "[INFO] Preprocessing data SGNex_MCF7_directRNA_replicate4_run1...\n",
      "[INFO] Running inference...\n",
      "[INFO] Saving predictions...\n"
     ]
    }
   ],
   "source": [
    "for fname in folder_names:\n",
    "    f1 = \"./data/m6anet/{fname}/data.json\".format(fname=fname)\n",
    "\n",
    "    print(\"[INFO] Preprocessing data {fname}...\".format(fname=fname))\n",
    "    temp_lst = list()\n",
    "    with open(f1, 'rb') as f:\n",
    "        for line in f:\n",
    "            temp1 = json.loads(line)\n",
    "            for gene_id, reads in temp1.items():\n",
    "                for read_pos, trans_vals in reads.items():\n",
    "                    for trans_id, vals in trans_vals.items():\n",
    "                        for val in vals:\n",
    "                            row1 = (gene_id, read_pos, trans_id, val)\n",
    "                            temp_lst.append(row1)\n",
    "\n",
    "    df = pd.DataFrame(temp_lst, columns=['transcript_id', 'transcript_position', 'nucleotides', 'val'])\n",
    "    temp = pd.DataFrame(df.val.tolist(), index=df.index,  columns=['0', '1', '2', '3', '4', '5', '6', '7', '8'])\n",
    "\n",
    "    df = pd.concat([df, temp], axis=1)\n",
    "    df.drop(columns=['val'], inplace=True)\n",
    "    df = df.astype({'transcript_position': 'int'})\n",
    "\n",
    "    # drop duplicates\n",
    "    df.drop_duplicates(keep='first', inplace=True, ignore_index=True)\n",
    "\n",
    "    # groupby and agg using mean \n",
    "    df = df.groupby(by=['transcript_id', 'transcript_position', 'nucleotides']).mean(numeric_only=True)\n",
    "    df.reset_index(inplace=True)\n",
    "\n",
    "    # save original `transcript_position`\n",
    "    df['transcript_position0'] = df['transcript_position']\n",
    "    df = df.astype({'transcript_position0': 'str'})\n",
    "\n",
    "    # scale numerical variables\n",
    "    num_var = df.select_dtypes(include=np.number).columns\n",
    "    scaler = preprocessing.MinMaxScaler(feature_range=(0, 1))\n",
    "    df[num_var]= scaler.fit_transform(df[num_var])\n",
    "\n",
    "    # seperate `nucleotides`\n",
    "    tmp = df['nucleotides'].str.split(pat=\"\", expand=True)\n",
    "    tmp.drop(columns=[tmp.columns[0], tmp.columns[-1]], inplace=True)\n",
    "    tmp = tmp.add_prefix(\"p\")\n",
    "    tmp = pd.get_dummies(tmp)\n",
    "    df = pd.concat([df, tmp], axis=1)\n",
    "\n",
    "    # prepare features\n",
    "    Xte = df[['transcript_position', '0', '1', '2', '3', '4', '5', '6', '7', '8'] + list(tmp.columns)]\n",
    "    \n",
    "    print(\"[INFO] Running inference...\")\n",
    "    yhat_probs = model.predict_proba(Xte, iteration_range=(0, model.best_iteration + 1))\n",
    "    yhat = model.predict(Xte, iteration_range=(0, model.best_iteration + 1))\n",
    "    yhat1_probs = yhat_probs[:, 1]\n",
    "    df['score'] = yhat1_probs\n",
    "    df['pred_label'] = yhat \n",
    "\n",
    "    print(\"[INFO] Saving predictions...\")\n",
    "    # df_res = df[['transcript_id', 'transcript_position0', 'score']].copy()\n",
    "    # df_res.rename(columns={\"transcript_position0\": \"transcript_position\"}, inplace=True)\n",
    "    df_res = df.copy()\n",
    "    df_res.to_csv(\"./output/teamgenono_{fname}_1.csv\".format(fname=fname), index=False)\n",
    "    "
   ]
  },
  {
   "cell_type": "markdown",
   "metadata": {},
   "source": [
    "--- \n",
    "EDA on results of M6anet cell lines"
   ]
  },
  {
   "cell_type": "code",
   "execution_count": 5,
   "metadata": {},
   "outputs": [
    {
     "data": {
      "text/plain": [
       "['./output\\\\teamgenono_SGNex_A549_directRNA_replicate5_run1_1.csv',\n",
       " './output\\\\teamgenono_SGNex_A549_directRNA_replicate6_run1_1.csv',\n",
       " './output\\\\teamgenono_SGNex_Hct116_directRNA_replicate3_run1_1.csv',\n",
       " './output\\\\teamgenono_SGNex_Hct116_directRNA_replicate3_run4_1.csv',\n",
       " './output\\\\teamgenono_SGNex_Hct116_directRNA_replicate4_run3_1.csv',\n",
       " './output\\\\teamgenono_SGNex_HepG2_directRNA_replicate5_run2_1.csv',\n",
       " './output\\\\teamgenono_SGNex_HepG2_directRNA_replicate6_run1_1.csv',\n",
       " './output\\\\teamgenono_SGNex_K562_directRNA_replicate4_run1_1.csv',\n",
       " './output\\\\teamgenono_SGNex_K562_directRNA_replicate5_run1_1.csv',\n",
       " './output\\\\teamgenono_SGNex_K562_directRNA_replicate6_run1_1.csv',\n",
       " './output\\\\teamgenono_SGNex_MCF7_directRNA_replicate3_run1_1.csv',\n",
       " './output\\\\teamgenono_SGNex_MCF7_directRNA_replicate4_run1_1.csv']"
      ]
     },
     "execution_count": 5,
     "metadata": {},
     "output_type": "execute_result"
    }
   ],
   "source": [
    "file_names = []\n",
    "for entry_name in os.listdir('./output'):\n",
    "    entry_path = os.path.join('./output', entry_name)\n",
    "    if (os.path.isfile(entry_path)):\n",
    "        if os.path.splitext(entry_path)[1] == '.csv':\n",
    "            file_names.append(entry_path)\n",
    "\n",
    "file_names"
   ]
  },
  {
   "cell_type": "code",
   "execution_count": 10,
   "metadata": {},
   "outputs": [
    {
     "data": {
      "text/plain": [
       "0    742503\n",
       "1    560011\n",
       "Name: pred_label, dtype: int64"
      ]
     },
     "execution_count": 10,
     "metadata": {},
     "output_type": "execute_result"
    }
   ],
   "source": [
    "df1 = pd.read_csv(file_names[3])\n",
    "\n",
    "df1.drop(columns = ['transcript_position'])\n",
    "df1.rename(columns={\"transcript_position0\": \"transcript_position\"}, inplace=True)\n",
    "\n",
    "\n",
    "df1.pred_label.value_counts()"
   ]
  },
  {
   "cell_type": "code",
   "execution_count": 11,
   "metadata": {},
   "outputs": [
    {
     "data": {
      "text/plain": [
       "Index(['transcript_id', 'transcript_position', 'nucleotides', '0', '1', '2',\n",
       "       '3', '4', '5', '6', '7', '8', 'transcript_position', 'p1_A', 'p1_C',\n",
       "       'p1_G', 'p1_T', 'p2_A', 'p2_G', 'p2_T', 'p3_A', 'p3_G', 'p4_A', 'p5_C',\n",
       "       'p6_A', 'p6_C', 'p6_T', 'p7_A', 'p7_C', 'p7_G', 'p7_T', 'score',\n",
       "       'pred_label'],\n",
       "      dtype='object')"
      ]
     },
     "execution_count": 11,
     "metadata": {},
     "output_type": "execute_result"
    }
   ],
   "source": [
    "df1.columns"
   ]
  },
  {
   "cell_type": "code",
   "execution_count": null,
   "metadata": {},
   "outputs": [],
   "source": [
    "df1.filter()"
   ]
  }
 ],
 "metadata": {
  "kernelspec": {
   "display_name": "Python 3.10.4 64-bit",
   "language": "python",
   "name": "python3"
  },
  "language_info": {
   "codemirror_mode": {
    "name": "ipython",
    "version": 3
   },
   "file_extension": ".py",
   "mimetype": "text/x-python",
   "name": "python",
   "nbconvert_exporter": "python",
   "pygments_lexer": "ipython3",
   "version": "3.10.4"
  },
  "orig_nbformat": 4,
  "vscode": {
   "interpreter": {
    "hash": "6b84a498c86f38192d0d1ca0de983ccaf8fbaa9efab78b9dbd0d827e82811552"
   }
  }
 },
 "nbformat": 4,
 "nbformat_minor": 2
}
