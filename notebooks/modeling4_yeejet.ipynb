{
 "cells": [
  {
   "cell_type": "markdown",
   "id": "5092e1c4-7eb0-405b-a360-78327f8d553e",
   "metadata": {},
   "source": [
    "# Modeling 4\n",
    "* Scale numerical features.\n",
    "* Aggregate `transcript_id`, `transcript_position`, `nucleotides` using mean.\n",
    "* Seperate `nucleotides` and use as features.\n",
    "* Use `transcript_position` as features."
   ]
  },
  {
   "cell_type": "code",
   "execution_count": 1,
   "id": "50b3fb15-c7eb-4f85-8648-3344303c0fe1",
   "metadata": {},
   "outputs": [],
   "source": [
    "import os\n",
    "import pandas as pd\n",
    "import numpy as np\n",
    "import matplotlib.pyplot as plt\n",
    "import seaborn as sns\n",
    "import warnings\n",
    "import pickle\n",
    "import xgboost as xgb\n",
    "\n",
    "from sklearn import preprocessing\n",
    "from sklearn.model_selection import train_test_split\n",
    "from sklearn.naive_bayes import GaussianNB\n",
    "from sklearn.neighbors import KNeighborsClassifier\n",
    "from sklearn.svm import LinearSVC\n",
    "from sklearn.discriminant_analysis import \\\n",
    "    LinearDiscriminantAnalysis, QuadraticDiscriminantAnalysis\n",
    "from sklearn.model_selection import \\\n",
    "    StratifiedKFold, GridSearchCV\n",
    "from sklearn.metrics import \\\n",
    "    accuracy_score, precision_score, recall_score, f1_score, \\\n",
    "    roc_curve, precision_recall_curve, \\\n",
    "    roc_auc_score, average_precision_score, \\\n",
    "    confusion_matrix, classification_report\n",
    "from xgboost import XGBClassifier \n",
    "from math import floor\n",
    "\n",
    "%matplotlib inline\n",
    "plt.style.use('default')\n",
    "warnings.filterwarnings(\"ignore\")\n",
    "\n",
    "DATA_DIR = \"../data\"  # save data locally for faster read / write\n",
    "MODEL_DIR = os.path.join(os.path.expanduser('~'), 'studies/ProjectStorage/tanyeejet/models') # models' size not as big as data, save in s3 for everyone "
   ]
  },
  {
   "cell_type": "code",
   "execution_count": 2,
   "id": "d0f4ad1f-6a72-47fa-bc78-80afff919320",
   "metadata": {},
   "outputs": [],
   "source": [
    "df = pd.read_csv(os.path.join(DATA_DIR, \"df3_scaled.csv\"))"
   ]
  },
  {
   "cell_type": "code",
   "execution_count": 3,
   "id": "a27a32d6-7c41-4603-823a-78605be8fb7a",
   "metadata": {},
   "outputs": [
    {
     "data": {
      "text/html": [
       "<div>\n",
       "<style scoped>\n",
       "    .dataframe tbody tr th:only-of-type {\n",
       "        vertical-align: middle;\n",
       "    }\n",
       "\n",
       "    .dataframe tbody tr th {\n",
       "        vertical-align: top;\n",
       "    }\n",
       "\n",
       "    .dataframe thead th {\n",
       "        text-align: right;\n",
       "    }\n",
       "</style>\n",
       "<table border=\"1\" class=\"dataframe\">\n",
       "  <thead>\n",
       "    <tr style=\"text-align: right;\">\n",
       "      <th></th>\n",
       "      <th>transcript_id</th>\n",
       "      <th>transcript_position</th>\n",
       "      <th>nucleotides</th>\n",
       "      <th>0</th>\n",
       "      <th>1</th>\n",
       "      <th>2</th>\n",
       "      <th>3</th>\n",
       "      <th>4</th>\n",
       "      <th>5</th>\n",
       "      <th>6</th>\n",
       "      <th>7</th>\n",
       "      <th>8</th>\n",
       "      <th>gene_id</th>\n",
       "      <th>label</th>\n",
       "    </tr>\n",
       "  </thead>\n",
       "  <tbody>\n",
       "    <tr>\n",
       "      <th>0</th>\n",
       "      <td>ENST00000000233</td>\n",
       "      <td>244</td>\n",
       "      <td>AAGACCA</td>\n",
       "      <td>0.011239</td>\n",
       "      <td>0.009548</td>\n",
       "      <td>0.649123</td>\n",
       "      <td>0.117647</td>\n",
       "      <td>0.050283</td>\n",
       "      <td>0.578164</td>\n",
       "      <td>0.075390</td>\n",
       "      <td>0.058543</td>\n",
       "      <td>0.281707</td>\n",
       "      <td>ENSG00000004059</td>\n",
       "      <td>0</td>\n",
       "    </tr>\n",
       "    <tr>\n",
       "      <th>1</th>\n",
       "      <td>ENST00000000233</td>\n",
       "      <td>244</td>\n",
       "      <td>AAGACCA</td>\n",
       "      <td>0.039294</td>\n",
       "      <td>0.011831</td>\n",
       "      <td>0.649123</td>\n",
       "      <td>0.049729</td>\n",
       "      <td>0.022461</td>\n",
       "      <td>0.627792</td>\n",
       "      <td>0.085258</td>\n",
       "      <td>0.033525</td>\n",
       "      <td>0.242683</td>\n",
       "      <td>ENSG00000004059</td>\n",
       "      <td>0</td>\n",
       "    </tr>\n",
       "    <tr>\n",
       "      <th>2</th>\n",
       "      <td>ENST00000000233</td>\n",
       "      <td>244</td>\n",
       "      <td>AAGACCA</td>\n",
       "      <td>0.025266</td>\n",
       "      <td>0.018581</td>\n",
       "      <td>0.448622</td>\n",
       "      <td>0.087575</td>\n",
       "      <td>0.058051</td>\n",
       "      <td>0.602978</td>\n",
       "      <td>0.032761</td>\n",
       "      <td>0.010845</td>\n",
       "      <td>0.226829</td>\n",
       "      <td>ENSG00000004059</td>\n",
       "      <td>0</td>\n",
       "    </tr>\n",
       "    <tr>\n",
       "      <th>3</th>\n",
       "      <td>ENST00000000233</td>\n",
       "      <td>244</td>\n",
       "      <td>AAGACCA</td>\n",
       "      <td>0.019605</td>\n",
       "      <td>0.009548</td>\n",
       "      <td>0.649123</td>\n",
       "      <td>0.048702</td>\n",
       "      <td>0.024112</td>\n",
       "      <td>0.677419</td>\n",
       "      <td>0.032761</td>\n",
       "      <td>0.019819</td>\n",
       "      <td>0.236585</td>\n",
       "      <td>ENSG00000004059</td>\n",
       "      <td>0</td>\n",
       "    </tr>\n",
       "    <tr>\n",
       "      <th>4</th>\n",
       "      <td>ENST00000000233</td>\n",
       "      <td>244</td>\n",
       "      <td>AAGACCA</td>\n",
       "      <td>0.042082</td>\n",
       "      <td>0.013725</td>\n",
       "      <td>0.586466</td>\n",
       "      <td>0.007335</td>\n",
       "      <td>0.018917</td>\n",
       "      <td>0.665012</td>\n",
       "      <td>0.111901</td>\n",
       "      <td>0.038148</td>\n",
       "      <td>0.258537</td>\n",
       "      <td>ENSG00000004059</td>\n",
       "      <td>0</td>\n",
       "    </tr>\n",
       "  </tbody>\n",
       "</table>\n",
       "</div>"
      ],
      "text/plain": [
       "     transcript_id  transcript_position nucleotides         0         1  \\\n",
       "0  ENST00000000233                  244     AAGACCA  0.011239  0.009548   \n",
       "1  ENST00000000233                  244     AAGACCA  0.039294  0.011831   \n",
       "2  ENST00000000233                  244     AAGACCA  0.025266  0.018581   \n",
       "3  ENST00000000233                  244     AAGACCA  0.019605  0.009548   \n",
       "4  ENST00000000233                  244     AAGACCA  0.042082  0.013725   \n",
       "\n",
       "          2         3         4         5         6         7         8  \\\n",
       "0  0.649123  0.117647  0.050283  0.578164  0.075390  0.058543  0.281707   \n",
       "1  0.649123  0.049729  0.022461  0.627792  0.085258  0.033525  0.242683   \n",
       "2  0.448622  0.087575  0.058051  0.602978  0.032761  0.010845  0.226829   \n",
       "3  0.649123  0.048702  0.024112  0.677419  0.032761  0.019819  0.236585   \n",
       "4  0.586466  0.007335  0.018917  0.665012  0.111901  0.038148  0.258537   \n",
       "\n",
       "           gene_id  label  \n",
       "0  ENSG00000004059      0  \n",
       "1  ENSG00000004059      0  \n",
       "2  ENSG00000004059      0  \n",
       "3  ENSG00000004059      0  \n",
       "4  ENSG00000004059      0  "
      ]
     },
     "execution_count": 3,
     "metadata": {},
     "output_type": "execute_result"
    }
   ],
   "source": [
    "df.head()"
   ]
  },
  {
   "cell_type": "code",
   "execution_count": 4,
   "id": "c9520ab8-7aa7-4cfe-9d9d-409aa81e7cec",
   "metadata": {},
   "outputs": [
    {
     "data": {
      "text/plain": [
       "transcript_id           object\n",
       "transcript_position      int64\n",
       "nucleotides             object\n",
       "0                      float64\n",
       "1                      float64\n",
       "2                      float64\n",
       "3                      float64\n",
       "4                      float64\n",
       "5                      float64\n",
       "6                      float64\n",
       "7                      float64\n",
       "8                      float64\n",
       "gene_id                 object\n",
       "label                    int64\n",
       "dtype: object"
      ]
     },
     "execution_count": 4,
     "metadata": {},
     "output_type": "execute_result"
    }
   ],
   "source": [
    "df.dtypes"
   ]
  },
  {
   "cell_type": "code",
   "execution_count": 5,
   "id": "e54e118d-fc44-4710-8064-9fa26a750a8e",
   "metadata": {},
   "outputs": [],
   "source": [
    "df = df.astype({'transcript_position': 'str'})"
   ]
  },
  {
   "cell_type": "code",
   "execution_count": 6,
   "id": "d6a46c5e-8671-40fe-82a5-947f5de90f30",
   "metadata": {},
   "outputs": [],
   "source": [
    "# designate data types\n",
    "# df['label'] = df['label'].astype(str)\n",
    "# df['transcript_position'] = df['transcript_position'].astype(str)"
   ]
  },
  {
   "cell_type": "code",
   "execution_count": 7,
   "id": "fc12ae53-d5c0-4e41-8af7-cdf5572d2de4",
   "metadata": {},
   "outputs": [
    {
     "data": {
      "text/plain": [
       "transcript_id           object\n",
       "transcript_position     object\n",
       "nucleotides             object\n",
       "0                      float64\n",
       "1                      float64\n",
       "2                      float64\n",
       "3                      float64\n",
       "4                      float64\n",
       "5                      float64\n",
       "6                      float64\n",
       "7                      float64\n",
       "8                      float64\n",
       "gene_id                 object\n",
       "label                    int64\n",
       "dtype: object"
      ]
     },
     "execution_count": 7,
     "metadata": {},
     "output_type": "execute_result"
    }
   ],
   "source": [
    "df.dtypes"
   ]
  },
  {
   "cell_type": "code",
   "execution_count": 8,
   "id": "8166a840-15e5-4f72-a020-70162d0ef0fb",
   "metadata": {},
   "outputs": [
    {
     "data": {
      "text/html": [
       "<div>\n",
       "<style scoped>\n",
       "    .dataframe tbody tr th:only-of-type {\n",
       "        vertical-align: middle;\n",
       "    }\n",
       "\n",
       "    .dataframe tbody tr th {\n",
       "        vertical-align: top;\n",
       "    }\n",
       "\n",
       "    .dataframe thead th {\n",
       "        text-align: right;\n",
       "    }\n",
       "</style>\n",
       "<table border=\"1\" class=\"dataframe\">\n",
       "  <thead>\n",
       "    <tr style=\"text-align: right;\">\n",
       "      <th></th>\n",
       "      <th>transcript_id</th>\n",
       "      <th>transcript_position</th>\n",
       "      <th>nucleotides</th>\n",
       "      <th>0</th>\n",
       "      <th>1</th>\n",
       "      <th>2</th>\n",
       "      <th>3</th>\n",
       "      <th>4</th>\n",
       "      <th>5</th>\n",
       "      <th>6</th>\n",
       "      <th>7</th>\n",
       "      <th>8</th>\n",
       "      <th>label</th>\n",
       "    </tr>\n",
       "  </thead>\n",
       "  <tbody>\n",
       "    <tr>\n",
       "      <th>0</th>\n",
       "      <td>ENST00000000233</td>\n",
       "      <td>244</td>\n",
       "      <td>AAGACCA</td>\n",
       "      <td>0.055809</td>\n",
       "      <td>0.020057</td>\n",
       "      <td>0.632866</td>\n",
       "      <td>0.056574</td>\n",
       "      <td>0.035630</td>\n",
       "      <td>0.626719</td>\n",
       "      <td>0.056097</td>\n",
       "      <td>0.023120</td>\n",
       "      <td>0.238662</td>\n",
       "      <td>0.0</td>\n",
       "    </tr>\n",
       "    <tr>\n",
       "      <th>1</th>\n",
       "      <td>ENST00000000233</td>\n",
       "      <td>261</td>\n",
       "      <td>CAAACTG</td>\n",
       "      <td>0.041822</td>\n",
       "      <td>0.015164</td>\n",
       "      <td>0.457160</td>\n",
       "      <td>0.037795</td>\n",
       "      <td>0.015452</td>\n",
       "      <td>0.403096</td>\n",
       "      <td>0.059703</td>\n",
       "      <td>0.015667</td>\n",
       "      <td>0.405984</td>\n",
       "      <td>0.0</td>\n",
       "    </tr>\n",
       "    <tr>\n",
       "      <th>2</th>\n",
       "      <td>ENST00000000233</td>\n",
       "      <td>316</td>\n",
       "      <td>GAAACAG</td>\n",
       "      <td>0.049941</td>\n",
       "      <td>0.013824</td>\n",
       "      <td>0.404457</td>\n",
       "      <td>0.042214</td>\n",
       "      <td>0.017473</td>\n",
       "      <td>0.292147</td>\n",
       "      <td>0.058172</td>\n",
       "      <td>0.010612</td>\n",
       "      <td>0.345906</td>\n",
       "      <td>0.0</td>\n",
       "    </tr>\n",
       "    <tr>\n",
       "      <th>3</th>\n",
       "      <td>ENST00000000233</td>\n",
       "      <td>332</td>\n",
       "      <td>AGAACAT</td>\n",
       "      <td>0.075716</td>\n",
       "      <td>0.030996</td>\n",
       "      <td>0.703697</td>\n",
       "      <td>0.051139</td>\n",
       "      <td>0.013863</td>\n",
       "      <td>0.278368</td>\n",
       "      <td>0.043828</td>\n",
       "      <td>0.011424</td>\n",
       "      <td>0.343341</td>\n",
       "      <td>0.0</td>\n",
       "    </tr>\n",
       "    <tr>\n",
       "      <th>4</th>\n",
       "      <td>ENST00000000233</td>\n",
       "      <td>368</td>\n",
       "      <td>AGGACAA</td>\n",
       "      <td>0.076394</td>\n",
       "      <td>0.030699</td>\n",
       "      <td>0.560454</td>\n",
       "      <td>0.072020</td>\n",
       "      <td>0.028289</td>\n",
       "      <td>0.577600</td>\n",
       "      <td>0.082485</td>\n",
       "      <td>0.022431</td>\n",
       "      <td>0.294863</td>\n",
       "      <td>0.0</td>\n",
       "    </tr>\n",
       "  </tbody>\n",
       "</table>\n",
       "</div>"
      ],
      "text/plain": [
       "     transcript_id transcript_position nucleotides         0         1  \\\n",
       "0  ENST00000000233                 244     AAGACCA  0.055809  0.020057   \n",
       "1  ENST00000000233                 261     CAAACTG  0.041822  0.015164   \n",
       "2  ENST00000000233                 316     GAAACAG  0.049941  0.013824   \n",
       "3  ENST00000000233                 332     AGAACAT  0.075716  0.030996   \n",
       "4  ENST00000000233                 368     AGGACAA  0.076394  0.030699   \n",
       "\n",
       "          2         3         4         5         6         7         8  label  \n",
       "0  0.632866  0.056574  0.035630  0.626719  0.056097  0.023120  0.238662    0.0  \n",
       "1  0.457160  0.037795  0.015452  0.403096  0.059703  0.015667  0.405984    0.0  \n",
       "2  0.404457  0.042214  0.017473  0.292147  0.058172  0.010612  0.345906    0.0  \n",
       "3  0.703697  0.051139  0.013863  0.278368  0.043828  0.011424  0.343341    0.0  \n",
       "4  0.560454  0.072020  0.028289  0.577600  0.082485  0.022431  0.294863    0.0  "
      ]
     },
     "execution_count": 8,
     "metadata": {},
     "output_type": "execute_result"
    }
   ],
   "source": [
    "# groupby and agg using mean \n",
    "df2 = df.groupby(by = ['transcript_id', 'transcript_position', 'nucleotides']).mean()\n",
    "df2.reset_index(inplace=True)\n",
    "df2.head()"
   ]
  },
  {
   "cell_type": "code",
   "execution_count": 9,
   "id": "3ce4cffa-cf8f-47ed-80f7-d40c7be84eaa",
   "metadata": {},
   "outputs": [
    {
     "data": {
      "text/plain": [
       "(121838, 13)"
      ]
     },
     "execution_count": 9,
     "metadata": {},
     "output_type": "execute_result"
    }
   ],
   "source": [
    "df2.shape"
   ]
  },
  {
   "cell_type": "code",
   "execution_count": 10,
   "id": "5470c1ca-4344-47b3-a608-a3c46a615db9",
   "metadata": {},
   "outputs": [],
   "source": [
    "# seperate nucleotides\n",
    "tmp = df2['nucleotides'].str.split(pat=\"\", expand=True)\n",
    "tmp.drop(columns=[tmp.columns[0], tmp.columns[-1]], inplace=True)\n",
    "tmp = tmp.add_prefix(\"p\")\n",
    "tmp = pd.get_dummies(tmp)\n",
    "df3 = pd.concat([df2, tmp], axis=1)"
   ]
  },
  {
   "cell_type": "code",
   "execution_count": 11,
   "id": "e01924cb-6043-412c-ab7b-8ad7074f2d17",
   "metadata": {},
   "outputs": [
    {
     "data": {
      "text/html": [
       "<div>\n",
       "<style scoped>\n",
       "    .dataframe tbody tr th:only-of-type {\n",
       "        vertical-align: middle;\n",
       "    }\n",
       "\n",
       "    .dataframe tbody tr th {\n",
       "        vertical-align: top;\n",
       "    }\n",
       "\n",
       "    .dataframe thead th {\n",
       "        text-align: right;\n",
       "    }\n",
       "</style>\n",
       "<table border=\"1\" class=\"dataframe\">\n",
       "  <thead>\n",
       "    <tr style=\"text-align: right;\">\n",
       "      <th></th>\n",
       "      <th>transcript_id</th>\n",
       "      <th>transcript_position</th>\n",
       "      <th>nucleotides</th>\n",
       "      <th>0</th>\n",
       "      <th>1</th>\n",
       "      <th>2</th>\n",
       "      <th>3</th>\n",
       "      <th>4</th>\n",
       "      <th>5</th>\n",
       "      <th>6</th>\n",
       "      <th>...</th>\n",
       "      <th>p3_G</th>\n",
       "      <th>p4_A</th>\n",
       "      <th>p5_C</th>\n",
       "      <th>p6_A</th>\n",
       "      <th>p6_C</th>\n",
       "      <th>p6_T</th>\n",
       "      <th>p7_A</th>\n",
       "      <th>p7_C</th>\n",
       "      <th>p7_G</th>\n",
       "      <th>p7_T</th>\n",
       "    </tr>\n",
       "  </thead>\n",
       "  <tbody>\n",
       "    <tr>\n",
       "      <th>0</th>\n",
       "      <td>ENST00000000233</td>\n",
       "      <td>244</td>\n",
       "      <td>AAGACCA</td>\n",
       "      <td>0.055809</td>\n",
       "      <td>0.020057</td>\n",
       "      <td>0.632866</td>\n",
       "      <td>0.056574</td>\n",
       "      <td>0.035630</td>\n",
       "      <td>0.626719</td>\n",
       "      <td>0.056097</td>\n",
       "      <td>...</td>\n",
       "      <td>1</td>\n",
       "      <td>1</td>\n",
       "      <td>1</td>\n",
       "      <td>0</td>\n",
       "      <td>1</td>\n",
       "      <td>0</td>\n",
       "      <td>1</td>\n",
       "      <td>0</td>\n",
       "      <td>0</td>\n",
       "      <td>0</td>\n",
       "    </tr>\n",
       "    <tr>\n",
       "      <th>1</th>\n",
       "      <td>ENST00000000233</td>\n",
       "      <td>261</td>\n",
       "      <td>CAAACTG</td>\n",
       "      <td>0.041822</td>\n",
       "      <td>0.015164</td>\n",
       "      <td>0.457160</td>\n",
       "      <td>0.037795</td>\n",
       "      <td>0.015452</td>\n",
       "      <td>0.403096</td>\n",
       "      <td>0.059703</td>\n",
       "      <td>...</td>\n",
       "      <td>0</td>\n",
       "      <td>1</td>\n",
       "      <td>1</td>\n",
       "      <td>0</td>\n",
       "      <td>0</td>\n",
       "      <td>1</td>\n",
       "      <td>0</td>\n",
       "      <td>0</td>\n",
       "      <td>1</td>\n",
       "      <td>0</td>\n",
       "    </tr>\n",
       "    <tr>\n",
       "      <th>2</th>\n",
       "      <td>ENST00000000233</td>\n",
       "      <td>316</td>\n",
       "      <td>GAAACAG</td>\n",
       "      <td>0.049941</td>\n",
       "      <td>0.013824</td>\n",
       "      <td>0.404457</td>\n",
       "      <td>0.042214</td>\n",
       "      <td>0.017473</td>\n",
       "      <td>0.292147</td>\n",
       "      <td>0.058172</td>\n",
       "      <td>...</td>\n",
       "      <td>0</td>\n",
       "      <td>1</td>\n",
       "      <td>1</td>\n",
       "      <td>1</td>\n",
       "      <td>0</td>\n",
       "      <td>0</td>\n",
       "      <td>0</td>\n",
       "      <td>0</td>\n",
       "      <td>1</td>\n",
       "      <td>0</td>\n",
       "    </tr>\n",
       "    <tr>\n",
       "      <th>3</th>\n",
       "      <td>ENST00000000233</td>\n",
       "      <td>332</td>\n",
       "      <td>AGAACAT</td>\n",
       "      <td>0.075716</td>\n",
       "      <td>0.030996</td>\n",
       "      <td>0.703697</td>\n",
       "      <td>0.051139</td>\n",
       "      <td>0.013863</td>\n",
       "      <td>0.278368</td>\n",
       "      <td>0.043828</td>\n",
       "      <td>...</td>\n",
       "      <td>0</td>\n",
       "      <td>1</td>\n",
       "      <td>1</td>\n",
       "      <td>1</td>\n",
       "      <td>0</td>\n",
       "      <td>0</td>\n",
       "      <td>0</td>\n",
       "      <td>0</td>\n",
       "      <td>0</td>\n",
       "      <td>1</td>\n",
       "    </tr>\n",
       "    <tr>\n",
       "      <th>4</th>\n",
       "      <td>ENST00000000233</td>\n",
       "      <td>368</td>\n",
       "      <td>AGGACAA</td>\n",
       "      <td>0.076394</td>\n",
       "      <td>0.030699</td>\n",
       "      <td>0.560454</td>\n",
       "      <td>0.072020</td>\n",
       "      <td>0.028289</td>\n",
       "      <td>0.577600</td>\n",
       "      <td>0.082485</td>\n",
       "      <td>...</td>\n",
       "      <td>1</td>\n",
       "      <td>1</td>\n",
       "      <td>1</td>\n",
       "      <td>1</td>\n",
       "      <td>0</td>\n",
       "      <td>0</td>\n",
       "      <td>1</td>\n",
       "      <td>0</td>\n",
       "      <td>0</td>\n",
       "      <td>0</td>\n",
       "    </tr>\n",
       "  </tbody>\n",
       "</table>\n",
       "<p>5 rows × 31 columns</p>\n",
       "</div>"
      ],
      "text/plain": [
       "     transcript_id transcript_position nucleotides         0         1  \\\n",
       "0  ENST00000000233                 244     AAGACCA  0.055809  0.020057   \n",
       "1  ENST00000000233                 261     CAAACTG  0.041822  0.015164   \n",
       "2  ENST00000000233                 316     GAAACAG  0.049941  0.013824   \n",
       "3  ENST00000000233                 332     AGAACAT  0.075716  0.030996   \n",
       "4  ENST00000000233                 368     AGGACAA  0.076394  0.030699   \n",
       "\n",
       "          2         3         4         5         6  ...  p3_G  p4_A  p5_C  \\\n",
       "0  0.632866  0.056574  0.035630  0.626719  0.056097  ...     1     1     1   \n",
       "1  0.457160  0.037795  0.015452  0.403096  0.059703  ...     0     1     1   \n",
       "2  0.404457  0.042214  0.017473  0.292147  0.058172  ...     0     1     1   \n",
       "3  0.703697  0.051139  0.013863  0.278368  0.043828  ...     0     1     1   \n",
       "4  0.560454  0.072020  0.028289  0.577600  0.082485  ...     1     1     1   \n",
       "\n",
       "   p6_A  p6_C  p6_T  p7_A  p7_C  p7_G  p7_T  \n",
       "0     0     1     0     1     0     0     0  \n",
       "1     0     0     1     0     0     1     0  \n",
       "2     1     0     0     0     0     1     0  \n",
       "3     1     0     0     0     0     0     1  \n",
       "4     1     0     0     1     0     0     0  \n",
       "\n",
       "[5 rows x 31 columns]"
      ]
     },
     "execution_count": 11,
     "metadata": {},
     "output_type": "execute_result"
    }
   ],
   "source": [
    "df3.head()"
   ]
  },
  {
   "cell_type": "code",
   "execution_count": 12,
   "id": "00b6eed4-bc0b-4771-ba1d-0b7ef7434a61",
   "metadata": {},
   "outputs": [],
   "source": [
    "scaler = preprocessing.MinMaxScaler(feature_range=(0, 1))\n",
    "df3[['transcript_position']] = scaler.fit_transform(df3[['transcript_position']])"
   ]
  },
  {
   "cell_type": "code",
   "execution_count": 13,
   "id": "cecd6373-c818-489c-ac53-c81ea85db857",
   "metadata": {},
   "outputs": [
    {
     "data": {
      "text/html": [
       "<div>\n",
       "<style scoped>\n",
       "    .dataframe tbody tr th:only-of-type {\n",
       "        vertical-align: middle;\n",
       "    }\n",
       "\n",
       "    .dataframe tbody tr th {\n",
       "        vertical-align: top;\n",
       "    }\n",
       "\n",
       "    .dataframe thead th {\n",
       "        text-align: right;\n",
       "    }\n",
       "</style>\n",
       "<table border=\"1\" class=\"dataframe\">\n",
       "  <thead>\n",
       "    <tr style=\"text-align: right;\">\n",
       "      <th></th>\n",
       "      <th>transcript_id</th>\n",
       "      <th>transcript_position</th>\n",
       "      <th>nucleotides</th>\n",
       "      <th>0</th>\n",
       "      <th>1</th>\n",
       "      <th>2</th>\n",
       "      <th>3</th>\n",
       "      <th>4</th>\n",
       "      <th>5</th>\n",
       "      <th>6</th>\n",
       "      <th>...</th>\n",
       "      <th>p3_G</th>\n",
       "      <th>p4_A</th>\n",
       "      <th>p5_C</th>\n",
       "      <th>p6_A</th>\n",
       "      <th>p6_C</th>\n",
       "      <th>p6_T</th>\n",
       "      <th>p7_A</th>\n",
       "      <th>p7_C</th>\n",
       "      <th>p7_G</th>\n",
       "      <th>p7_T</th>\n",
       "    </tr>\n",
       "  </thead>\n",
       "  <tbody>\n",
       "    <tr>\n",
       "      <th>0</th>\n",
       "      <td>ENST00000000233</td>\n",
       "      <td>0.012869</td>\n",
       "      <td>AAGACCA</td>\n",
       "      <td>0.055809</td>\n",
       "      <td>0.020057</td>\n",
       "      <td>0.632866</td>\n",
       "      <td>0.056574</td>\n",
       "      <td>0.035630</td>\n",
       "      <td>0.626719</td>\n",
       "      <td>0.056097</td>\n",
       "      <td>...</td>\n",
       "      <td>1</td>\n",
       "      <td>1</td>\n",
       "      <td>1</td>\n",
       "      <td>0</td>\n",
       "      <td>1</td>\n",
       "      <td>0</td>\n",
       "      <td>1</td>\n",
       "      <td>0</td>\n",
       "      <td>0</td>\n",
       "      <td>0</td>\n",
       "    </tr>\n",
       "    <tr>\n",
       "      <th>1</th>\n",
       "      <td>ENST00000000233</td>\n",
       "      <td>0.013777</td>\n",
       "      <td>CAAACTG</td>\n",
       "      <td>0.041822</td>\n",
       "      <td>0.015164</td>\n",
       "      <td>0.457160</td>\n",
       "      <td>0.037795</td>\n",
       "      <td>0.015452</td>\n",
       "      <td>0.403096</td>\n",
       "      <td>0.059703</td>\n",
       "      <td>...</td>\n",
       "      <td>0</td>\n",
       "      <td>1</td>\n",
       "      <td>1</td>\n",
       "      <td>0</td>\n",
       "      <td>0</td>\n",
       "      <td>1</td>\n",
       "      <td>0</td>\n",
       "      <td>0</td>\n",
       "      <td>1</td>\n",
       "      <td>0</td>\n",
       "    </tr>\n",
       "    <tr>\n",
       "      <th>2</th>\n",
       "      <td>ENST00000000233</td>\n",
       "      <td>0.016714</td>\n",
       "      <td>GAAACAG</td>\n",
       "      <td>0.049941</td>\n",
       "      <td>0.013824</td>\n",
       "      <td>0.404457</td>\n",
       "      <td>0.042214</td>\n",
       "      <td>0.017473</td>\n",
       "      <td>0.292147</td>\n",
       "      <td>0.058172</td>\n",
       "      <td>...</td>\n",
       "      <td>0</td>\n",
       "      <td>1</td>\n",
       "      <td>1</td>\n",
       "      <td>1</td>\n",
       "      <td>0</td>\n",
       "      <td>0</td>\n",
       "      <td>0</td>\n",
       "      <td>0</td>\n",
       "      <td>1</td>\n",
       "      <td>0</td>\n",
       "    </tr>\n",
       "    <tr>\n",
       "      <th>3</th>\n",
       "      <td>ENST00000000233</td>\n",
       "      <td>0.017568</td>\n",
       "      <td>AGAACAT</td>\n",
       "      <td>0.075716</td>\n",
       "      <td>0.030996</td>\n",
       "      <td>0.703697</td>\n",
       "      <td>0.051139</td>\n",
       "      <td>0.013863</td>\n",
       "      <td>0.278368</td>\n",
       "      <td>0.043828</td>\n",
       "      <td>...</td>\n",
       "      <td>0</td>\n",
       "      <td>1</td>\n",
       "      <td>1</td>\n",
       "      <td>1</td>\n",
       "      <td>0</td>\n",
       "      <td>0</td>\n",
       "      <td>0</td>\n",
       "      <td>0</td>\n",
       "      <td>0</td>\n",
       "      <td>1</td>\n",
       "    </tr>\n",
       "    <tr>\n",
       "      <th>4</th>\n",
       "      <td>ENST00000000233</td>\n",
       "      <td>0.019491</td>\n",
       "      <td>AGGACAA</td>\n",
       "      <td>0.076394</td>\n",
       "      <td>0.030699</td>\n",
       "      <td>0.560454</td>\n",
       "      <td>0.072020</td>\n",
       "      <td>0.028289</td>\n",
       "      <td>0.577600</td>\n",
       "      <td>0.082485</td>\n",
       "      <td>...</td>\n",
       "      <td>1</td>\n",
       "      <td>1</td>\n",
       "      <td>1</td>\n",
       "      <td>1</td>\n",
       "      <td>0</td>\n",
       "      <td>0</td>\n",
       "      <td>1</td>\n",
       "      <td>0</td>\n",
       "      <td>0</td>\n",
       "      <td>0</td>\n",
       "    </tr>\n",
       "  </tbody>\n",
       "</table>\n",
       "<p>5 rows × 31 columns</p>\n",
       "</div>"
      ],
      "text/plain": [
       "     transcript_id  transcript_position nucleotides         0         1  \\\n",
       "0  ENST00000000233             0.012869     AAGACCA  0.055809  0.020057   \n",
       "1  ENST00000000233             0.013777     CAAACTG  0.041822  0.015164   \n",
       "2  ENST00000000233             0.016714     GAAACAG  0.049941  0.013824   \n",
       "3  ENST00000000233             0.017568     AGAACAT  0.075716  0.030996   \n",
       "4  ENST00000000233             0.019491     AGGACAA  0.076394  0.030699   \n",
       "\n",
       "          2         3         4         5         6  ...  p3_G  p4_A  p5_C  \\\n",
       "0  0.632866  0.056574  0.035630  0.626719  0.056097  ...     1     1     1   \n",
       "1  0.457160  0.037795  0.015452  0.403096  0.059703  ...     0     1     1   \n",
       "2  0.404457  0.042214  0.017473  0.292147  0.058172  ...     0     1     1   \n",
       "3  0.703697  0.051139  0.013863  0.278368  0.043828  ...     0     1     1   \n",
       "4  0.560454  0.072020  0.028289  0.577600  0.082485  ...     1     1     1   \n",
       "\n",
       "   p6_A  p6_C  p6_T  p7_A  p7_C  p7_G  p7_T  \n",
       "0     0     1     0     1     0     0     0  \n",
       "1     0     0     1     0     0     1     0  \n",
       "2     1     0     0     0     0     1     0  \n",
       "3     1     0     0     0     0     0     1  \n",
       "4     1     0     0     1     0     0     0  \n",
       "\n",
       "[5 rows x 31 columns]"
      ]
     },
     "execution_count": 13,
     "metadata": {},
     "output_type": "execute_result"
    }
   ],
   "source": [
    "df3.head()"
   ]
  },
  {
   "cell_type": "markdown",
   "id": "777e9f6c-fe7b-4d22-8a17-e067139b1fca",
   "metadata": {},
   "source": [
    "## Train test split"
   ]
  },
  {
   "cell_type": "code",
   "execution_count": 14,
   "id": "f252181b-5b31-4d1b-978f-11b8caed2cb6",
   "metadata": {},
   "outputs": [],
   "source": [
    "X = df3[['transcript_position', '0', '1', '2', '3', '4', '5', '6', '7', '8', 'p1_A', 'p1_C', 'p1_G', 'p1_T', 'p2_A', 'p2_G', 'p2_T', 'p3_A', 'p3_G', 'p4_A', 'p5_C', 'p6_A', 'p6_C', 'p6_T', 'p7_A', 'p7_C', 'p7_G', 'p7_T']]\n",
    "y = df3['label']"
   ]
  },
  {
   "cell_type": "code",
   "execution_count": 15,
   "id": "9d4e5fe5-a05c-4feb-8079-264d474e92ed",
   "metadata": {},
   "outputs": [],
   "source": [
    "Xtr, Xte, ytr, yte = train_test_split(X, y, test_size=0.2, random_state=42, stratify=y)"
   ]
  },
  {
   "cell_type": "markdown",
   "id": "6a383b0a-93d7-4e72-adb9-25b06318d625",
   "metadata": {},
   "source": [
    "## Collect models and results"
   ]
  },
  {
   "cell_type": "code",
   "execution_count": 16,
   "id": "4ec6f050-6683-4900-b140-5b72869eaf27",
   "metadata": {},
   "outputs": [],
   "source": [
    "models = []\n",
    "roc_aucs = []\n",
    "pr_aucs = []\n",
    "precisions = []\n",
    "recalls = []\n",
    "f1s = []\n",
    "roc_curves = []\n",
    "pr_curves = []"
   ]
  },
  {
   "cell_type": "markdown",
   "id": "0d9e92db-8d71-4b69-924e-387b9c980e4c",
   "metadata": {},
   "source": [
    "## Naive Bayes"
   ]
  },
  {
   "cell_type": "code",
   "execution_count": 17,
   "id": "d79e537a-aad2-46f9-a131-d4619cb910b3",
   "metadata": {
    "tags": []
   },
   "outputs": [
    {
     "name": "stdout",
     "output_type": "stream",
     "text": [
      "CPU times: user 59 ms, sys: 17 ms, total: 76 ms\n",
      "Wall time: 75.3 ms\n"
     ]
    },
    {
     "data": {
      "text/html": [
       "<style>#sk-container-id-1 {color: black;background-color: white;}#sk-container-id-1 pre{padding: 0;}#sk-container-id-1 div.sk-toggleable {background-color: white;}#sk-container-id-1 label.sk-toggleable__label {cursor: pointer;display: block;width: 100%;margin-bottom: 0;padding: 0.3em;box-sizing: border-box;text-align: center;}#sk-container-id-1 label.sk-toggleable__label-arrow:before {content: \"▸\";float: left;margin-right: 0.25em;color: #696969;}#sk-container-id-1 label.sk-toggleable__label-arrow:hover:before {color: black;}#sk-container-id-1 div.sk-estimator:hover label.sk-toggleable__label-arrow:before {color: black;}#sk-container-id-1 div.sk-toggleable__content {max-height: 0;max-width: 0;overflow: hidden;text-align: left;background-color: #f0f8ff;}#sk-container-id-1 div.sk-toggleable__content pre {margin: 0.2em;color: black;border-radius: 0.25em;background-color: #f0f8ff;}#sk-container-id-1 input.sk-toggleable__control:checked~div.sk-toggleable__content {max-height: 200px;max-width: 100%;overflow: auto;}#sk-container-id-1 input.sk-toggleable__control:checked~label.sk-toggleable__label-arrow:before {content: \"▾\";}#sk-container-id-1 div.sk-estimator input.sk-toggleable__control:checked~label.sk-toggleable__label {background-color: #d4ebff;}#sk-container-id-1 div.sk-label input.sk-toggleable__control:checked~label.sk-toggleable__label {background-color: #d4ebff;}#sk-container-id-1 input.sk-hidden--visually {border: 0;clip: rect(1px 1px 1px 1px);clip: rect(1px, 1px, 1px, 1px);height: 1px;margin: -1px;overflow: hidden;padding: 0;position: absolute;width: 1px;}#sk-container-id-1 div.sk-estimator {font-family: monospace;background-color: #f0f8ff;border: 1px dotted black;border-radius: 0.25em;box-sizing: border-box;margin-bottom: 0.5em;}#sk-container-id-1 div.sk-estimator:hover {background-color: #d4ebff;}#sk-container-id-1 div.sk-parallel-item::after {content: \"\";width: 100%;border-bottom: 1px solid gray;flex-grow: 1;}#sk-container-id-1 div.sk-label:hover label.sk-toggleable__label {background-color: #d4ebff;}#sk-container-id-1 div.sk-serial::before {content: \"\";position: absolute;border-left: 1px solid gray;box-sizing: border-box;top: 0;bottom: 0;left: 50%;z-index: 0;}#sk-container-id-1 div.sk-serial {display: flex;flex-direction: column;align-items: center;background-color: white;padding-right: 0.2em;padding-left: 0.2em;position: relative;}#sk-container-id-1 div.sk-item {position: relative;z-index: 1;}#sk-container-id-1 div.sk-parallel {display: flex;align-items: stretch;justify-content: center;background-color: white;position: relative;}#sk-container-id-1 div.sk-item::before, #sk-container-id-1 div.sk-parallel-item::before {content: \"\";position: absolute;border-left: 1px solid gray;box-sizing: border-box;top: 0;bottom: 0;left: 50%;z-index: -1;}#sk-container-id-1 div.sk-parallel-item {display: flex;flex-direction: column;z-index: 1;position: relative;background-color: white;}#sk-container-id-1 div.sk-parallel-item:first-child::after {align-self: flex-end;width: 50%;}#sk-container-id-1 div.sk-parallel-item:last-child::after {align-self: flex-start;width: 50%;}#sk-container-id-1 div.sk-parallel-item:only-child::after {width: 0;}#sk-container-id-1 div.sk-dashed-wrapped {border: 1px dashed gray;margin: 0 0.4em 0.5em 0.4em;box-sizing: border-box;padding-bottom: 0.4em;background-color: white;}#sk-container-id-1 div.sk-label label {font-family: monospace;font-weight: bold;display: inline-block;line-height: 1.2em;}#sk-container-id-1 div.sk-label-container {text-align: center;}#sk-container-id-1 div.sk-container {/* jupyter's `normalize.less` sets `[hidden] { display: none; }` but bootstrap.min.css set `[hidden] { display: none !important; }` so we also need the `!important` here to be able to override the default hidden behavior on the sphinx rendered scikit-learn.org. See: https://github.com/scikit-learn/scikit-learn/issues/21755 */display: inline-block !important;position: relative;}#sk-container-id-1 div.sk-text-repr-fallback {display: none;}</style><div id=\"sk-container-id-1\" class=\"sk-top-container\"><div class=\"sk-text-repr-fallback\"><pre>GaussianNB()</pre><b>In a Jupyter environment, please rerun this cell to show the HTML representation or trust the notebook. <br />On GitHub, the HTML representation is unable to render, please try loading this page with nbviewer.org.</b></div><div class=\"sk-container\" hidden><div class=\"sk-item\"><div class=\"sk-estimator sk-toggleable\"><input class=\"sk-toggleable__control sk-hidden--visually\" id=\"sk-estimator-id-1\" type=\"checkbox\" checked><label for=\"sk-estimator-id-1\" class=\"sk-toggleable__label sk-toggleable__label-arrow\">GaussianNB</label><div class=\"sk-toggleable__content\"><pre>GaussianNB()</pre></div></div></div></div></div>"
      ],
      "text/plain": [
       "GaussianNB()"
      ]
     },
     "execution_count": 17,
     "metadata": {},
     "output_type": "execute_result"
    }
   ],
   "source": [
    "%%time\n",
    "\n",
    "model = GaussianNB()\n",
    "model.fit(Xtr, ytr)"
   ]
  },
  {
   "cell_type": "code",
   "execution_count": 18,
   "id": "8d7abbaf-b098-4bc8-b1f0-b9a779725cd7",
   "metadata": {},
   "outputs": [],
   "source": [
    "# with open(os.path.join(MODEL_DIR, 'nb4.pickle'), 'wb') as f:\n",
    "#     pickle.dump(model, f)"
   ]
  },
  {
   "cell_type": "code",
   "execution_count": 19,
   "id": "5974b341-b9fc-4f4a-aa86-c843637ea030",
   "metadata": {},
   "outputs": [
    {
     "name": "stdout",
     "output_type": "stream",
     "text": [
      "GaussianNB()\n"
     ]
    }
   ],
   "source": [
    "with open(os.path.join(MODEL_DIR, 'nb4.pickle'), 'rb') as f:\n",
    "    model = pickle.load(f)\n",
    "    print(model)"
   ]
  },
  {
   "cell_type": "code",
   "execution_count": 20,
   "id": "f898006f-84f9-4063-a468-0e2e03b4c560",
   "metadata": {},
   "outputs": [],
   "source": [
    "yhat_probs = model.predict_proba(Xte)\n",
    "yhat = model.predict(Xte)\n",
    "yhat1_probs = yhat_probs[:, 1]"
   ]
  },
  {
   "cell_type": "code",
   "execution_count": 21,
   "id": "7f52a91c-27f4-4a25-83b0-583f48adbb7d",
   "metadata": {},
   "outputs": [],
   "source": [
    "models.append('nb')\n",
    "roc_aucs.append(roc_auc_score(yte, yhat1_probs))\n",
    "pr_aucs.append(average_precision_score(yte, yhat))\n",
    "precisions.append(precision_score(yte, yhat))\n",
    "recalls.append(recall_score(yte, yhat))\n",
    "f1s.append(f1_score(yte, yhat))\n",
    "roc_curves.append(roc_curve(yte, yhat1_probs))\n",
    "pr_curves.append(precision_recall_curve(yte, yhat1_probs))"
   ]
  },
  {
   "cell_type": "markdown",
   "id": "e02d55f0-2314-4636-abbc-108a3776de18",
   "metadata": {},
   "source": [
    "## XGBoost"
   ]
  },
  {
   "cell_type": "code",
   "execution_count": 22,
   "id": "3a2bb391-139c-4ff0-9a49-74cf26a41e4d",
   "metadata": {},
   "outputs": [
    {
     "name": "stdout",
     "output_type": "stream",
     "text": [
      "Estimate: 21.253\n"
     ]
    }
   ],
   "source": [
    "from collections import Counter\n",
    "\n",
    "# count examples in each class\n",
    "count_label = Counter(ytr)\n",
    "# estimate scale_pos_weight value\n",
    "estimate = count_label[0] / count_label[1]\n",
    "print('Estimate: %.3f' % estimate)"
   ]
  },
  {
   "cell_type": "code",
   "execution_count": 23,
   "id": "93fa78a5-8a15-4778-b11e-f600bc20705a",
   "metadata": {},
   "outputs": [],
   "source": [
    "from math import ceil\n",
    "\n",
    "model = XGBClassifier(\n",
    "    objective='binary:logistic',\n",
    "    scale_pos_weight = ceil(estimate),\n",
    "    max_delta_step=1,\n",
    "    seed=42,\n",
    "    verbosity=1\n",
    ")"
   ]
  },
  {
   "cell_type": "code",
   "execution_count": 24,
   "id": "5f3cdc40-f8fb-428c-8f09-28c314dcecc9",
   "metadata": {},
   "outputs": [],
   "source": [
    "# model.fit(Xtr, ytr)"
   ]
  },
  {
   "cell_type": "code",
   "execution_count": 25,
   "id": "e20501fa-2ca2-4531-a632-ce6c613d8f96",
   "metadata": {},
   "outputs": [],
   "source": [
    "# model.save_model(os.path.join(MODEL_DIR, 'xgb4.model'))"
   ]
  },
  {
   "cell_type": "code",
   "execution_count": 26,
   "id": "aeaf117f-33ec-4dc2-8223-a8c147a50f25",
   "metadata": {},
   "outputs": [
    {
     "name": "stdout",
     "output_type": "stream",
     "text": [
      "XGBClassifier(base_score=0.5, booster='gbtree', callbacks=None,\n",
      "              colsample_bylevel=1, colsample_bynode=1, colsample_bytree=1,\n",
      "              early_stopping_rounds=None, enable_categorical=False,\n",
      "              eval_metric=None, gamma=0, gpu_id=-1, grow_policy='depthwise',\n",
      "              importance_type=None, interaction_constraints='',\n",
      "              learning_rate=0.300000012, max_bin=256, max_cat_to_onehot=4,\n",
      "              max_delta_step=1, max_depth=6, max_leaves=0, min_child_weight=1,\n",
      "              missing=nan, monotone_constraints='()', n_estimators=100,\n",
      "              n_jobs=0, num_parallel_tree=1, predictor='auto', random_state=0,\n",
      "              reg_alpha=0, reg_lambda=1, ...)\n"
     ]
    }
   ],
   "source": [
    "# model = XGBClassifier()  # init model\n",
    "model.load_model(os.path.join(MODEL_DIR, 'xgb4.model'))\n",
    "print(model)"
   ]
  },
  {
   "cell_type": "code",
   "execution_count": 27,
   "id": "5cdc3a00-be9c-4241-897f-6c8d16d48d5a",
   "metadata": {},
   "outputs": [],
   "source": [
    "# xgb.plot_tree(model, num_trees=2)\n",
    "# xgb.to_graphviz(model, num_trees=2)"
   ]
  },
  {
   "cell_type": "code",
   "execution_count": 28,
   "id": "1e3de526-657f-47eb-a98a-ed0bc94eb265",
   "metadata": {},
   "outputs": [
    {
     "data": {
      "text/plain": [
       "<AxesSubplot: title={'center': 'Feature importance'}, xlabel='F score', ylabel='Features'>"
      ]
     },
     "execution_count": 28,
     "metadata": {},
     "output_type": "execute_result"
    },
    {
     "data": {
      "image/png": "[encoded data removed]",
      "text/plain": [
       "<Figure size 640x480 with 1 Axes>"
      ]
     },
     "metadata": {},
     "output_type": "display_data"
    }
   ],
   "source": [
    "xgb.plot_importance(model)"
   ]
  },
  {
   "cell_type": "code",
   "execution_count": 29,
   "id": "0627b6bf-eb5f-4c39-b734-e3f44ba5ac9a",
   "metadata": {},
   "outputs": [],
   "source": [
    "yhat_probs = model.predict_proba(Xte, iteration_range=(0, model.best_iteration + 1))\n",
    "yhat = model.predict(Xte, iteration_range=(0, model.best_iteration + 1))\n",
    "yhat1_probs = yhat_probs[:, 1]"
   ]
  },
  {
   "cell_type": "code",
   "execution_count": 30,
   "id": "d17346a8-972a-4a83-8dc2-6f4bc4357f88",
   "metadata": {},
   "outputs": [],
   "source": [
    "# with open(os.path.join(MODEL_DIR, 'xgb4_yhat_probs.pickle'), 'wb') as f:\n",
    "#     pickle.dump(yhat_probs, f)\n",
    "    \n",
    "# with open(os.path.join(MODEL_DIR, 'xgb4_yhat.pickle'), 'wb') as f:\n",
    "#     pickle.dump(yhat, f)"
   ]
  },
  {
   "cell_type": "code",
   "execution_count": 31,
   "id": "c3b37678-2075-4f11-a1dd-642a761985de",
   "metadata": {},
   "outputs": [],
   "source": [
    "models.append('xgb')\n",
    "roc_aucs.append(roc_auc_score(yte, yhat1_probs))\n",
    "pr_aucs.append(average_precision_score(yte, yhat))\n",
    "precisions.append(precision_score(yte, yhat))\n",
    "recalls.append(recall_score(yte, yhat))\n",
    "f1s.append(f1_score(yte, yhat))\n",
    "roc_curves.append(roc_curve(yte, yhat1_probs))\n",
    "pr_curves.append(precision_recall_curve(yte, yhat1_probs))"
   ]
  },
  {
   "cell_type": "markdown",
   "id": "10804a5f-c661-4686-a7fc-f1e6d41676ee",
   "metadata": {},
   "source": [
    "## Evaluate models"
   ]
  },
  {
   "cell_type": "code",
   "execution_count": 32,
   "id": "29a1c037-34fa-4b65-a27c-1bb207f86150",
   "metadata": {},
   "outputs": [
    {
     "name": "stdout",
     "output_type": "stream",
     "text": [
      "nb: ROC AUC = 0.798\n",
      "nb: PR AUC = 0.094\n",
      "nb: Precision = 0.171\n",
      "nb: Recall = 0.391\n",
      "nb: F1 = 0.238\n",
      "xgb: ROC AUC = 0.892\n",
      "xgb: PR AUC = 0.194\n",
      "xgb: Precision = 0.252\n",
      "xgb: Recall = 0.720\n",
      "xgb: F1 = 0.374\n"
     ]
    },
    {
     "data": {
      "image/png": "[encoded data removed]",
      "text/plain": [
       "<Figure size 1200x400 with 2 Axes>"
      ]
     },
     "metadata": {},
     "output_type": "display_data"
    }
   ],
   "source": [
    "plt.figure(figsize=(12, 4))\n",
    "random_yhat_probs = np.zeros(len(yte))\n",
    "random_fpr, random_tpr, _ = roc_curve(yte, random_yhat_probs)\n",
    "\n",
    "# relevant metrics\n",
    "# roc_auc_score(yte, yhat1_probs)\n",
    "# average_precision_score(yte, yhat)\n",
    "# precision_score(yte, yhat)\n",
    "# recall_score(yte, yhat)\n",
    "# f1_score(yte, yhat)\n",
    "# roc_curve(yte, yhat1_probs)\n",
    "# precision_recall_curve(yte, yhat1_probs)\n",
    "\n",
    "for _model, _roc_auc, _pr_auc, _precision, _recall, _f1, _roc_curve, _pr_curve in zip(models, roc_aucs, pr_aucs, precisions, recalls, f1s, roc_curves, pr_curves):\n",
    "    print(f'{_model}: ROC AUC = {_roc_auc:.3f}')\n",
    "    print(f'{_model}: PR AUC = {_pr_auc:.3f}')\n",
    "    print(f'{_model}: Precision = {_precision:.3f}')\n",
    "    print(f'{_model}: Recall = {_recall:.3f}')\n",
    "    print(f'{_model}: F1 = {_f1:.3f}')\n",
    "\n",
    "\n",
    "    # ROC\n",
    "    fpr, tpr, _ = _roc_curve\n",
    "\n",
    "    plt.subplot(1, 2, 1)\n",
    "    plt.plot(fpr, tpr, marker='.', label=_model)\n",
    "\n",
    "    plt.title('ROC Curve')\n",
    "    plt.xlabel('False Positive Rate')\n",
    "    plt.ylabel('True Positive Rate')\n",
    "    plt.legend()\n",
    "\n",
    "    # PR\n",
    "    precision, recall, _ = _pr_curve\n",
    "\n",
    "    plt.subplot(1, 2, 2)\n",
    "    no_skill = len(yte[yte==1]) / len(yte)\n",
    "    plt.plot(recall, precision, marker='.', label=_model)\n",
    "\n",
    "    plt.title('PR Curve')\n",
    "    plt.xlabel('Recall')\n",
    "    plt.ylabel('Precision')\n",
    "    plt.legend()\n",
    "\n",
    "plt.subplot(1, 2, 1)\n",
    "plt.plot(random_fpr, random_tpr, linestyle='--', label='Random')\n",
    "plt.subplot(1, 2, 2)\n",
    "plt.plot([0, 1], [no_skill, no_skill], linestyle='--', label='Random')\n",
    "plt.show()"
   ]
  },
  {
   "cell_type": "markdown",
   "id": "11454bbf-a359-4836-83e2-a010c7f2e9d2",
   "metadata": {},
   "source": [
    "## Test training and prediction from script"
   ]
  },
  {
   "cell_type": "code",
   "execution_count": 35,
   "id": "3a11371d-68ba-4a68-b5c1-84dade2eee87",
   "metadata": {},
   "outputs": [
    {
     "name": "stdout",
     "output_type": "stream",
     "text": [
      "[INFO] Preprocessing data...\n",
      "[INFO] Initializing model...\n",
      "[INFO] Fitting model...\n",
      "[INFO] Saving model...\n",
      "[INFO] Done.\n"
     ]
    }
   ],
   "source": [
    "!python3 ../scripts/train_xgb.py -d ../data/data.json -l ../data/data.info -s ../out.model"
   ]
  },
  {
   "cell_type": "code",
   "execution_count": 39,
   "id": "a6e7dd0a-69ed-489d-8cd0-37f4218d57b9",
   "metadata": {},
   "outputs": [
    {
     "name": "stdout",
     "output_type": "stream",
     "text": [
      "[INFO] Preprocessing data...\n",
      "[INFO] Loading model...\n",
      "[INFO] Running inference...\n",
      "[INFO] Saving predictions...\n",
      "../scripts/predict_xgb.py:74: SettingWithCopyWarning: \n",
      "A value is trying to be set on a copy of a slice from a DataFrame\n",
      "\n",
      "See the caveats in the documentation: https://pandas.pydata.org/pandas-docs/stable/user_guide/indexing.html#returning-a-view-versus-a-copy\n",
      "  df_res.rename(columns={\"transcript_position0\": \"transcript_position\"}, inplace=True)\n",
      "[INFO] Done.\n"
     ]
    }
   ],
   "source": [
    "!python3 ../scripts/predict_xgb.py -d ../data/data.json -m ../out.model -s ../dataset0.csv"
   ]
  }
 ],
 "metadata": {
  "kernelspec": {
   "display_name": "Python 3 (ipykernel)",
   "language": "python",
   "name": "python3"
  },
  "language_info": {
   "codemirror_mode": {
    "name": "ipython",
    "version": 3
   },
   "file_extension": ".py",
   "mimetype": "text/x-python",
   "name": "python",
   "nbconvert_exporter": "python",
   "pygments_lexer": "ipython3",
   "version": "3.8.10"
  }
 },
 "nbformat": 4,
 "nbformat_minor": 5
}
