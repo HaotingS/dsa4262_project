{
 "cells": [
  {
   "cell_type": "code",
   "execution_count": 1,
   "id": "0b123dcd",
   "metadata": {},
   "outputs": [
    {
     "name": "stderr",
     "output_type": "stream",
     "text": [
      "<frozen importlib._bootstrap>:228: RuntimeWarning: scipy._lib.messagestream.MessageStream size changed, may indicate binary incompatibility. Expected 56 from C header, got 64 from PyObject\n"
     ]
    }
   ],
   "source": [
    "import os\n",
    "import pandas as pd\n",
    "import numpy as np\n",
    "import matplotlib.pyplot as plt\n",
    "import seaborn as sns\n",
    "import warnings\n",
    "\n",
    "from collections import Counter\n",
    "from sklearn import preprocessing\n",
    "from sklearn.model_selection import train_test_split\n",
    "from sklearn.metrics import accuracy_score, precision_score, recall_score, f1_score, \\\n",
    "    roc_curve, precision_recall_curve, roc_auc_score, \\\n",
    "    confusion_matrix, classification_report\n",
    "from sklearn.linear_model import LogisticRegression\n",
    "\n",
    "from imblearn.over_sampling import SMOTE\n",
    "from imblearn.combine import SMOTEENN\n",
    "\n",
    "%matplotlib inline\n",
    "plt.style.use('ggplot')\n",
    "warnings.filterwarnings(\"ignore\")"
   ]
  },
  {
   "cell_type": "code",
   "execution_count": 2,
   "id": "0af9a537",
   "metadata": {},
   "outputs": [
    {
     "data": {
      "text/html": [
       "<div>\n",
       "<style scoped>\n",
       "    .dataframe tbody tr th:only-of-type {\n",
       "        vertical-align: middle;\n",
       "    }\n",
       "\n",
       "    .dataframe tbody tr th {\n",
       "        vertical-align: top;\n",
       "    }\n",
       "\n",
       "    .dataframe thead th {\n",
       "        text-align: right;\n",
       "    }\n",
       "</style>\n",
       "<table border=\"1\" class=\"dataframe\">\n",
       "  <thead>\n",
       "    <tr style=\"text-align: right;\">\n",
       "      <th></th>\n",
       "      <th>transcript_id</th>\n",
       "      <th>transcript_position</th>\n",
       "      <th>nucleotides</th>\n",
       "      <th>0</th>\n",
       "      <th>1</th>\n",
       "      <th>2</th>\n",
       "      <th>3</th>\n",
       "      <th>4</th>\n",
       "      <th>5</th>\n",
       "      <th>6</th>\n",
       "      <th>7</th>\n",
       "      <th>8</th>\n",
       "      <th>gene_id</th>\n",
       "      <th>label</th>\n",
       "    </tr>\n",
       "  </thead>\n",
       "  <tbody>\n",
       "    <tr>\n",
       "      <th>0</th>\n",
       "      <td>ENST00000000233</td>\n",
       "      <td>0.012869</td>\n",
       "      <td>AAGACCA</td>\n",
       "      <td>0.011239</td>\n",
       "      <td>0.009548</td>\n",
       "      <td>0.649123</td>\n",
       "      <td>0.117647</td>\n",
       "      <td>0.050283</td>\n",
       "      <td>0.578164</td>\n",
       "      <td>0.075390</td>\n",
       "      <td>0.058543</td>\n",
       "      <td>0.281707</td>\n",
       "      <td>ENSG00000004059</td>\n",
       "      <td>0.0</td>\n",
       "    </tr>\n",
       "    <tr>\n",
       "      <th>1</th>\n",
       "      <td>ENST00000000233</td>\n",
       "      <td>0.012869</td>\n",
       "      <td>AAGACCA</td>\n",
       "      <td>0.039294</td>\n",
       "      <td>0.011831</td>\n",
       "      <td>0.649123</td>\n",
       "      <td>0.049729</td>\n",
       "      <td>0.022461</td>\n",
       "      <td>0.627792</td>\n",
       "      <td>0.085258</td>\n",
       "      <td>0.033525</td>\n",
       "      <td>0.242683</td>\n",
       "      <td>ENSG00000004059</td>\n",
       "      <td>0.0</td>\n",
       "    </tr>\n",
       "    <tr>\n",
       "      <th>2</th>\n",
       "      <td>ENST00000000233</td>\n",
       "      <td>0.012869</td>\n",
       "      <td>AAGACCA</td>\n",
       "      <td>0.025266</td>\n",
       "      <td>0.018581</td>\n",
       "      <td>0.448622</td>\n",
       "      <td>0.087575</td>\n",
       "      <td>0.058051</td>\n",
       "      <td>0.602978</td>\n",
       "      <td>0.032761</td>\n",
       "      <td>0.010845</td>\n",
       "      <td>0.226829</td>\n",
       "      <td>ENSG00000004059</td>\n",
       "      <td>0.0</td>\n",
       "    </tr>\n",
       "    <tr>\n",
       "      <th>3</th>\n",
       "      <td>ENST00000000233</td>\n",
       "      <td>0.012869</td>\n",
       "      <td>AAGACCA</td>\n",
       "      <td>0.019605</td>\n",
       "      <td>0.009548</td>\n",
       "      <td>0.649123</td>\n",
       "      <td>0.048702</td>\n",
       "      <td>0.024112</td>\n",
       "      <td>0.677419</td>\n",
       "      <td>0.032761</td>\n",
       "      <td>0.019819</td>\n",
       "      <td>0.236585</td>\n",
       "      <td>ENSG00000004059</td>\n",
       "      <td>0.0</td>\n",
       "    </tr>\n",
       "    <tr>\n",
       "      <th>4</th>\n",
       "      <td>ENST00000000233</td>\n",
       "      <td>0.012869</td>\n",
       "      <td>AAGACCA</td>\n",
       "      <td>0.042082</td>\n",
       "      <td>0.013725</td>\n",
       "      <td>0.586466</td>\n",
       "      <td>0.007335</td>\n",
       "      <td>0.018917</td>\n",
       "      <td>0.665012</td>\n",
       "      <td>0.111901</td>\n",
       "      <td>0.038148</td>\n",
       "      <td>0.258537</td>\n",
       "      <td>ENSG00000004059</td>\n",
       "      <td>0.0</td>\n",
       "    </tr>\n",
       "    <tr>\n",
       "      <th>...</th>\n",
       "      <td>...</td>\n",
       "      <td>...</td>\n",
       "      <td>...</td>\n",
       "      <td>...</td>\n",
       "      <td>...</td>\n",
       "      <td>...</td>\n",
       "      <td>...</td>\n",
       "      <td>...</td>\n",
       "      <td>...</td>\n",
       "      <td>...</td>\n",
       "      <td>...</td>\n",
       "      <td>...</td>\n",
       "      <td>...</td>\n",
       "      <td>...</td>\n",
       "    </tr>\n",
       "    <tr>\n",
       "      <th>11026929</th>\n",
       "      <td>ENST00000641834</td>\n",
       "      <td>0.090244</td>\n",
       "      <td>TTGACAT</td>\n",
       "      <td>0.021295</td>\n",
       "      <td>0.035919</td>\n",
       "      <td>0.436090</td>\n",
       "      <td>0.029192</td>\n",
       "      <td>0.049312</td>\n",
       "      <td>0.503722</td>\n",
       "      <td>0.082297</td>\n",
       "      <td>0.010192</td>\n",
       "      <td>0.187805</td>\n",
       "      <td>ENSG00000167747</td>\n",
       "      <td>0.0</td>\n",
       "    </tr>\n",
       "    <tr>\n",
       "      <th>11026930</th>\n",
       "      <td>ENST00000641834</td>\n",
       "      <td>0.090244</td>\n",
       "      <td>TTGACAT</td>\n",
       "      <td>0.042082</td>\n",
       "      <td>0.008820</td>\n",
       "      <td>0.448622</td>\n",
       "      <td>0.031685</td>\n",
       "      <td>0.059508</td>\n",
       "      <td>0.429280</td>\n",
       "      <td>0.157292</td>\n",
       "      <td>0.013456</td>\n",
       "      <td>0.165854</td>\n",
       "      <td>ENSG00000167747</td>\n",
       "      <td>0.0</td>\n",
       "    </tr>\n",
       "    <tr>\n",
       "      <th>11026931</th>\n",
       "      <td>ENST00000641834</td>\n",
       "      <td>0.090244</td>\n",
       "      <td>TTGACAT</td>\n",
       "      <td>0.046899</td>\n",
       "      <td>0.021787</td>\n",
       "      <td>0.398496</td>\n",
       "      <td>0.017016</td>\n",
       "      <td>0.031735</td>\n",
       "      <td>0.466501</td>\n",
       "      <td>0.014802</td>\n",
       "      <td>0.011661</td>\n",
       "      <td>0.296341</td>\n",
       "      <td>ENSG00000167747</td>\n",
       "      <td>0.0</td>\n",
       "    </tr>\n",
       "    <tr>\n",
       "      <th>11026932</th>\n",
       "      <td>ENST00000641834</td>\n",
       "      <td>0.090244</td>\n",
       "      <td>TTGACAT</td>\n",
       "      <td>0.008450</td>\n",
       "      <td>0.010859</td>\n",
       "      <td>0.448622</td>\n",
       "      <td>0.054789</td>\n",
       "      <td>0.050283</td>\n",
       "      <td>0.404467</td>\n",
       "      <td>0.049142</td>\n",
       "      <td>0.023409</td>\n",
       "      <td>0.192683</td>\n",
       "      <td>ENSG00000167747</td>\n",
       "      <td>0.0</td>\n",
       "    </tr>\n",
       "    <tr>\n",
       "      <th>11026933</th>\n",
       "      <td>ENST00000641834</td>\n",
       "      <td>0.090244</td>\n",
       "      <td>TTGACAT</td>\n",
       "      <td>0.033632</td>\n",
       "      <td>0.014745</td>\n",
       "      <td>0.461153</td>\n",
       "      <td>0.010048</td>\n",
       "      <td>0.048243</td>\n",
       "      <td>0.528536</td>\n",
       "      <td>0.174067</td>\n",
       "      <td>0.008996</td>\n",
       "      <td>0.185366</td>\n",
       "      <td>ENSG00000167747</td>\n",
       "      <td>0.0</td>\n",
       "    </tr>\n",
       "  </tbody>\n",
       "</table>\n",
       "<p>11026934 rows × 14 columns</p>\n",
       "</div>"
      ],
      "text/plain": [
       "            transcript_id  transcript_position nucleotides         0  \\\n",
       "0         ENST00000000233             0.012869     AAGACCA  0.011239   \n",
       "1         ENST00000000233             0.012869     AAGACCA  0.039294   \n",
       "2         ENST00000000233             0.012869     AAGACCA  0.025266   \n",
       "3         ENST00000000233             0.012869     AAGACCA  0.019605   \n",
       "4         ENST00000000233             0.012869     AAGACCA  0.042082   \n",
       "...                   ...                  ...         ...       ...   \n",
       "11026929  ENST00000641834             0.090244     TTGACAT  0.021295   \n",
       "11026930  ENST00000641834             0.090244     TTGACAT  0.042082   \n",
       "11026931  ENST00000641834             0.090244     TTGACAT  0.046899   \n",
       "11026932  ENST00000641834             0.090244     TTGACAT  0.008450   \n",
       "11026933  ENST00000641834             0.090244     TTGACAT  0.033632   \n",
       "\n",
       "                 1         2         3         4         5         6  \\\n",
       "0         0.009548  0.649123  0.117647  0.050283  0.578164  0.075390   \n",
       "1         0.011831  0.649123  0.049729  0.022461  0.627792  0.085258   \n",
       "2         0.018581  0.448622  0.087575  0.058051  0.602978  0.032761   \n",
       "3         0.009548  0.649123  0.048702  0.024112  0.677419  0.032761   \n",
       "4         0.013725  0.586466  0.007335  0.018917  0.665012  0.111901   \n",
       "...            ...       ...       ...       ...       ...       ...   \n",
       "11026929  0.035919  0.436090  0.029192  0.049312  0.503722  0.082297   \n",
       "11026930  0.008820  0.448622  0.031685  0.059508  0.429280  0.157292   \n",
       "11026931  0.021787  0.398496  0.017016  0.031735  0.466501  0.014802   \n",
       "11026932  0.010859  0.448622  0.054789  0.050283  0.404467  0.049142   \n",
       "11026933  0.014745  0.461153  0.010048  0.048243  0.528536  0.174067   \n",
       "\n",
       "                 7         8          gene_id  label  \n",
       "0         0.058543  0.281707  ENSG00000004059    0.0  \n",
       "1         0.033525  0.242683  ENSG00000004059    0.0  \n",
       "2         0.010845  0.226829  ENSG00000004059    0.0  \n",
       "3         0.019819  0.236585  ENSG00000004059    0.0  \n",
       "4         0.038148  0.258537  ENSG00000004059    0.0  \n",
       "...            ...       ...              ...    ...  \n",
       "11026929  0.010192  0.187805  ENSG00000167747    0.0  \n",
       "11026930  0.013456  0.165854  ENSG00000167747    0.0  \n",
       "11026931  0.011661  0.296341  ENSG00000167747    0.0  \n",
       "11026932  0.023409  0.192683  ENSG00000167747    0.0  \n",
       "11026933  0.008996  0.185366  ENSG00000167747    0.0  \n",
       "\n",
       "[11026934 rows x 14 columns]"
      ]
     },
     "execution_count": 2,
     "metadata": {},
     "output_type": "execute_result"
    }
   ],
   "source": [
    "df = pd.read_csv(\"../data/df_processed.csv\")\n",
    "df"
   ]
  },
  {
   "cell_type": "code",
   "execution_count": 3,
   "id": "4a458827",
   "metadata": {},
   "outputs": [
    {
     "data": {
      "text/plain": [
       "<AxesSubplot:xlabel='label', ylabel='count'>"
      ]
     },
     "execution_count": 3,
     "metadata": {},
     "output_type": "execute_result"
    },
    {
     "data": {
      "image/png": "[encoded data removed]",
      "text/plain": [
       "<Figure size 432x288 with 1 Axes>"
      ]
     },
     "metadata": {},
     "output_type": "display_data"
    }
   ],
   "source": [
    "sns.countplot(x=df['label'])"
   ]
  },
  {
   "cell_type": "code",
   "execution_count": 4,
   "id": "a7ec3019",
   "metadata": {},
   "outputs": [],
   "source": [
    "X = df[['0', '1', '2', '3', '4', '5', '6', '7', '8']]\n",
    "y = df['label']"
   ]
  },
  {
   "cell_type": "code",
   "execution_count": 5,
   "id": "4e328fdf",
   "metadata": {},
   "outputs": [],
   "source": [
    "X_train, X_test, y_train, y_test = train_test_split(X, y, test_size=0.2, random_state=42)"
   ]
  },
  {
   "cell_type": "code",
   "execution_count": 6,
   "id": "a2b95e4c",
   "metadata": {},
   "outputs": [
    {
     "data": {
      "text/plain": [
       "Counter({0.0: 8422019, 1.0: 399528})"
      ]
     },
     "execution_count": 6,
     "metadata": {},
     "output_type": "execute_result"
    }
   ],
   "source": [
    "Counter(y_train)"
   ]
  },
  {
   "cell_type": "markdown",
   "id": "9f8e9d68",
   "metadata": {},
   "source": [
    "# Smote"
   ]
  },
  {
   "cell_type": "code",
   "execution_count": 12,
   "id": "94a64e21",
   "metadata": {},
   "outputs": [],
   "source": [
    "sm = SMOTE(sampling_strategy=0.5, k_neighbors=5, random_state=42)\n",
    "X_train_smote, y_train_smote = sm.fit_resample(X_train, y_train)"
   ]
  },
  {
   "cell_type": "code",
   "execution_count": 13,
   "id": "71659d91",
   "metadata": {},
   "outputs": [
    {
     "data": {
      "text/plain": [
       "Counter({0.0: 8422019, 1.0: 4211009})"
      ]
     },
     "execution_count": 13,
     "metadata": {},
     "output_type": "execute_result"
    }
   ],
   "source": [
    "Counter(y_train_smote)"
   ]
  },
  {
   "cell_type": "markdown",
   "id": "c5c63e0b",
   "metadata": {},
   "source": [
    "# Smote + ENN"
   ]
  },
  {
   "cell_type": "code",
   "execution_count": 9,
   "id": "a4329f7a",
   "metadata": {},
   "outputs": [],
   "source": [
    "# smenn = SMOTEENN(n_jobs=-1, random_state=42)\n",
    "# X_train_smoteenn, y_train_smoteenn = smenn.fit_resample(X_train, y_train)"
   ]
  },
  {
   "cell_type": "markdown",
   "id": "edd9fdeb",
   "metadata": {},
   "source": [
    "# Logistic Regression"
   ]
  },
  {
   "cell_type": "code",
   "execution_count": 14,
   "id": "4230a1d5",
   "metadata": {},
   "outputs": [
    {
     "data": {
      "text/plain": [
       "array([0.19885834, 0.3411456 , 0.44832932, ..., 0.25433059, 0.56317926,\n",
       "       0.48899436])"
      ]
     },
     "execution_count": 14,
     "metadata": {},
     "output_type": "execute_result"
    }
   ],
   "source": [
    "log_model = LogisticRegression()\n",
    "log_model.fit(X_train_smote, y_train_smote)\n",
    "\n",
    "y_pred = log_model.predict(X_test)\n",
    "y_pred_prob = log_model.predict_proba(X_test)\n",
    "y_pred_prob = y_pred_prob[:, 1]\n",
    "y_pred_prob"
   ]
  },
  {
   "cell_type": "code",
   "execution_count": 15,
   "id": "95c1178d",
   "metadata": {},
   "outputs": [
    {
     "name": "stdout",
     "output_type": "stream",
     "text": [
      "ROC AUC = 0.682\n",
      "F1 = 0.126\n"
     ]
    },
    {
     "data": {
      "image/png": "[encoded data removed]",
      "text/plain": [
       "<Figure size 864x288 with 2 Axes>"
      ]
     },
     "metadata": {},
     "output_type": "display_data"
    }
   ],
   "source": [
    "# evaluate predictions\n",
    "roc = roc_auc_score(y_test, y_pred_prob)\n",
    "print(f'ROC AUC = {roc:.3f}')\n",
    "f1score = f1_score(y_test, y_pred)\n",
    "print(f'F1 = {f1score:.3f}')\n",
    "\n",
    "\n",
    "# create random classifier\n",
    "rc_prob = [0 for _ in range(len(y_test))]\n",
    "\n",
    "# roc curves\n",
    "rc_fpr, rc_tpr, _ = roc_curve(y_test, rc_prob)\n",
    "y_fpr, y_tpr, _ = roc_curve(y_test, y_pred_prob)\n",
    "\n",
    "# pr curves\n",
    "rc_precision, rc_recall, _ = precision_recall_curve(y_test, rc_prob)\n",
    "y_precision, y_recall, _ = precision_recall_curve(y_test, y_pred)\n",
    "\n",
    "# plot the roc curve for the model\n",
    "plt.figure(figsize=(12, 4))\n",
    "\n",
    "plt.subplot(1, 2, 1)\n",
    "plt.plot(rc_fpr, rc_tpr, linestyle='--', label='Random Classifier')\n",
    "plt.plot(y_fpr, y_tpr, marker='.', label='Logistic Regression')\n",
    "plt.title('ROC Curve')\n",
    "plt.xlabel('False Positive Rate')\n",
    "plt.ylabel('True Positive Rate')\n",
    "plt.legend()\n",
    "\n",
    "plt.subplot(1, 2, 2)\n",
    "random_classifier = len(y_test[y_test==1]) / len(y_test)\n",
    "plt.plot([0, 1], [random_classifier, random_classifier], linestyle='--', label='Random Classifier')\n",
    "plt.plot(y_recall, y_precision, marker='.', label='Logistic Regression')\n",
    "plt.title('PR Curve')\n",
    "plt.xlabel('Recall')\n",
    "plt.ylabel('Precision')\n",
    "plt.legend()\n",
    "\n",
    "# show the plot\n",
    "plt.show()"
   ]
  }
 ],
 "metadata": {
  "kernelspec": {
   "display_name": "Python 3 (ipykernel)",
   "language": "python",
   "name": "python3"
  },
  "language_info": {
   "codemirror_mode": {
    "name": "ipython",
    "version": 3
   },
   "file_extension": ".py",
   "mimetype": "text/x-python",
   "name": "python",
   "nbconvert_exporter": "python",
   "pygments_lexer": "ipython3",
   "version": "3.9.7"
  }
 },
 "nbformat": 4,
 "nbformat_minor": 5
}
