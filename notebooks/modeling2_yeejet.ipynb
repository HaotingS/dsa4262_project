{
 "cells": [
  {
   "cell_type": "markdown",
   "id": "5092e1c4-7eb0-405b-a360-78327f8d553e",
   "metadata": {},
   "source": [
    "# Modeling 2\n",
    "* Scale numerical features.\n",
    "* Aggregate `transcript_id`, `transcript_position`, `nucleotides` using mean."
   ]
  },
  {
   "cell_type": "code",
   "execution_count": 1,
   "id": "50b3fb15-c7eb-4f85-8648-3344303c0fe1",
   "metadata": {},
   "outputs": [],
   "source": [
    "import os\n",
    "import pandas as pd\n",
    "import numpy as np\n",
    "import matplotlib.pyplot as plt\n",
    "import seaborn as sns\n",
    "import warnings\n",
    "import pickle\n",
    "import xgboost as xgb\n",
    "\n",
    "from sklearn import preprocessing\n",
    "from sklearn.model_selection import train_test_split\n",
    "from sklearn.naive_bayes import GaussianNB\n",
    "from sklearn.neighbors import KNeighborsClassifier\n",
    "from sklearn.svm import LinearSVC\n",
    "from sklearn.discriminant_analysis import \\\n",
    "    LinearDiscriminantAnalysis, QuadraticDiscriminantAnalysis\n",
    "from sklearn.model_selection import \\\n",
    "    StratifiedKFold, GridSearchCV\n",
    "from sklearn.metrics import \\\n",
    "    accuracy_score, precision_score, recall_score, f1_score, \\\n",
    "    roc_curve, precision_recall_curve, \\\n",
    "    roc_auc_score, average_precision_score, \\\n",
    "    confusion_matrix, classification_report\n",
    "from xgboost import XGBClassifier \n",
    "from math import floor\n",
    "\n",
    "%matplotlib inline\n",
    "plt.style.use('default')\n",
    "warnings.filterwarnings(\"ignore\")\n",
    "\n",
    "DATA_DIR = \"../data\"  # save data locally for faster read / write\n",
    "MODEL_DIR = os.path.join(os.path.expanduser('~'), 'studies/ProjectStorage/tanyeejet/models') # models' size not as big as data, save in s3 for everyone "
   ]
  },
  {
   "cell_type": "code",
   "execution_count": 2,
   "id": "d0f4ad1f-6a72-47fa-bc78-80afff919320",
   "metadata": {},
   "outputs": [],
   "source": [
    "df = pd.read_csv(os.path.join(DATA_DIR, \"df3_scaled.csv\"))"
   ]
  },
  {
   "cell_type": "code",
   "execution_count": 3,
   "id": "a27a32d6-7c41-4603-823a-78605be8fb7a",
   "metadata": {},
   "outputs": [
    {
     "data": {
      "text/html": [
       "<div>\n",
       "<style scoped>\n",
       "    .dataframe tbody tr th:only-of-type {\n",
       "        vertical-align: middle;\n",
       "    }\n",
       "\n",
       "    .dataframe tbody tr th {\n",
       "        vertical-align: top;\n",
       "    }\n",
       "\n",
       "    .dataframe thead th {\n",
       "        text-align: right;\n",
       "    }\n",
       "</style>\n",
       "<table border=\"1\" class=\"dataframe\">\n",
       "  <thead>\n",
       "    <tr style=\"text-align: right;\">\n",
       "      <th></th>\n",
       "      <th>transcript_id</th>\n",
       "      <th>transcript_position</th>\n",
       "      <th>nucleotides</th>\n",
       "      <th>0</th>\n",
       "      <th>1</th>\n",
       "      <th>2</th>\n",
       "      <th>3</th>\n",
       "      <th>4</th>\n",
       "      <th>5</th>\n",
       "      <th>6</th>\n",
       "      <th>7</th>\n",
       "      <th>8</th>\n",
       "      <th>gene_id</th>\n",
       "      <th>label</th>\n",
       "    </tr>\n",
       "  </thead>\n",
       "  <tbody>\n",
       "    <tr>\n",
       "      <th>0</th>\n",
       "      <td>ENST00000000233</td>\n",
       "      <td>244</td>\n",
       "      <td>AAGACCA</td>\n",
       "      <td>0.011239</td>\n",
       "      <td>0.009548</td>\n",
       "      <td>0.649123</td>\n",
       "      <td>0.117647</td>\n",
       "      <td>0.050283</td>\n",
       "      <td>0.578164</td>\n",
       "      <td>0.075390</td>\n",
       "      <td>0.058543</td>\n",
       "      <td>0.281707</td>\n",
       "      <td>ENSG00000004059</td>\n",
       "      <td>0</td>\n",
       "    </tr>\n",
       "    <tr>\n",
       "      <th>1</th>\n",
       "      <td>ENST00000000233</td>\n",
       "      <td>244</td>\n",
       "      <td>AAGACCA</td>\n",
       "      <td>0.039294</td>\n",
       "      <td>0.011831</td>\n",
       "      <td>0.649123</td>\n",
       "      <td>0.049729</td>\n",
       "      <td>0.022461</td>\n",
       "      <td>0.627792</td>\n",
       "      <td>0.085258</td>\n",
       "      <td>0.033525</td>\n",
       "      <td>0.242683</td>\n",
       "      <td>ENSG00000004059</td>\n",
       "      <td>0</td>\n",
       "    </tr>\n",
       "    <tr>\n",
       "      <th>2</th>\n",
       "      <td>ENST00000000233</td>\n",
       "      <td>244</td>\n",
       "      <td>AAGACCA</td>\n",
       "      <td>0.025266</td>\n",
       "      <td>0.018581</td>\n",
       "      <td>0.448622</td>\n",
       "      <td>0.087575</td>\n",
       "      <td>0.058051</td>\n",
       "      <td>0.602978</td>\n",
       "      <td>0.032761</td>\n",
       "      <td>0.010845</td>\n",
       "      <td>0.226829</td>\n",
       "      <td>ENSG00000004059</td>\n",
       "      <td>0</td>\n",
       "    </tr>\n",
       "    <tr>\n",
       "      <th>3</th>\n",
       "      <td>ENST00000000233</td>\n",
       "      <td>244</td>\n",
       "      <td>AAGACCA</td>\n",
       "      <td>0.019605</td>\n",
       "      <td>0.009548</td>\n",
       "      <td>0.649123</td>\n",
       "      <td>0.048702</td>\n",
       "      <td>0.024112</td>\n",
       "      <td>0.677419</td>\n",
       "      <td>0.032761</td>\n",
       "      <td>0.019819</td>\n",
       "      <td>0.236585</td>\n",
       "      <td>ENSG00000004059</td>\n",
       "      <td>0</td>\n",
       "    </tr>\n",
       "    <tr>\n",
       "      <th>4</th>\n",
       "      <td>ENST00000000233</td>\n",
       "      <td>244</td>\n",
       "      <td>AAGACCA</td>\n",
       "      <td>0.042082</td>\n",
       "      <td>0.013725</td>\n",
       "      <td>0.586466</td>\n",
       "      <td>0.007335</td>\n",
       "      <td>0.018917</td>\n",
       "      <td>0.665012</td>\n",
       "      <td>0.111901</td>\n",
       "      <td>0.038148</td>\n",
       "      <td>0.258537</td>\n",
       "      <td>ENSG00000004059</td>\n",
       "      <td>0</td>\n",
       "    </tr>\n",
       "  </tbody>\n",
       "</table>\n",
       "</div>"
      ],
      "text/plain": [
       "     transcript_id  transcript_position nucleotides         0         1  \\\n",
       "0  ENST00000000233                  244     AAGACCA  0.011239  0.009548   \n",
       "1  ENST00000000233                  244     AAGACCA  0.039294  0.011831   \n",
       "2  ENST00000000233                  244     AAGACCA  0.025266  0.018581   \n",
       "3  ENST00000000233                  244     AAGACCA  0.019605  0.009548   \n",
       "4  ENST00000000233                  244     AAGACCA  0.042082  0.013725   \n",
       "\n",
       "          2         3         4         5         6         7         8  \\\n",
       "0  0.649123  0.117647  0.050283  0.578164  0.075390  0.058543  0.281707   \n",
       "1  0.649123  0.049729  0.022461  0.627792  0.085258  0.033525  0.242683   \n",
       "2  0.448622  0.087575  0.058051  0.602978  0.032761  0.010845  0.226829   \n",
       "3  0.649123  0.048702  0.024112  0.677419  0.032761  0.019819  0.236585   \n",
       "4  0.586466  0.007335  0.018917  0.665012  0.111901  0.038148  0.258537   \n",
       "\n",
       "           gene_id  label  \n",
       "0  ENSG00000004059      0  \n",
       "1  ENSG00000004059      0  \n",
       "2  ENSG00000004059      0  \n",
       "3  ENSG00000004059      0  \n",
       "4  ENSG00000004059      0  "
      ]
     },
     "execution_count": 3,
     "metadata": {},
     "output_type": "execute_result"
    }
   ],
   "source": [
    "df.head()"
   ]
  },
  {
   "cell_type": "code",
   "execution_count": 4,
   "id": "e54e118d-fc44-4710-8064-9fa26a750a8e",
   "metadata": {},
   "outputs": [
    {
     "data": {
      "text/plain": [
       "transcript_id           object\n",
       "transcript_position      int64\n",
       "nucleotides             object\n",
       "0                      float64\n",
       "1                      float64\n",
       "2                      float64\n",
       "3                      float64\n",
       "4                      float64\n",
       "5                      float64\n",
       "6                      float64\n",
       "7                      float64\n",
       "8                      float64\n",
       "gene_id                 object\n",
       "label                    int64\n",
       "dtype: object"
      ]
     },
     "execution_count": 4,
     "metadata": {},
     "output_type": "execute_result"
    }
   ],
   "source": [
    "df.dtypes"
   ]
  },
  {
   "cell_type": "code",
   "execution_count": 5,
   "id": "d6a46c5e-8671-40fe-82a5-947f5de90f30",
   "metadata": {},
   "outputs": [],
   "source": [
    "# designate data types\n",
    "# df['label'] = df['label'].astype(str)\n",
    "df['transcript_position'] = df['transcript_position'].astype(str)"
   ]
  },
  {
   "cell_type": "code",
   "execution_count": 6,
   "id": "fc12ae53-d5c0-4e41-8af7-cdf5572d2de4",
   "metadata": {},
   "outputs": [
    {
     "data": {
      "text/plain": [
       "transcript_id           object\n",
       "transcript_position     object\n",
       "nucleotides             object\n",
       "0                      float64\n",
       "1                      float64\n",
       "2                      float64\n",
       "3                      float64\n",
       "4                      float64\n",
       "5                      float64\n",
       "6                      float64\n",
       "7                      float64\n",
       "8                      float64\n",
       "gene_id                 object\n",
       "label                    int64\n",
       "dtype: object"
      ]
     },
     "execution_count": 6,
     "metadata": {},
     "output_type": "execute_result"
    }
   ],
   "source": [
    "df.dtypes"
   ]
  },
  {
   "cell_type": "code",
   "execution_count": 7,
   "id": "8166a840-15e5-4f72-a020-70162d0ef0fb",
   "metadata": {},
   "outputs": [
    {
     "data": {
      "text/html": [
       "<div>\n",
       "<style scoped>\n",
       "    .dataframe tbody tr th:only-of-type {\n",
       "        vertical-align: middle;\n",
       "    }\n",
       "\n",
       "    .dataframe tbody tr th {\n",
       "        vertical-align: top;\n",
       "    }\n",
       "\n",
       "    .dataframe thead th {\n",
       "        text-align: right;\n",
       "    }\n",
       "</style>\n",
       "<table border=\"1\" class=\"dataframe\">\n",
       "  <thead>\n",
       "    <tr style=\"text-align: right;\">\n",
       "      <th></th>\n",
       "      <th>transcript_id</th>\n",
       "      <th>transcript_position</th>\n",
       "      <th>nucleotides</th>\n",
       "      <th>0</th>\n",
       "      <th>1</th>\n",
       "      <th>2</th>\n",
       "      <th>3</th>\n",
       "      <th>4</th>\n",
       "      <th>5</th>\n",
       "      <th>6</th>\n",
       "      <th>7</th>\n",
       "      <th>8</th>\n",
       "      <th>label</th>\n",
       "    </tr>\n",
       "  </thead>\n",
       "  <tbody>\n",
       "    <tr>\n",
       "      <th>0</th>\n",
       "      <td>ENST00000000233</td>\n",
       "      <td>244</td>\n",
       "      <td>AAGACCA</td>\n",
       "      <td>0.055809</td>\n",
       "      <td>0.020057</td>\n",
       "      <td>0.632866</td>\n",
       "      <td>0.056574</td>\n",
       "      <td>0.035630</td>\n",
       "      <td>0.626719</td>\n",
       "      <td>0.056097</td>\n",
       "      <td>0.023120</td>\n",
       "      <td>0.238662</td>\n",
       "      <td>0.0</td>\n",
       "    </tr>\n",
       "    <tr>\n",
       "      <th>1</th>\n",
       "      <td>ENST00000000233</td>\n",
       "      <td>261</td>\n",
       "      <td>CAAACTG</td>\n",
       "      <td>0.041822</td>\n",
       "      <td>0.015164</td>\n",
       "      <td>0.457160</td>\n",
       "      <td>0.037795</td>\n",
       "      <td>0.015452</td>\n",
       "      <td>0.403096</td>\n",
       "      <td>0.059703</td>\n",
       "      <td>0.015667</td>\n",
       "      <td>0.405984</td>\n",
       "      <td>0.0</td>\n",
       "    </tr>\n",
       "    <tr>\n",
       "      <th>2</th>\n",
       "      <td>ENST00000000233</td>\n",
       "      <td>316</td>\n",
       "      <td>GAAACAG</td>\n",
       "      <td>0.049941</td>\n",
       "      <td>0.013824</td>\n",
       "      <td>0.404457</td>\n",
       "      <td>0.042214</td>\n",
       "      <td>0.017473</td>\n",
       "      <td>0.292147</td>\n",
       "      <td>0.058172</td>\n",
       "      <td>0.010612</td>\n",
       "      <td>0.345906</td>\n",
       "      <td>0.0</td>\n",
       "    </tr>\n",
       "    <tr>\n",
       "      <th>3</th>\n",
       "      <td>ENST00000000233</td>\n",
       "      <td>332</td>\n",
       "      <td>AGAACAT</td>\n",
       "      <td>0.075716</td>\n",
       "      <td>0.030996</td>\n",
       "      <td>0.703697</td>\n",
       "      <td>0.051139</td>\n",
       "      <td>0.013863</td>\n",
       "      <td>0.278368</td>\n",
       "      <td>0.043828</td>\n",
       "      <td>0.011424</td>\n",
       "      <td>0.343341</td>\n",
       "      <td>0.0</td>\n",
       "    </tr>\n",
       "    <tr>\n",
       "      <th>4</th>\n",
       "      <td>ENST00000000233</td>\n",
       "      <td>368</td>\n",
       "      <td>AGGACAA</td>\n",
       "      <td>0.076394</td>\n",
       "      <td>0.030699</td>\n",
       "      <td>0.560454</td>\n",
       "      <td>0.072020</td>\n",
       "      <td>0.028289</td>\n",
       "      <td>0.577600</td>\n",
       "      <td>0.082485</td>\n",
       "      <td>0.022431</td>\n",
       "      <td>0.294863</td>\n",
       "      <td>0.0</td>\n",
       "    </tr>\n",
       "  </tbody>\n",
       "</table>\n",
       "</div>"
      ],
      "text/plain": [
       "     transcript_id transcript_position nucleotides         0         1  \\\n",
       "0  ENST00000000233                 244     AAGACCA  0.055809  0.020057   \n",
       "1  ENST00000000233                 261     CAAACTG  0.041822  0.015164   \n",
       "2  ENST00000000233                 316     GAAACAG  0.049941  0.013824   \n",
       "3  ENST00000000233                 332     AGAACAT  0.075716  0.030996   \n",
       "4  ENST00000000233                 368     AGGACAA  0.076394  0.030699   \n",
       "\n",
       "          2         3         4         5         6         7         8  label  \n",
       "0  0.632866  0.056574  0.035630  0.626719  0.056097  0.023120  0.238662    0.0  \n",
       "1  0.457160  0.037795  0.015452  0.403096  0.059703  0.015667  0.405984    0.0  \n",
       "2  0.404457  0.042214  0.017473  0.292147  0.058172  0.010612  0.345906    0.0  \n",
       "3  0.703697  0.051139  0.013863  0.278368  0.043828  0.011424  0.343341    0.0  \n",
       "4  0.560454  0.072020  0.028289  0.577600  0.082485  0.022431  0.294863    0.0  "
      ]
     },
     "execution_count": 7,
     "metadata": {},
     "output_type": "execute_result"
    }
   ],
   "source": [
    "# groupby and agg using mean \n",
    "df2 = df.groupby(by = ['transcript_id', 'transcript_position', 'nucleotides']).mean()\n",
    "df2.reset_index(inplace=True)\n",
    "df2.head()"
   ]
  },
  {
   "cell_type": "code",
   "execution_count": 8,
   "id": "3ce4cffa-cf8f-47ed-80f7-d40c7be84eaa",
   "metadata": {},
   "outputs": [
    {
     "data": {
      "text/plain": [
       "(121838, 13)"
      ]
     },
     "execution_count": 8,
     "metadata": {},
     "output_type": "execute_result"
    }
   ],
   "source": [
    "df2.shape"
   ]
  },
  {
   "cell_type": "markdown",
   "id": "777e9f6c-fe7b-4d22-8a17-e067139b1fca",
   "metadata": {},
   "source": [
    "## Train test split"
   ]
  },
  {
   "cell_type": "code",
   "execution_count": 9,
   "id": "f252181b-5b31-4d1b-978f-11b8caed2cb6",
   "metadata": {},
   "outputs": [],
   "source": [
    "X = df2[['0', '1', '2', '3', '4', '5', '6', '7', '8']]\n",
    "y = df2['label']"
   ]
  },
  {
   "cell_type": "code",
   "execution_count": 10,
   "id": "9d4e5fe5-a05c-4feb-8079-264d474e92ed",
   "metadata": {},
   "outputs": [],
   "source": [
    "Xtr, Xte, ytr, yte = train_test_split(X, y, test_size=0.2, random_state=42, stratify=y)"
   ]
  },
  {
   "cell_type": "markdown",
   "id": "6a383b0a-93d7-4e72-adb9-25b06318d625",
   "metadata": {},
   "source": [
    "## Collect models and results"
   ]
  },
  {
   "cell_type": "code",
   "execution_count": 11,
   "id": "4ec6f050-6683-4900-b140-5b72869eaf27",
   "metadata": {},
   "outputs": [],
   "source": [
    "models = []\n",
    "roc_aucs = []\n",
    "pr_aucs = []\n",
    "precisions = []\n",
    "recalls = []\n",
    "f1s = []\n",
    "roc_curves = []\n",
    "pr_curves = []"
   ]
  },
  {
   "cell_type": "markdown",
   "id": "6d26ec7f-a75f-4d4b-8f7d-97f7ba9d19dd",
   "metadata": {},
   "source": [
    "## Naive Bayes"
   ]
  },
  {
   "cell_type": "code",
   "execution_count": 12,
   "id": "eccd12cc-5aed-44f7-8a46-b56e6707608a",
   "metadata": {
    "tags": []
   },
   "outputs": [
    {
     "name": "stdout",
     "output_type": "stream",
     "text": [
      "CPU times: user 23.3 ms, sys: 3.87 ms, total: 27.2 ms\n",
      "Wall time: 26.4 ms\n"
     ]
    },
    {
     "data": {
      "text/html": [
       "<style>#sk-container-id-1 {color: black;background-color: white;}#sk-container-id-1 pre{padding: 0;}#sk-container-id-1 div.sk-toggleable {background-color: white;}#sk-container-id-1 label.sk-toggleable__label {cursor: pointer;display: block;width: 100%;margin-bottom: 0;padding: 0.3em;box-sizing: border-box;text-align: center;}#sk-container-id-1 label.sk-toggleable__label-arrow:before {content: \"▸\";float: left;margin-right: 0.25em;color: #696969;}#sk-container-id-1 label.sk-toggleable__label-arrow:hover:before {color: black;}#sk-container-id-1 div.sk-estimator:hover label.sk-toggleable__label-arrow:before {color: black;}#sk-container-id-1 div.sk-toggleable__content {max-height: 0;max-width: 0;overflow: hidden;text-align: left;background-color: #f0f8ff;}#sk-container-id-1 div.sk-toggleable__content pre {margin: 0.2em;color: black;border-radius: 0.25em;background-color: #f0f8ff;}#sk-container-id-1 input.sk-toggleable__control:checked~div.sk-toggleable__content {max-height: 200px;max-width: 100%;overflow: auto;}#sk-container-id-1 input.sk-toggleable__control:checked~label.sk-toggleable__label-arrow:before {content: \"▾\";}#sk-container-id-1 div.sk-estimator input.sk-toggleable__control:checked~label.sk-toggleable__label {background-color: #d4ebff;}#sk-container-id-1 div.sk-label input.sk-toggleable__control:checked~label.sk-toggleable__label {background-color: #d4ebff;}#sk-container-id-1 input.sk-hidden--visually {border: 0;clip: rect(1px 1px 1px 1px);clip: rect(1px, 1px, 1px, 1px);height: 1px;margin: -1px;overflow: hidden;padding: 0;position: absolute;width: 1px;}#sk-container-id-1 div.sk-estimator {font-family: monospace;background-color: #f0f8ff;border: 1px dotted black;border-radius: 0.25em;box-sizing: border-box;margin-bottom: 0.5em;}#sk-container-id-1 div.sk-estimator:hover {background-color: #d4ebff;}#sk-container-id-1 div.sk-parallel-item::after {content: \"\";width: 100%;border-bottom: 1px solid gray;flex-grow: 1;}#sk-container-id-1 div.sk-label:hover label.sk-toggleable__label {background-color: #d4ebff;}#sk-container-id-1 div.sk-serial::before {content: \"\";position: absolute;border-left: 1px solid gray;box-sizing: border-box;top: 0;bottom: 0;left: 50%;z-index: 0;}#sk-container-id-1 div.sk-serial {display: flex;flex-direction: column;align-items: center;background-color: white;padding-right: 0.2em;padding-left: 0.2em;position: relative;}#sk-container-id-1 div.sk-item {position: relative;z-index: 1;}#sk-container-id-1 div.sk-parallel {display: flex;align-items: stretch;justify-content: center;background-color: white;position: relative;}#sk-container-id-1 div.sk-item::before, #sk-container-id-1 div.sk-parallel-item::before {content: \"\";position: absolute;border-left: 1px solid gray;box-sizing: border-box;top: 0;bottom: 0;left: 50%;z-index: -1;}#sk-container-id-1 div.sk-parallel-item {display: flex;flex-direction: column;z-index: 1;position: relative;background-color: white;}#sk-container-id-1 div.sk-parallel-item:first-child::after {align-self: flex-end;width: 50%;}#sk-container-id-1 div.sk-parallel-item:last-child::after {align-self: flex-start;width: 50%;}#sk-container-id-1 div.sk-parallel-item:only-child::after {width: 0;}#sk-container-id-1 div.sk-dashed-wrapped {border: 1px dashed gray;margin: 0 0.4em 0.5em 0.4em;box-sizing: border-box;padding-bottom: 0.4em;background-color: white;}#sk-container-id-1 div.sk-label label {font-family: monospace;font-weight: bold;display: inline-block;line-height: 1.2em;}#sk-container-id-1 div.sk-label-container {text-align: center;}#sk-container-id-1 div.sk-container {/* jupyter's `normalize.less` sets `[hidden] { display: none; }` but bootstrap.min.css set `[hidden] { display: none !important; }` so we also need the `!important` here to be able to override the default hidden behavior on the sphinx rendered scikit-learn.org. See: https://github.com/scikit-learn/scikit-learn/issues/21755 */display: inline-block !important;position: relative;}#sk-container-id-1 div.sk-text-repr-fallback {display: none;}</style><div id=\"sk-container-id-1\" class=\"sk-top-container\"><div class=\"sk-text-repr-fallback\"><pre>GaussianNB()</pre><b>In a Jupyter environment, please rerun this cell to show the HTML representation or trust the notebook. <br />On GitHub, the HTML representation is unable to render, please try loading this page with nbviewer.org.</b></div><div class=\"sk-container\" hidden><div class=\"sk-item\"><div class=\"sk-estimator sk-toggleable\"><input class=\"sk-toggleable__control sk-hidden--visually\" id=\"sk-estimator-id-1\" type=\"checkbox\" checked><label for=\"sk-estimator-id-1\" class=\"sk-toggleable__label sk-toggleable__label-arrow\">GaussianNB</label><div class=\"sk-toggleable__content\"><pre>GaussianNB()</pre></div></div></div></div></div>"
      ],
      "text/plain": [
       "GaussianNB()"
      ]
     },
     "execution_count": 12,
     "metadata": {},
     "output_type": "execute_result"
    }
   ],
   "source": [
    "# %%time\n",
    "\n",
    "# model = GaussianNB()\n",
    "# model.fit(Xtr, ytr)"
   ]
  },
  {
   "cell_type": "code",
   "execution_count": 13,
   "id": "013204a5-426b-49a0-9455-195ae20c7dce",
   "metadata": {},
   "outputs": [],
   "source": [
    "# with open(os.path.join(MODEL_DIR, 'nb2.pickle'), 'wb') as f:\n",
    "#     pickle.dump(model, f)"
   ]
  },
  {
   "cell_type": "code",
   "execution_count": 14,
   "id": "e43b2365-865b-4dab-b054-3355be7ee906",
   "metadata": {},
   "outputs": [
    {
     "name": "stdout",
     "output_type": "stream",
     "text": [
      "GaussianNB()\n"
     ]
    }
   ],
   "source": [
    "with open(os.path.join(MODEL_DIR, 'nb2.pickle'), 'rb') as f:\n",
    "    model = pickle.load(f)\n",
    "    print(model)"
   ]
  },
  {
   "cell_type": "code",
   "execution_count": 15,
   "id": "33baa182-ff6e-4ead-ba08-6105538cb008",
   "metadata": {},
   "outputs": [],
   "source": [
    "yhat_probs = model.predict_proba(Xte)\n",
    "yhat = model.predict(Xte)\n",
    "yhat1_probs = yhat_probs[:, 1]"
   ]
  },
  {
   "cell_type": "code",
   "execution_count": 16,
   "id": "ea7aacff-89ea-48bf-8df6-ca7714432a35",
   "metadata": {},
   "outputs": [],
   "source": [
    "models.append('nb')\n",
    "roc_aucs.append(roc_auc_score(yte, yhat1_probs))\n",
    "pr_aucs.append(average_precision_score(yte, yhat))\n",
    "precisions.append(precision_score(yte, yhat))\n",
    "recalls.append(recall_score(yte, yhat))\n",
    "f1s.append(f1_score(yte, yhat))\n",
    "roc_curves.append(roc_curve(yte, yhat1_probs))\n",
    "pr_curves.append(precision_recall_curve(yte, yhat1_probs))"
   ]
  },
  {
   "cell_type": "markdown",
   "id": "5d53f087-6121-4a0e-95c8-b39a57a23a93",
   "metadata": {},
   "source": [
    "## kNN"
   ]
  },
  {
   "cell_type": "code",
   "execution_count": 20,
   "id": "40ea36e8-7c4e-48c8-b22d-926d38be0445",
   "metadata": {},
   "outputs": [
    {
     "name": "stdout",
     "output_type": "stream",
     "text": [
      "CPU times: user 166 ms, sys: 4.82 ms, total: 171 ms\n",
      "Wall time: 171 ms\n"
     ]
    },
    {
     "data": {
      "text/html": [
       "<style>#sk-container-id-3 {color: black;background-color: white;}#sk-container-id-3 pre{padding: 0;}#sk-container-id-3 div.sk-toggleable {background-color: white;}#sk-container-id-3 label.sk-toggleable__label {cursor: pointer;display: block;width: 100%;margin-bottom: 0;padding: 0.3em;box-sizing: border-box;text-align: center;}#sk-container-id-3 label.sk-toggleable__label-arrow:before {content: \"▸\";float: left;margin-right: 0.25em;color: #696969;}#sk-container-id-3 label.sk-toggleable__label-arrow:hover:before {color: black;}#sk-container-id-3 div.sk-estimator:hover label.sk-toggleable__label-arrow:before {color: black;}#sk-container-id-3 div.sk-toggleable__content {max-height: 0;max-width: 0;overflow: hidden;text-align: left;background-color: #f0f8ff;}#sk-container-id-3 div.sk-toggleable__content pre {margin: 0.2em;color: black;border-radius: 0.25em;background-color: #f0f8ff;}#sk-container-id-3 input.sk-toggleable__control:checked~div.sk-toggleable__content {max-height: 200px;max-width: 100%;overflow: auto;}#sk-container-id-3 input.sk-toggleable__control:checked~label.sk-toggleable__label-arrow:before {content: \"▾\";}#sk-container-id-3 div.sk-estimator input.sk-toggleable__control:checked~label.sk-toggleable__label {background-color: #d4ebff;}#sk-container-id-3 div.sk-label input.sk-toggleable__control:checked~label.sk-toggleable__label {background-color: #d4ebff;}#sk-container-id-3 input.sk-hidden--visually {border: 0;clip: rect(1px 1px 1px 1px);clip: rect(1px, 1px, 1px, 1px);height: 1px;margin: -1px;overflow: hidden;padding: 0;position: absolute;width: 1px;}#sk-container-id-3 div.sk-estimator {font-family: monospace;background-color: #f0f8ff;border: 1px dotted black;border-radius: 0.25em;box-sizing: border-box;margin-bottom: 0.5em;}#sk-container-id-3 div.sk-estimator:hover {background-color: #d4ebff;}#sk-container-id-3 div.sk-parallel-item::after {content: \"\";width: 100%;border-bottom: 1px solid gray;flex-grow: 1;}#sk-container-id-3 div.sk-label:hover label.sk-toggleable__label {background-color: #d4ebff;}#sk-container-id-3 div.sk-serial::before {content: \"\";position: absolute;border-left: 1px solid gray;box-sizing: border-box;top: 0;bottom: 0;left: 50%;z-index: 0;}#sk-container-id-3 div.sk-serial {display: flex;flex-direction: column;align-items: center;background-color: white;padding-right: 0.2em;padding-left: 0.2em;position: relative;}#sk-container-id-3 div.sk-item {position: relative;z-index: 1;}#sk-container-id-3 div.sk-parallel {display: flex;align-items: stretch;justify-content: center;background-color: white;position: relative;}#sk-container-id-3 div.sk-item::before, #sk-container-id-3 div.sk-parallel-item::before {content: \"\";position: absolute;border-left: 1px solid gray;box-sizing: border-box;top: 0;bottom: 0;left: 50%;z-index: -1;}#sk-container-id-3 div.sk-parallel-item {display: flex;flex-direction: column;z-index: 1;position: relative;background-color: white;}#sk-container-id-3 div.sk-parallel-item:first-child::after {align-self: flex-end;width: 50%;}#sk-container-id-3 div.sk-parallel-item:last-child::after {align-self: flex-start;width: 50%;}#sk-container-id-3 div.sk-parallel-item:only-child::after {width: 0;}#sk-container-id-3 div.sk-dashed-wrapped {border: 1px dashed gray;margin: 0 0.4em 0.5em 0.4em;box-sizing: border-box;padding-bottom: 0.4em;background-color: white;}#sk-container-id-3 div.sk-label label {font-family: monospace;font-weight: bold;display: inline-block;line-height: 1.2em;}#sk-container-id-3 div.sk-label-container {text-align: center;}#sk-container-id-3 div.sk-container {/* jupyter's `normalize.less` sets `[hidden] { display: none; }` but bootstrap.min.css set `[hidden] { display: none !important; }` so we also need the `!important` here to be able to override the default hidden behavior on the sphinx rendered scikit-learn.org. See: https://github.com/scikit-learn/scikit-learn/issues/21755 */display: inline-block !important;position: relative;}#sk-container-id-3 div.sk-text-repr-fallback {display: none;}</style><div id=\"sk-container-id-3\" class=\"sk-top-container\"><div class=\"sk-text-repr-fallback\"><pre>KNeighborsClassifier(n_jobs=-1, n_neighbors=3)</pre><b>In a Jupyter environment, please rerun this cell to show the HTML representation or trust the notebook. <br />On GitHub, the HTML representation is unable to render, please try loading this page with nbviewer.org.</b></div><div class=\"sk-container\" hidden><div class=\"sk-item\"><div class=\"sk-estimator sk-toggleable\"><input class=\"sk-toggleable__control sk-hidden--visually\" id=\"sk-estimator-id-3\" type=\"checkbox\" checked><label for=\"sk-estimator-id-3\" class=\"sk-toggleable__label sk-toggleable__label-arrow\">KNeighborsClassifier</label><div class=\"sk-toggleable__content\"><pre>KNeighborsClassifier(n_jobs=-1, n_neighbors=3)</pre></div></div></div></div></div>"
      ],
      "text/plain": [
       "KNeighborsClassifier(n_jobs=-1, n_neighbors=3)"
      ]
     },
     "execution_count": 20,
     "metadata": {},
     "output_type": "execute_result"
    }
   ],
   "source": [
    "# %%time\n",
    "# model = KNeighborsClassifier(n_neighbors=3, n_jobs=-1)\n",
    "# model.fit(Xtr, ytr)"
   ]
  },
  {
   "cell_type": "code",
   "execution_count": 21,
   "id": "e5430cdf-1334-4f6f-9c82-86192f251f08",
   "metadata": {},
   "outputs": [],
   "source": [
    "# with open(os.path.join(MODEL_DIR, 'knn2.pickle'), 'wb') as f:\n",
    "#     pickle.dump(model, f)"
   ]
  },
  {
   "cell_type": "code",
   "execution_count": 22,
   "id": "b8e03944-7c83-47b2-80d7-1aa0c497b7b9",
   "metadata": {},
   "outputs": [
    {
     "name": "stdout",
     "output_type": "stream",
     "text": [
      "KNeighborsClassifier(n_jobs=-1, n_neighbors=3)\n"
     ]
    }
   ],
   "source": [
    "with open(os.path.join(MODEL_DIR, 'knn2.pickle'), 'rb') as f:\n",
    "    model = pickle.load(f)\n",
    "    print(model)"
   ]
  },
  {
   "cell_type": "code",
   "execution_count": 25,
   "id": "aefd6775-8a03-47d0-b8ff-e8fcafd53c5b",
   "metadata": {},
   "outputs": [],
   "source": [
    "# yhat_probs = model.predict_proba(Xte)\n",
    "# yhat = model.predict(Xte)\n",
    "# yhat1_probs = yhat_probs[:, 1]"
   ]
  },
  {
   "cell_type": "code",
   "execution_count": 24,
   "id": "ba5a9228-3636-4487-b118-67b7855aa083",
   "metadata": {},
   "outputs": [],
   "source": [
    "# with open(os.path.join(MODEL_DIR, 'knn2_yhat_probs.pickle'), 'wb') as f:\n",
    "#     pickle.dump(yhat_probs, f)\n",
    "    \n",
    "# with open(os.path.join(MODEL_DIR, 'knn2_yhat.pickle'), 'wb') as f:\n",
    "#     pickle.dump(yhat, f)"
   ]
  },
  {
   "cell_type": "code",
   "execution_count": 26,
   "id": "62b2c806-3d21-411f-8a5a-3780286d2976",
   "metadata": {},
   "outputs": [],
   "source": [
    "with open(os.path.join(MODEL_DIR, 'knn2_yhat_probs.pickle'), 'rb') as f:\n",
    "    yhat_probs = pickle.load(f)\n",
    "    \n",
    "with open(os.path.join(MODEL_DIR, 'knn2_yhat.pickle'), 'rb') as f:\n",
    "    yhat = pickle.load(f)\n",
    "    \n",
    "yhat1_probs = yhat_probs[:, 1]"
   ]
  },
  {
   "cell_type": "code",
   "execution_count": 27,
   "id": "1f3a11a0-c178-4980-998c-15dd47b513a5",
   "metadata": {},
   "outputs": [],
   "source": [
    "# %%time\n",
    "# # selecting the classifier\n",
    "# knn = KNeighborsClassifier(n_jobs=-1)\n",
    "\n",
    "# # selecting hyperparameter tuning\n",
    "# param = {\"n_neighbors\": np.arange(3, 6)}\n",
    "\n",
    "# # defining cross validation\n",
    "# cv = StratifiedKFold(n_splits=5)\n",
    "\n",
    "# # using gridsearch for respective parameters\n",
    "# gridsearch = GridSearchCV(knn, param, cv=cv, scoring=\"f1_macro\", n_jobs=-1, verbose=2)\n",
    "\n",
    "# # fitting the model\n",
    "# gridsearch.fit(Xtr, ytr)\n",
    "\n",
    "# # printing best score and best parameters\n",
    "# print(\"best score is:\" , gridsearch_log.best_score_)\n",
    "# print(\"best parameters are:\" , gridsearch_log.best_params_)"
   ]
  },
  {
   "cell_type": "code",
   "execution_count": 28,
   "id": "13a7fe82-fbda-4476-9454-e4578fd7bccf",
   "metadata": {},
   "outputs": [],
   "source": [
    "models.append('knn')\n",
    "roc_aucs.append(roc_auc_score(yte, yhat1_probs))\n",
    "pr_aucs.append(average_precision_score(yte, yhat))\n",
    "precisions.append(precision_score(yte, yhat))\n",
    "recalls.append(recall_score(yte, yhat))\n",
    "f1s.append(f1_score(yte, yhat))\n",
    "roc_curves.append(roc_curve(yte, yhat1_probs))\n",
    "pr_curves.append(precision_recall_curve(yte, yhat1_probs))"
   ]
  },
  {
   "cell_type": "markdown",
   "id": "c2a1a9fd-a21a-42e6-8f72-70dfe7cf7cd9",
   "metadata": {},
   "source": [
    "## SVM (linear kernel)"
   ]
  },
  {
   "cell_type": "code",
   "execution_count": 29,
   "id": "ccd067fd-e5f6-41fc-8d9d-73420afc1b39",
   "metadata": {},
   "outputs": [
    {
     "name": "stdout",
     "output_type": "stream",
     "text": [
      "CPU times: user 1.17 s, sys: 12.6 ms, total: 1.18 s\n",
      "Wall time: 1.18 s\n"
     ]
    },
    {
     "data": {
      "text/html": [
       "<style>#sk-container-id-4 {color: black;background-color: white;}#sk-container-id-4 pre{padding: 0;}#sk-container-id-4 div.sk-toggleable {background-color: white;}#sk-container-id-4 label.sk-toggleable__label {cursor: pointer;display: block;width: 100%;margin-bottom: 0;padding: 0.3em;box-sizing: border-box;text-align: center;}#sk-container-id-4 label.sk-toggleable__label-arrow:before {content: \"▸\";float: left;margin-right: 0.25em;color: #696969;}#sk-container-id-4 label.sk-toggleable__label-arrow:hover:before {color: black;}#sk-container-id-4 div.sk-estimator:hover label.sk-toggleable__label-arrow:before {color: black;}#sk-container-id-4 div.sk-toggleable__content {max-height: 0;max-width: 0;overflow: hidden;text-align: left;background-color: #f0f8ff;}#sk-container-id-4 div.sk-toggleable__content pre {margin: 0.2em;color: black;border-radius: 0.25em;background-color: #f0f8ff;}#sk-container-id-4 input.sk-toggleable__control:checked~div.sk-toggleable__content {max-height: 200px;max-width: 100%;overflow: auto;}#sk-container-id-4 input.sk-toggleable__control:checked~label.sk-toggleable__label-arrow:before {content: \"▾\";}#sk-container-id-4 div.sk-estimator input.sk-toggleable__control:checked~label.sk-toggleable__label {background-color: #d4ebff;}#sk-container-id-4 div.sk-label input.sk-toggleable__control:checked~label.sk-toggleable__label {background-color: #d4ebff;}#sk-container-id-4 input.sk-hidden--visually {border: 0;clip: rect(1px 1px 1px 1px);clip: rect(1px, 1px, 1px, 1px);height: 1px;margin: -1px;overflow: hidden;padding: 0;position: absolute;width: 1px;}#sk-container-id-4 div.sk-estimator {font-family: monospace;background-color: #f0f8ff;border: 1px dotted black;border-radius: 0.25em;box-sizing: border-box;margin-bottom: 0.5em;}#sk-container-id-4 div.sk-estimator:hover {background-color: #d4ebff;}#sk-container-id-4 div.sk-parallel-item::after {content: \"\";width: 100%;border-bottom: 1px solid gray;flex-grow: 1;}#sk-container-id-4 div.sk-label:hover label.sk-toggleable__label {background-color: #d4ebff;}#sk-container-id-4 div.sk-serial::before {content: \"\";position: absolute;border-left: 1px solid gray;box-sizing: border-box;top: 0;bottom: 0;left: 50%;z-index: 0;}#sk-container-id-4 div.sk-serial {display: flex;flex-direction: column;align-items: center;background-color: white;padding-right: 0.2em;padding-left: 0.2em;position: relative;}#sk-container-id-4 div.sk-item {position: relative;z-index: 1;}#sk-container-id-4 div.sk-parallel {display: flex;align-items: stretch;justify-content: center;background-color: white;position: relative;}#sk-container-id-4 div.sk-item::before, #sk-container-id-4 div.sk-parallel-item::before {content: \"\";position: absolute;border-left: 1px solid gray;box-sizing: border-box;top: 0;bottom: 0;left: 50%;z-index: -1;}#sk-container-id-4 div.sk-parallel-item {display: flex;flex-direction: column;z-index: 1;position: relative;background-color: white;}#sk-container-id-4 div.sk-parallel-item:first-child::after {align-self: flex-end;width: 50%;}#sk-container-id-4 div.sk-parallel-item:last-child::after {align-self: flex-start;width: 50%;}#sk-container-id-4 div.sk-parallel-item:only-child::after {width: 0;}#sk-container-id-4 div.sk-dashed-wrapped {border: 1px dashed gray;margin: 0 0.4em 0.5em 0.4em;box-sizing: border-box;padding-bottom: 0.4em;background-color: white;}#sk-container-id-4 div.sk-label label {font-family: monospace;font-weight: bold;display: inline-block;line-height: 1.2em;}#sk-container-id-4 div.sk-label-container {text-align: center;}#sk-container-id-4 div.sk-container {/* jupyter's `normalize.less` sets `[hidden] { display: none; }` but bootstrap.min.css set `[hidden] { display: none !important; }` so we also need the `!important` here to be able to override the default hidden behavior on the sphinx rendered scikit-learn.org. See: https://github.com/scikit-learn/scikit-learn/issues/21755 */display: inline-block !important;position: relative;}#sk-container-id-4 div.sk-text-repr-fallback {display: none;}</style><div id=\"sk-container-id-4\" class=\"sk-top-container\"><div class=\"sk-text-repr-fallback\"><pre>LinearSVC(random_state=42)</pre><b>In a Jupyter environment, please rerun this cell to show the HTML representation or trust the notebook. <br />On GitHub, the HTML representation is unable to render, please try loading this page with nbviewer.org.</b></div><div class=\"sk-container\" hidden><div class=\"sk-item\"><div class=\"sk-estimator sk-toggleable\"><input class=\"sk-toggleable__control sk-hidden--visually\" id=\"sk-estimator-id-4\" type=\"checkbox\" checked><label for=\"sk-estimator-id-4\" class=\"sk-toggleable__label sk-toggleable__label-arrow\">LinearSVC</label><div class=\"sk-toggleable__content\"><pre>LinearSVC(random_state=42)</pre></div></div></div></div></div>"
      ],
      "text/plain": [
       "LinearSVC(random_state=42)"
      ]
     },
     "execution_count": 29,
     "metadata": {},
     "output_type": "execute_result"
    }
   ],
   "source": [
    "# %%time\n",
    "# model = LinearSVC(random_state=42)\n",
    "# model.fit(Xtr, ytr)"
   ]
  },
  {
   "cell_type": "code",
   "execution_count": 30,
   "id": "428dfd45-2118-451e-a211-f81ba692d71f",
   "metadata": {},
   "outputs": [],
   "source": [
    "# with open(os.path.join(MODEL_DIR, 'lsvc2.pickle'), 'wb') as f:\n",
    "#     pickle.dump(model, f)"
   ]
  },
  {
   "cell_type": "code",
   "execution_count": 31,
   "id": "fecfe234-73d6-4d4e-9692-0fdd4360e553",
   "metadata": {},
   "outputs": [
    {
     "name": "stdout",
     "output_type": "stream",
     "text": [
      "LinearSVC(random_state=42)\n"
     ]
    }
   ],
   "source": [
    "with open(os.path.join(MODEL_DIR, 'lsvc2.pickle'), 'rb') as f:\n",
    "    model = pickle.load(f)\n",
    "    print(model)"
   ]
  },
  {
   "cell_type": "code",
   "execution_count": 32,
   "id": "ea47c8a8-2a15-45d4-af41-26658fd85780",
   "metadata": {},
   "outputs": [],
   "source": [
    "# yhat_probs = model.predict_proba(Xte)\n",
    "yhat = model.predict(Xte)\n",
    "# yhat1_probs = yhat_probs[:, 1]"
   ]
  },
  {
   "cell_type": "code",
   "execution_count": 33,
   "id": "5947c941-fcfd-45c6-91ad-2fca973be0a2",
   "metadata": {},
   "outputs": [],
   "source": [
    "# # selecting the classifier\n",
    "# lsvc = LinearSVC()\n",
    "\n",
    "# # selecting hyperparameter tuning\n",
    "# param = {\"C\": np.exp(np.linspace(start=np.log(0.001), stop=np.log(10000), num=5))}\n",
    "\n",
    "# # defining cross validation\n",
    "# cv = StratifiedKFold(n_splits=5)\n",
    "\n",
    "# # using gridsearch for respective parameters\n",
    "# gridsearch = GridSearchCV(lsvc, param, cv=cv, scoring=\"f1_macro\", n_jobs=-1, verbose=2)\n",
    "\n",
    "# # fitting the model\n",
    "# gridsearch.fit(Xtr, ytr)\n",
    "\n",
    "# # printing best score and best parameters\n",
    "# print(\"best score is:\" , gridsearch_log.best_score_)\n",
    "# print(\"best parameters are:\" , gridsearch_log.best_params_)"
   ]
  },
  {
   "cell_type": "code",
   "execution_count": 34,
   "id": "9ff83a6d-0cbb-4bad-a817-aa4dd1c76e5f",
   "metadata": {},
   "outputs": [],
   "source": [
    "models.append('lsvc')\n",
    "roc_aucs.append(roc_auc_score(yte, yhat))\n",
    "pr_aucs.append(average_precision_score(yte, yhat))\n",
    "precisions.append(precision_score(yte, yhat))\n",
    "recalls.append(recall_score(yte, yhat))\n",
    "f1s.append(f1_score(yte, yhat))\n",
    "roc_curves.append(roc_curve(yte, yhat))\n",
    "pr_curves.append(precision_recall_curve(yte, yhat))"
   ]
  },
  {
   "cell_type": "markdown",
   "id": "b0bed3ed-fb7a-40cc-961e-a6428ce5a31b",
   "metadata": {},
   "source": [
    "## LDA"
   ]
  },
  {
   "cell_type": "code",
   "execution_count": 35,
   "id": "ee82272a-f8b8-4b90-b526-6ec9527af116",
   "metadata": {},
   "outputs": [
    {
     "name": "stdout",
     "output_type": "stream",
     "text": [
      "CPU times: user 194 ms, sys: 70.3 ms, total: 265 ms\n",
      "Wall time: 179 ms\n"
     ]
    },
    {
     "data": {
      "text/html": [
       "<style>#sk-container-id-5 {color: black;background-color: white;}#sk-container-id-5 pre{padding: 0;}#sk-container-id-5 div.sk-toggleable {background-color: white;}#sk-container-id-5 label.sk-toggleable__label {cursor: pointer;display: block;width: 100%;margin-bottom: 0;padding: 0.3em;box-sizing: border-box;text-align: center;}#sk-container-id-5 label.sk-toggleable__label-arrow:before {content: \"▸\";float: left;margin-right: 0.25em;color: #696969;}#sk-container-id-5 label.sk-toggleable__label-arrow:hover:before {color: black;}#sk-container-id-5 div.sk-estimator:hover label.sk-toggleable__label-arrow:before {color: black;}#sk-container-id-5 div.sk-toggleable__content {max-height: 0;max-width: 0;overflow: hidden;text-align: left;background-color: #f0f8ff;}#sk-container-id-5 div.sk-toggleable__content pre {margin: 0.2em;color: black;border-radius: 0.25em;background-color: #f0f8ff;}#sk-container-id-5 input.sk-toggleable__control:checked~div.sk-toggleable__content {max-height: 200px;max-width: 100%;overflow: auto;}#sk-container-id-5 input.sk-toggleable__control:checked~label.sk-toggleable__label-arrow:before {content: \"▾\";}#sk-container-id-5 div.sk-estimator input.sk-toggleable__control:checked~label.sk-toggleable__label {background-color: #d4ebff;}#sk-container-id-5 div.sk-label input.sk-toggleable__control:checked~label.sk-toggleable__label {background-color: #d4ebff;}#sk-container-id-5 input.sk-hidden--visually {border: 0;clip: rect(1px 1px 1px 1px);clip: rect(1px, 1px, 1px, 1px);height: 1px;margin: -1px;overflow: hidden;padding: 0;position: absolute;width: 1px;}#sk-container-id-5 div.sk-estimator {font-family: monospace;background-color: #f0f8ff;border: 1px dotted black;border-radius: 0.25em;box-sizing: border-box;margin-bottom: 0.5em;}#sk-container-id-5 div.sk-estimator:hover {background-color: #d4ebff;}#sk-container-id-5 div.sk-parallel-item::after {content: \"\";width: 100%;border-bottom: 1px solid gray;flex-grow: 1;}#sk-container-id-5 div.sk-label:hover label.sk-toggleable__label {background-color: #d4ebff;}#sk-container-id-5 div.sk-serial::before {content: \"\";position: absolute;border-left: 1px solid gray;box-sizing: border-box;top: 0;bottom: 0;left: 50%;z-index: 0;}#sk-container-id-5 div.sk-serial {display: flex;flex-direction: column;align-items: center;background-color: white;padding-right: 0.2em;padding-left: 0.2em;position: relative;}#sk-container-id-5 div.sk-item {position: relative;z-index: 1;}#sk-container-id-5 div.sk-parallel {display: flex;align-items: stretch;justify-content: center;background-color: white;position: relative;}#sk-container-id-5 div.sk-item::before, #sk-container-id-5 div.sk-parallel-item::before {content: \"\";position: absolute;border-left: 1px solid gray;box-sizing: border-box;top: 0;bottom: 0;left: 50%;z-index: -1;}#sk-container-id-5 div.sk-parallel-item {display: flex;flex-direction: column;z-index: 1;position: relative;background-color: white;}#sk-container-id-5 div.sk-parallel-item:first-child::after {align-self: flex-end;width: 50%;}#sk-container-id-5 div.sk-parallel-item:last-child::after {align-self: flex-start;width: 50%;}#sk-container-id-5 div.sk-parallel-item:only-child::after {width: 0;}#sk-container-id-5 div.sk-dashed-wrapped {border: 1px dashed gray;margin: 0 0.4em 0.5em 0.4em;box-sizing: border-box;padding-bottom: 0.4em;background-color: white;}#sk-container-id-5 div.sk-label label {font-family: monospace;font-weight: bold;display: inline-block;line-height: 1.2em;}#sk-container-id-5 div.sk-label-container {text-align: center;}#sk-container-id-5 div.sk-container {/* jupyter's `normalize.less` sets `[hidden] { display: none; }` but bootstrap.min.css set `[hidden] { display: none !important; }` so we also need the `!important` here to be able to override the default hidden behavior on the sphinx rendered scikit-learn.org. See: https://github.com/scikit-learn/scikit-learn/issues/21755 */display: inline-block !important;position: relative;}#sk-container-id-5 div.sk-text-repr-fallback {display: none;}</style><div id=\"sk-container-id-5\" class=\"sk-top-container\"><div class=\"sk-text-repr-fallback\"><pre>LinearDiscriminantAnalysis()</pre><b>In a Jupyter environment, please rerun this cell to show the HTML representation or trust the notebook. <br />On GitHub, the HTML representation is unable to render, please try loading this page with nbviewer.org.</b></div><div class=\"sk-container\" hidden><div class=\"sk-item\"><div class=\"sk-estimator sk-toggleable\"><input class=\"sk-toggleable__control sk-hidden--visually\" id=\"sk-estimator-id-5\" type=\"checkbox\" checked><label for=\"sk-estimator-id-5\" class=\"sk-toggleable__label sk-toggleable__label-arrow\">LinearDiscriminantAnalysis</label><div class=\"sk-toggleable__content\"><pre>LinearDiscriminantAnalysis()</pre></div></div></div></div></div>"
      ],
      "text/plain": [
       "LinearDiscriminantAnalysis()"
      ]
     },
     "execution_count": 35,
     "metadata": {},
     "output_type": "execute_result"
    }
   ],
   "source": [
    "# %%time\n",
    "# model = LinearDiscriminantAnalysis(solver='svd')\n",
    "# model.fit(Xtr, ytr)"
   ]
  },
  {
   "cell_type": "code",
   "execution_count": 36,
   "id": "f54a5dae-4899-404f-8858-ed87bb27cb9b",
   "metadata": {},
   "outputs": [],
   "source": [
    "# with open(os.path.join(MODEL_DIR, 'lda2.pickle'), 'wb') as f:\n",
    "#     pickle.dump(model, f)"
   ]
  },
  {
   "cell_type": "code",
   "execution_count": 37,
   "id": "e9f1a6d0-9ee4-41a7-94c2-854d616051fd",
   "metadata": {},
   "outputs": [
    {
     "name": "stdout",
     "output_type": "stream",
     "text": [
      "LinearDiscriminantAnalysis()\n"
     ]
    }
   ],
   "source": [
    "with open(os.path.join(MODEL_DIR, 'lda2.pickle'), 'rb') as f:\n",
    "    model = pickle.load(f)\n",
    "    print(model)"
   ]
  },
  {
   "cell_type": "code",
   "execution_count": 38,
   "id": "f3ecb06b-8839-4197-ae45-117efaa553b6",
   "metadata": {},
   "outputs": [],
   "source": [
    "yhat_probs = model.predict_proba(Xte)\n",
    "yhat = model.predict(Xte)\n",
    "yhat1_probs = yhat_probs[:, 1]"
   ]
  },
  {
   "cell_type": "code",
   "execution_count": 39,
   "id": "b3c33fa1-bfbd-482c-b7ec-a39183297c1e",
   "metadata": {},
   "outputs": [],
   "source": [
    "models.append('lda')\n",
    "roc_aucs.append(roc_auc_score(yte, yhat1_probs))\n",
    "pr_aucs.append(average_precision_score(yte, yhat))\n",
    "precisions.append(precision_score(yte, yhat))\n",
    "recalls.append(recall_score(yte, yhat))\n",
    "f1s.append(f1_score(yte, yhat))\n",
    "roc_curves.append(roc_curve(yte, yhat1_probs))\n",
    "pr_curves.append(precision_recall_curve(yte, yhat1_probs))"
   ]
  },
  {
   "cell_type": "markdown",
   "id": "22b1a041-652f-4dc1-b4b6-ab29bda1cb94",
   "metadata": {},
   "source": [
    "## QDA"
   ]
  },
  {
   "cell_type": "code",
   "execution_count": 40,
   "id": "a7c77ba2-c597-4eec-af1e-2fb2c146c0e1",
   "metadata": {},
   "outputs": [
    {
     "name": "stdout",
     "output_type": "stream",
     "text": [
      "CPU times: user 198 ms, sys: 123 ms, total: 321 ms\n",
      "Wall time: 90.6 ms\n"
     ]
    },
    {
     "data": {
      "text/html": [
       "<style>#sk-container-id-6 {color: black;background-color: white;}#sk-container-id-6 pre{padding: 0;}#sk-container-id-6 div.sk-toggleable {background-color: white;}#sk-container-id-6 label.sk-toggleable__label {cursor: pointer;display: block;width: 100%;margin-bottom: 0;padding: 0.3em;box-sizing: border-box;text-align: center;}#sk-container-id-6 label.sk-toggleable__label-arrow:before {content: \"▸\";float: left;margin-right: 0.25em;color: #696969;}#sk-container-id-6 label.sk-toggleable__label-arrow:hover:before {color: black;}#sk-container-id-6 div.sk-estimator:hover label.sk-toggleable__label-arrow:before {color: black;}#sk-container-id-6 div.sk-toggleable__content {max-height: 0;max-width: 0;overflow: hidden;text-align: left;background-color: #f0f8ff;}#sk-container-id-6 div.sk-toggleable__content pre {margin: 0.2em;color: black;border-radius: 0.25em;background-color: #f0f8ff;}#sk-container-id-6 input.sk-toggleable__control:checked~div.sk-toggleable__content {max-height: 200px;max-width: 100%;overflow: auto;}#sk-container-id-6 input.sk-toggleable__control:checked~label.sk-toggleable__label-arrow:before {content: \"▾\";}#sk-container-id-6 div.sk-estimator input.sk-toggleable__control:checked~label.sk-toggleable__label {background-color: #d4ebff;}#sk-container-id-6 div.sk-label input.sk-toggleable__control:checked~label.sk-toggleable__label {background-color: #d4ebff;}#sk-container-id-6 input.sk-hidden--visually {border: 0;clip: rect(1px 1px 1px 1px);clip: rect(1px, 1px, 1px, 1px);height: 1px;margin: -1px;overflow: hidden;padding: 0;position: absolute;width: 1px;}#sk-container-id-6 div.sk-estimator {font-family: monospace;background-color: #f0f8ff;border: 1px dotted black;border-radius: 0.25em;box-sizing: border-box;margin-bottom: 0.5em;}#sk-container-id-6 div.sk-estimator:hover {background-color: #d4ebff;}#sk-container-id-6 div.sk-parallel-item::after {content: \"\";width: 100%;border-bottom: 1px solid gray;flex-grow: 1;}#sk-container-id-6 div.sk-label:hover label.sk-toggleable__label {background-color: #d4ebff;}#sk-container-id-6 div.sk-serial::before {content: \"\";position: absolute;border-left: 1px solid gray;box-sizing: border-box;top: 0;bottom: 0;left: 50%;z-index: 0;}#sk-container-id-6 div.sk-serial {display: flex;flex-direction: column;align-items: center;background-color: white;padding-right: 0.2em;padding-left: 0.2em;position: relative;}#sk-container-id-6 div.sk-item {position: relative;z-index: 1;}#sk-container-id-6 div.sk-parallel {display: flex;align-items: stretch;justify-content: center;background-color: white;position: relative;}#sk-container-id-6 div.sk-item::before, #sk-container-id-6 div.sk-parallel-item::before {content: \"\";position: absolute;border-left: 1px solid gray;box-sizing: border-box;top: 0;bottom: 0;left: 50%;z-index: -1;}#sk-container-id-6 div.sk-parallel-item {display: flex;flex-direction: column;z-index: 1;position: relative;background-color: white;}#sk-container-id-6 div.sk-parallel-item:first-child::after {align-self: flex-end;width: 50%;}#sk-container-id-6 div.sk-parallel-item:last-child::after {align-self: flex-start;width: 50%;}#sk-container-id-6 div.sk-parallel-item:only-child::after {width: 0;}#sk-container-id-6 div.sk-dashed-wrapped {border: 1px dashed gray;margin: 0 0.4em 0.5em 0.4em;box-sizing: border-box;padding-bottom: 0.4em;background-color: white;}#sk-container-id-6 div.sk-label label {font-family: monospace;font-weight: bold;display: inline-block;line-height: 1.2em;}#sk-container-id-6 div.sk-label-container {text-align: center;}#sk-container-id-6 div.sk-container {/* jupyter's `normalize.less` sets `[hidden] { display: none; }` but bootstrap.min.css set `[hidden] { display: none !important; }` so we also need the `!important` here to be able to override the default hidden behavior on the sphinx rendered scikit-learn.org. See: https://github.com/scikit-learn/scikit-learn/issues/21755 */display: inline-block !important;position: relative;}#sk-container-id-6 div.sk-text-repr-fallback {display: none;}</style><div id=\"sk-container-id-6\" class=\"sk-top-container\"><div class=\"sk-text-repr-fallback\"><pre>QuadraticDiscriminantAnalysis()</pre><b>In a Jupyter environment, please rerun this cell to show the HTML representation or trust the notebook. <br />On GitHub, the HTML representation is unable to render, please try loading this page with nbviewer.org.</b></div><div class=\"sk-container\" hidden><div class=\"sk-item\"><div class=\"sk-estimator sk-toggleable\"><input class=\"sk-toggleable__control sk-hidden--visually\" id=\"sk-estimator-id-6\" type=\"checkbox\" checked><label for=\"sk-estimator-id-6\" class=\"sk-toggleable__label sk-toggleable__label-arrow\">QuadraticDiscriminantAnalysis</label><div class=\"sk-toggleable__content\"><pre>QuadraticDiscriminantAnalysis()</pre></div></div></div></div></div>"
      ],
      "text/plain": [
       "QuadraticDiscriminantAnalysis()"
      ]
     },
     "execution_count": 40,
     "metadata": {},
     "output_type": "execute_result"
    }
   ],
   "source": [
    "# %%time\n",
    "# model = QuadraticDiscriminantAnalysis()\n",
    "# model.fit(Xtr, ytr)"
   ]
  },
  {
   "cell_type": "code",
   "execution_count": 41,
   "id": "8c34a3bd-caf6-4d7b-922a-13880fb3826d",
   "metadata": {
    "tags": []
   },
   "outputs": [],
   "source": [
    "# with open(os.path.join(MODEL_DIR, 'qda2.pickle'), 'wb') as f:\n",
    "#     pickle.dump(model, f)"
   ]
  },
  {
   "cell_type": "code",
   "execution_count": 42,
   "id": "01315d51-1390-42ab-8bb3-230e356b3844",
   "metadata": {},
   "outputs": [
    {
     "name": "stdout",
     "output_type": "stream",
     "text": [
      "QuadraticDiscriminantAnalysis()\n"
     ]
    }
   ],
   "source": [
    "with open(os.path.join(MODEL_DIR, 'qda2.pickle'), 'rb') as f:\n",
    "    model = pickle.load(f)\n",
    "    print(model)"
   ]
  },
  {
   "cell_type": "code",
   "execution_count": 43,
   "id": "741daa5c-fd9e-4124-a094-60e4980cef30",
   "metadata": {},
   "outputs": [],
   "source": [
    "yhat_probs = model.predict_proba(Xte)\n",
    "yhat = model.predict(Xte)\n",
    "yhat1_probs = yhat_probs[:, 1]"
   ]
  },
  {
   "cell_type": "code",
   "execution_count": 44,
   "id": "ba492efd-92fc-4684-b5cc-3ee18fe1784c",
   "metadata": {},
   "outputs": [],
   "source": [
    "models.append('qda')\n",
    "roc_aucs.append(roc_auc_score(yte, yhat1_probs))\n",
    "pr_aucs.append(average_precision_score(yte, yhat))\n",
    "precisions.append(precision_score(yte, yhat))\n",
    "recalls.append(recall_score(yte, yhat))\n",
    "f1s.append(f1_score(yte, yhat))\n",
    "roc_curves.append(roc_curve(yte, yhat1_probs))\n",
    "pr_curves.append(precision_recall_curve(yte, yhat1_probs))"
   ]
  },
  {
   "cell_type": "markdown",
   "id": "e02d55f0-2314-4636-abbc-108a3776de18",
   "metadata": {},
   "source": [
    "## XGBoost"
   ]
  },
  {
   "cell_type": "code",
   "execution_count": 45,
   "id": "3a2bb391-139c-4ff0-9a49-74cf26a41e4d",
   "metadata": {},
   "outputs": [
    {
     "name": "stdout",
     "output_type": "stream",
     "text": [
      "Estimate: 21.253\n"
     ]
    }
   ],
   "source": [
    "from collections import Counter\n",
    "\n",
    "# count examples in each class\n",
    "count_label = Counter(ytr)\n",
    "# estimate scale_pos_weight value\n",
    "estimate = count_label[0] / count_label[1]\n",
    "print('Estimate: %.3f' % estimate)"
   ]
  },
  {
   "cell_type": "code",
   "execution_count": 46,
   "id": "93fa78a5-8a15-4778-b11e-f600bc20705a",
   "metadata": {},
   "outputs": [],
   "source": [
    "from math import ceil\n",
    "\n",
    "model = XGBClassifier(\n",
    "    objective='binary:logistic',\n",
    "    scale_pos_weight = ceil(estimate),\n",
    "    max_delta_step=1,\n",
    "    seed=42,\n",
    "    verbosity=1\n",
    ")"
   ]
  },
  {
   "cell_type": "code",
   "execution_count": 47,
   "id": "5f3cdc40-f8fb-428c-8f09-28c314dcecc9",
   "metadata": {},
   "outputs": [
    {
     "data": {
      "text/html": [
       "<style>#sk-container-id-7 {color: black;background-color: white;}#sk-container-id-7 pre{padding: 0;}#sk-container-id-7 div.sk-toggleable {background-color: white;}#sk-container-id-7 label.sk-toggleable__label {cursor: pointer;display: block;width: 100%;margin-bottom: 0;padding: 0.3em;box-sizing: border-box;text-align: center;}#sk-container-id-7 label.sk-toggleable__label-arrow:before {content: \"▸\";float: left;margin-right: 0.25em;color: #696969;}#sk-container-id-7 label.sk-toggleable__label-arrow:hover:before {color: black;}#sk-container-id-7 div.sk-estimator:hover label.sk-toggleable__label-arrow:before {color: black;}#sk-container-id-7 div.sk-toggleable__content {max-height: 0;max-width: 0;overflow: hidden;text-align: left;background-color: #f0f8ff;}#sk-container-id-7 div.sk-toggleable__content pre {margin: 0.2em;color: black;border-radius: 0.25em;background-color: #f0f8ff;}#sk-container-id-7 input.sk-toggleable__control:checked~div.sk-toggleable__content {max-height: 200px;max-width: 100%;overflow: auto;}#sk-container-id-7 input.sk-toggleable__control:checked~label.sk-toggleable__label-arrow:before {content: \"▾\";}#sk-container-id-7 div.sk-estimator input.sk-toggleable__control:checked~label.sk-toggleable__label {background-color: #d4ebff;}#sk-container-id-7 div.sk-label input.sk-toggleable__control:checked~label.sk-toggleable__label {background-color: #d4ebff;}#sk-container-id-7 input.sk-hidden--visually {border: 0;clip: rect(1px 1px 1px 1px);clip: rect(1px, 1px, 1px, 1px);height: 1px;margin: -1px;overflow: hidden;padding: 0;position: absolute;width: 1px;}#sk-container-id-7 div.sk-estimator {font-family: monospace;background-color: #f0f8ff;border: 1px dotted black;border-radius: 0.25em;box-sizing: border-box;margin-bottom: 0.5em;}#sk-container-id-7 div.sk-estimator:hover {background-color: #d4ebff;}#sk-container-id-7 div.sk-parallel-item::after {content: \"\";width: 100%;border-bottom: 1px solid gray;flex-grow: 1;}#sk-container-id-7 div.sk-label:hover label.sk-toggleable__label {background-color: #d4ebff;}#sk-container-id-7 div.sk-serial::before {content: \"\";position: absolute;border-left: 1px solid gray;box-sizing: border-box;top: 0;bottom: 0;left: 50%;z-index: 0;}#sk-container-id-7 div.sk-serial {display: flex;flex-direction: column;align-items: center;background-color: white;padding-right: 0.2em;padding-left: 0.2em;position: relative;}#sk-container-id-7 div.sk-item {position: relative;z-index: 1;}#sk-container-id-7 div.sk-parallel {display: flex;align-items: stretch;justify-content: center;background-color: white;position: relative;}#sk-container-id-7 div.sk-item::before, #sk-container-id-7 div.sk-parallel-item::before {content: \"\";position: absolute;border-left: 1px solid gray;box-sizing: border-box;top: 0;bottom: 0;left: 50%;z-index: -1;}#sk-container-id-7 div.sk-parallel-item {display: flex;flex-direction: column;z-index: 1;position: relative;background-color: white;}#sk-container-id-7 div.sk-parallel-item:first-child::after {align-self: flex-end;width: 50%;}#sk-container-id-7 div.sk-parallel-item:last-child::after {align-self: flex-start;width: 50%;}#sk-container-id-7 div.sk-parallel-item:only-child::after {width: 0;}#sk-container-id-7 div.sk-dashed-wrapped {border: 1px dashed gray;margin: 0 0.4em 0.5em 0.4em;box-sizing: border-box;padding-bottom: 0.4em;background-color: white;}#sk-container-id-7 div.sk-label label {font-family: monospace;font-weight: bold;display: inline-block;line-height: 1.2em;}#sk-container-id-7 div.sk-label-container {text-align: center;}#sk-container-id-7 div.sk-container {/* jupyter's `normalize.less` sets `[hidden] { display: none; }` but bootstrap.min.css set `[hidden] { display: none !important; }` so we also need the `!important` here to be able to override the default hidden behavior on the sphinx rendered scikit-learn.org. See: https://github.com/scikit-learn/scikit-learn/issues/21755 */display: inline-block !important;position: relative;}#sk-container-id-7 div.sk-text-repr-fallback {display: none;}</style><div id=\"sk-container-id-7\" class=\"sk-top-container\"><div class=\"sk-text-repr-fallback\"><pre>XGBClassifier(base_score=0.5, booster=&#x27;gbtree&#x27;, callbacks=None,\n",
       "              colsample_bylevel=1, colsample_bynode=1, colsample_bytree=1,\n",
       "              early_stopping_rounds=None, enable_categorical=False,\n",
       "              eval_metric=None, gamma=0, gpu_id=-1, grow_policy=&#x27;depthwise&#x27;,\n",
       "              importance_type=None, interaction_constraints=&#x27;&#x27;,\n",
       "              learning_rate=0.300000012, max_bin=256, max_cat_to_onehot=4,\n",
       "              max_delta_step=1, max_depth=6, max_leaves=0, min_child_weight=1,\n",
       "              missing=nan, monotone_constraints=&#x27;()&#x27;, n_estimators=100,\n",
       "              n_jobs=0, num_parallel_tree=1, predictor=&#x27;auto&#x27;, random_state=42,\n",
       "              reg_alpha=0, reg_lambda=1, ...)</pre><b>In a Jupyter environment, please rerun this cell to show the HTML representation or trust the notebook. <br />On GitHub, the HTML representation is unable to render, please try loading this page with nbviewer.org.</b></div><div class=\"sk-container\" hidden><div class=\"sk-item\"><div class=\"sk-estimator sk-toggleable\"><input class=\"sk-toggleable__control sk-hidden--visually\" id=\"sk-estimator-id-7\" type=\"checkbox\" checked><label for=\"sk-estimator-id-7\" class=\"sk-toggleable__label sk-toggleable__label-arrow\">XGBClassifier</label><div class=\"sk-toggleable__content\"><pre>XGBClassifier(base_score=0.5, booster=&#x27;gbtree&#x27;, callbacks=None,\n",
       "              colsample_bylevel=1, colsample_bynode=1, colsample_bytree=1,\n",
       "              early_stopping_rounds=None, enable_categorical=False,\n",
       "              eval_metric=None, gamma=0, gpu_id=-1, grow_policy=&#x27;depthwise&#x27;,\n",
       "              importance_type=None, interaction_constraints=&#x27;&#x27;,\n",
       "              learning_rate=0.300000012, max_bin=256, max_cat_to_onehot=4,\n",
       "              max_delta_step=1, max_depth=6, max_leaves=0, min_child_weight=1,\n",
       "              missing=nan, monotone_constraints=&#x27;()&#x27;, n_estimators=100,\n",
       "              n_jobs=0, num_parallel_tree=1, predictor=&#x27;auto&#x27;, random_state=42,\n",
       "              reg_alpha=0, reg_lambda=1, ...)</pre></div></div></div></div></div>"
      ],
      "text/plain": [
       "XGBClassifier(base_score=0.5, booster='gbtree', callbacks=None,\n",
       "              colsample_bylevel=1, colsample_bynode=1, colsample_bytree=1,\n",
       "              early_stopping_rounds=None, enable_categorical=False,\n",
       "              eval_metric=None, gamma=0, gpu_id=-1, grow_policy='depthwise',\n",
       "              importance_type=None, interaction_constraints='',\n",
       "              learning_rate=0.300000012, max_bin=256, max_cat_to_onehot=4,\n",
       "              max_delta_step=1, max_depth=6, max_leaves=0, min_child_weight=1,\n",
       "              missing=nan, monotone_constraints='()', n_estimators=100,\n",
       "              n_jobs=0, num_parallel_tree=1, predictor='auto', random_state=42,\n",
       "              reg_alpha=0, reg_lambda=1, ...)"
      ]
     },
     "execution_count": 47,
     "metadata": {},
     "output_type": "execute_result"
    }
   ],
   "source": [
    "# model.fit(Xtr, ytr)"
   ]
  },
  {
   "cell_type": "code",
   "execution_count": 48,
   "id": "e20501fa-2ca2-4531-a632-ce6c613d8f96",
   "metadata": {},
   "outputs": [],
   "source": [
    "# model.save_model(os.path.join(MODEL_DIR, 'xgb2.model'))"
   ]
  },
  {
   "cell_type": "code",
   "execution_count": 49,
   "id": "aeaf117f-33ec-4dc2-8223-a8c147a50f25",
   "metadata": {},
   "outputs": [
    {
     "name": "stdout",
     "output_type": "stream",
     "text": [
      "XGBClassifier(base_score=0.5, booster='gbtree', callbacks=None,\n",
      "              colsample_bylevel=1, colsample_bynode=1, colsample_bytree=1,\n",
      "              early_stopping_rounds=None, enable_categorical=False,\n",
      "              eval_metric=None, gamma=0, gpu_id=-1, grow_policy='depthwise',\n",
      "              importance_type=None, interaction_constraints='',\n",
      "              learning_rate=0.300000012, max_bin=256, max_cat_to_onehot=4,\n",
      "              max_delta_step=1, max_depth=6, max_leaves=0, min_child_weight=1,\n",
      "              missing=nan, monotone_constraints='()', n_estimators=100,\n",
      "              n_jobs=0, num_parallel_tree=1, predictor='auto', random_state=42,\n",
      "              reg_alpha=0, reg_lambda=1, ...)\n"
     ]
    }
   ],
   "source": [
    "# model = XGBClassifier()  # init model\n",
    "model.load_model(os.path.join(MODEL_DIR, 'xgb2.model'))\n",
    "print(model)"
   ]
  },
  {
   "cell_type": "code",
   "execution_count": 50,
   "id": "5cdc3a00-be9c-4241-897f-6c8d16d48d5a",
   "metadata": {},
   "outputs": [],
   "source": [
    "# xgb.plot_tree(model, num_trees=2)\n",
    "# xgb.to_graphviz(model, num_trees=2)"
   ]
  },
  {
   "cell_type": "code",
   "execution_count": 51,
   "id": "1e3de526-657f-47eb-a98a-ed0bc94eb265",
   "metadata": {},
   "outputs": [
    {
     "data": {
      "text/plain": [
       "<AxesSubplot: title={'center': 'Feature importance'}, xlabel='F score', ylabel='Features'>"
      ]
     },
     "execution_count": 51,
     "metadata": {},
     "output_type": "execute_result"
    },
    {
     "data": {
      "image/png": "[encoded data removed]",
      "text/plain": [
       "<Figure size 640x480 with 1 Axes>"
      ]
     },
     "metadata": {},
     "output_type": "display_data"
    }
   ],
   "source": [
    "xgb.plot_importance(model)"
   ]
  },
  {
   "cell_type": "code",
   "execution_count": 52,
   "id": "0627b6bf-eb5f-4c39-b734-e3f44ba5ac9a",
   "metadata": {},
   "outputs": [],
   "source": [
    "yhat_probs = model.predict_proba(Xte, iteration_range=(0, model.best_iteration + 1))\n",
    "yhat = model.predict(Xte, iteration_range=(0, model.best_iteration + 1))\n",
    "yhat1_probs = yhat_probs[:, 1]"
   ]
  },
  {
   "cell_type": "code",
   "execution_count": 53,
   "id": "d17346a8-972a-4a83-8dc2-6f4bc4357f88",
   "metadata": {},
   "outputs": [],
   "source": [
    "# with open(os.path.join(MODEL_DIR, 'xgb2_yhat_probs.pickle'), 'wb') as f:\n",
    "#     pickle.dump(yhat_probs, f)\n",
    "    \n",
    "# with open(os.path.join(MODEL_DIR, 'xgb2_yhat.pickle'), 'wb') as f:\n",
    "#     pickle.dump(yhat, f)"
   ]
  },
  {
   "cell_type": "code",
   "execution_count": 54,
   "id": "c3b37678-2075-4f11-a1dd-642a761985de",
   "metadata": {},
   "outputs": [],
   "source": [
    "models.append('xgb')\n",
    "roc_aucs.append(roc_auc_score(yte, yhat1_probs))\n",
    "pr_aucs.append(average_precision_score(yte, yhat))\n",
    "precisions.append(precision_score(yte, yhat))\n",
    "recalls.append(recall_score(yte, yhat))\n",
    "f1s.append(f1_score(yte, yhat))\n",
    "roc_curves.append(roc_curve(yte, yhat1_probs))\n",
    "pr_curves.append(precision_recall_curve(yte, yhat1_probs))"
   ]
  },
  {
   "cell_type": "markdown",
   "id": "10804a5f-c661-4686-a7fc-f1e6d41676ee",
   "metadata": {},
   "source": [
    "## Evaluate models"
   ]
  },
  {
   "cell_type": "code",
   "execution_count": 55,
   "id": "29a1c037-34fa-4b65-a27c-1bb207f86150",
   "metadata": {},
   "outputs": [
    {
     "name": "stdout",
     "output_type": "stream",
     "text": [
      "nb: ROC AUC = 0.726\n",
      "nb: PR AUC = 0.045\n",
      "nb: Precision = 0.091\n",
      "nb: Recall = 0.001\n",
      "nb: F1 = 0.002\n",
      "knn: ROC AUC = 0.721\n",
      "knn: PR AUC = 0.155\n",
      "knn: Precision = 0.500\n",
      "knn: Recall = 0.241\n",
      "knn: F1 = 0.325\n",
      "lsvc: ROC AUC = 0.500\n",
      "lsvc: PR AUC = 0.045\n",
      "lsvc: Precision = 0.000\n",
      "lsvc: Recall = 0.000\n",
      "lsvc: F1 = 0.000\n",
      "lda: ROC AUC = 0.706\n",
      "lda: PR AUC = 0.045\n",
      "lda: Precision = 0.000\n",
      "lda: Recall = 0.000\n",
      "lda: F1 = 0.000\n",
      "qda: ROC AUC = 0.781\n",
      "qda: PR AUC = 0.047\n",
      "qda: Precision = 0.146\n",
      "qda: Recall = 0.022\n",
      "qda: F1 = 0.038\n",
      "xgb: ROC AUC = 0.875\n",
      "xgb: PR AUC = 0.161\n",
      "xgb: Precision = 0.210\n",
      "xgb: Recall = 0.704\n",
      "xgb: F1 = 0.324\n"
     ]
    },
    {
     "data": {
      "image/png": "[encoded data removed]",
      "text/plain": [
       "<Figure size 1200x400 with 2 Axes>"
      ]
     },
     "metadata": {},
     "output_type": "display_data"
    }
   ],
   "source": [
    "plt.figure(figsize=(12, 4))\n",
    "random_yhat_probs = np.zeros(len(yte))\n",
    "random_fpr, random_tpr, _ = roc_curve(yte, random_yhat_probs)\n",
    "\n",
    "# relevant metrics\n",
    "# roc_auc_score(yte, yhat1_probs)\n",
    "# average_precision_score(yte, yhat)\n",
    "# precision_score(yte, yhat)\n",
    "# recall_score(yte, yhat)\n",
    "# f1_score(yte, yhat)\n",
    "# roc_curve(yte, yhat1_probs)\n",
    "# precision_recall_curve(yte, yhat1_probs)\n",
    "\n",
    "for _model, _roc_auc, _pr_auc, _precision, _recall, _f1, _roc_curve, _pr_curve in zip(models, roc_aucs, pr_aucs, precisions, recalls, f1s, roc_curves, pr_curves):\n",
    "    print(f'{_model}: ROC AUC = {_roc_auc:.3f}')\n",
    "    print(f'{_model}: PR AUC = {_pr_auc:.3f}')\n",
    "    print(f'{_model}: Precision = {_precision:.3f}')\n",
    "    print(f'{_model}: Recall = {_recall:.3f}')\n",
    "    print(f'{_model}: F1 = {_f1:.3f}')\n",
    "\n",
    "\n",
    "    # ROC\n",
    "    fpr, tpr, _ = _roc_curve\n",
    "\n",
    "    plt.subplot(1, 2, 1)\n",
    "    plt.plot(fpr, tpr, marker='.', label=_model)\n",
    "\n",
    "    plt.title('ROC Curve')\n",
    "    plt.xlabel('False Positive Rate')\n",
    "    plt.ylabel('True Positive Rate')\n",
    "    plt.legend()\n",
    "\n",
    "\n",
    "    # PR\n",
    "    precision, recall, _ = _pr_curve\n",
    "\n",
    "    plt.subplot(1, 2, 2)\n",
    "    no_skill = len(yte[yte==1]) / len(yte)\n",
    "    plt.plot(recall, precision, marker='.', label=_model)\n",
    "\n",
    "    plt.title('PR Curve')\n",
    "    plt.xlabel('Recall')\n",
    "    plt.ylabel('Precision')\n",
    "    plt.legend()\n",
    "\n",
    "plt.subplot(1, 2, 1)\n",
    "plt.plot(random_fpr, random_tpr, linestyle='--', label='Random')\n",
    "plt.subplot(1, 2, 2)\n",
    "plt.plot([0, 1], [no_skill, no_skill], linestyle='--', label='Random')\n",
    "plt.show()"
   ]
  },
  {
   "cell_type": "code",
   "execution_count": null,
   "id": "3a11371d-68ba-4a68-b5c1-84dade2eee87",
   "metadata": {},
   "outputs": [],
   "source": []
  }
 ],
 "metadata": {
  "kernelspec": {
   "display_name": "Python 3 (ipykernel)",
   "language": "python",
   "name": "python3"
  },
  "language_info": {
   "codemirror_mode": {
    "name": "ipython",
    "version": 3
   },
   "file_extension": ".py",
   "mimetype": "text/x-python",
   "name": "python",
   "nbconvert_exporter": "python",
   "pygments_lexer": "ipython3",
   "version": "3.8.10"
  }
 },
 "nbformat": 4,
 "nbformat_minor": 5
}
