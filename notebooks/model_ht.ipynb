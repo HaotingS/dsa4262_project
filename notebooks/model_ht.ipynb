{
 "cells": [
  {
   "cell_type": "markdown",
   "metadata": {},
   "source": [
    "# Importing Dependencies"
   ]
  },
  {
   "cell_type": "code",
   "execution_count": 1,
   "metadata": {},
   "outputs": [],
   "source": [
    "import pandas as pd\n",
    "import numpy as np\n",
    "import json "
   ]
  },
  {
   "cell_type": "markdown",
   "metadata": {},
   "source": [
    "# Processing Data"
   ]
  },
  {
   "cell_type": "code",
   "execution_count": 2,
   "metadata": {
    "tags": []
   },
   "outputs": [],
   "source": [
    "temp_lst = list()\n",
    "\n",
    "with open('../data/data.json', 'rb') as f:\n",
    "    for line in f:\n",
    "        temp1 = json.loads(line)\n",
    "\n",
    "        for gene_id, reads in temp1.items():\n",
    "            \n",
    "            for read_pos, trans_vals in reads.items():\n",
    "\n",
    "                for trans_id, vals in trans_vals.items():\n",
    "                    \n",
    "                    for val in vals:\n",
    "                        row1 = (gene_id, read_pos, trans_id, val)\n",
    "                        temp_lst.append(row1)"
   ]
  },
  {
   "cell_type": "code",
   "execution_count": 3,
   "metadata": {
    "tags": []
   },
   "outputs": [],
   "source": [
    "df = pd.DataFrame(temp_lst, columns=['transcript_id', 'transcript_position', 'nucleotides', 'val'])\n",
    "temp = pd.DataFrame(df.val.tolist(), index= df.index)\n",
    "\n",
    "df = pd.concat([df, temp], axis=1)\n",
    "df.drop(columns=['val'], inplace=True)"
   ]
  },
  {
   "cell_type": "code",
   "execution_count": 4,
   "metadata": {},
   "outputs": [],
   "source": [
    "df['n0'] = df['nucleotides'].str[:-2]\n",
    "df['n1'] = df['nucleotides'].str[1:-1]\n",
    "df['n2'] = df['nucleotides'].str[2:]"
   ]
  },
  {
   "cell_type": "code",
   "execution_count": 5,
   "metadata": {},
   "outputs": [
    {
     "data": {
      "text/html": [
       "<div>\n",
       "<style scoped>\n",
       "    .dataframe tbody tr th:only-of-type {\n",
       "        vertical-align: middle;\n",
       "    }\n",
       "\n",
       "    .dataframe tbody tr th {\n",
       "        vertical-align: top;\n",
       "    }\n",
       "\n",
       "    .dataframe thead th {\n",
       "        text-align: right;\n",
       "    }\n",
       "</style>\n",
       "<table border=\"1\" class=\"dataframe\">\n",
       "  <thead>\n",
       "    <tr style=\"text-align: right;\">\n",
       "      <th></th>\n",
       "      <th>transcript_id</th>\n",
       "      <th>transcript_position</th>\n",
       "      <th>parent</th>\n",
       "      <th>nucleotides</th>\n",
       "      <th>dwelling_time</th>\n",
       "      <th>std_dev</th>\n",
       "      <th>mean</th>\n",
       "      <th>flank_pos</th>\n",
       "    </tr>\n",
       "  </thead>\n",
       "  <tbody>\n",
       "    <tr>\n",
       "      <th>0</th>\n",
       "      <td>ENST00000000233</td>\n",
       "      <td>244</td>\n",
       "      <td>AAGACCA</td>\n",
       "      <td>AAGAC</td>\n",
       "      <td>0.00299</td>\n",
       "      <td>2.06</td>\n",
       "      <td>125.0</td>\n",
       "      <td>-1</td>\n",
       "    </tr>\n",
       "    <tr>\n",
       "      <th>1</th>\n",
       "      <td>ENST00000000233</td>\n",
       "      <td>244</td>\n",
       "      <td>AAGACCA</td>\n",
       "      <td>AAGAC</td>\n",
       "      <td>0.00631</td>\n",
       "      <td>2.53</td>\n",
       "      <td>125.0</td>\n",
       "      <td>-1</td>\n",
       "    </tr>\n",
       "    <tr>\n",
       "      <th>2</th>\n",
       "      <td>ENST00000000233</td>\n",
       "      <td>244</td>\n",
       "      <td>AAGACCA</td>\n",
       "      <td>AAGAC</td>\n",
       "      <td>0.00465</td>\n",
       "      <td>3.92</td>\n",
       "      <td>109.0</td>\n",
       "      <td>-1</td>\n",
       "    </tr>\n",
       "    <tr>\n",
       "      <th>3</th>\n",
       "      <td>ENST00000000233</td>\n",
       "      <td>244</td>\n",
       "      <td>AAGACCA</td>\n",
       "      <td>AAGAC</td>\n",
       "      <td>0.00398</td>\n",
       "      <td>2.06</td>\n",
       "      <td>125.0</td>\n",
       "      <td>-1</td>\n",
       "    </tr>\n",
       "    <tr>\n",
       "      <th>4</th>\n",
       "      <td>ENST00000000233</td>\n",
       "      <td>244</td>\n",
       "      <td>AAGACCA</td>\n",
       "      <td>AAGAC</td>\n",
       "      <td>0.00664</td>\n",
       "      <td>2.92</td>\n",
       "      <td>120.0</td>\n",
       "      <td>-1</td>\n",
       "    </tr>\n",
       "    <tr>\n",
       "      <th>...</th>\n",
       "      <td>...</td>\n",
       "      <td>...</td>\n",
       "      <td>...</td>\n",
       "      <td>...</td>\n",
       "      <td>...</td>\n",
       "      <td>...</td>\n",
       "      <td>...</td>\n",
       "      <td>...</td>\n",
       "    </tr>\n",
       "    <tr>\n",
       "      <th>11027101</th>\n",
       "      <td>ENST00000641834</td>\n",
       "      <td>1693</td>\n",
       "      <td>TTGACAT</td>\n",
       "      <td>GACAT</td>\n",
       "      <td>0.01000</td>\n",
       "      <td>2.01</td>\n",
       "      <td>76.4</td>\n",
       "      <td>1</td>\n",
       "    </tr>\n",
       "    <tr>\n",
       "      <th>11027102</th>\n",
       "      <td>ENST00000641834</td>\n",
       "      <td>1693</td>\n",
       "      <td>TTGACAT</td>\n",
       "      <td>GACAT</td>\n",
       "      <td>0.01760</td>\n",
       "      <td>2.61</td>\n",
       "      <td>74.6</td>\n",
       "      <td>1</td>\n",
       "    </tr>\n",
       "    <tr>\n",
       "      <th>11027103</th>\n",
       "      <td>ENST00000641834</td>\n",
       "      <td>1693</td>\n",
       "      <td>TTGACAT</td>\n",
       "      <td>GACAT</td>\n",
       "      <td>0.00316</td>\n",
       "      <td>2.28</td>\n",
       "      <td>85.3</td>\n",
       "      <td>1</td>\n",
       "    </tr>\n",
       "    <tr>\n",
       "      <th>11027104</th>\n",
       "      <td>ENST00000641834</td>\n",
       "      <td>1693</td>\n",
       "      <td>TTGACAT</td>\n",
       "      <td>GACAT</td>\n",
       "      <td>0.00664</td>\n",
       "      <td>4.44</td>\n",
       "      <td>76.8</td>\n",
       "      <td>1</td>\n",
       "    </tr>\n",
       "    <tr>\n",
       "      <th>11027105</th>\n",
       "      <td>ENST00000641834</td>\n",
       "      <td>1693</td>\n",
       "      <td>TTGACAT</td>\n",
       "      <td>GACAT</td>\n",
       "      <td>0.01930</td>\n",
       "      <td>1.79</td>\n",
       "      <td>76.2</td>\n",
       "      <td>1</td>\n",
       "    </tr>\n",
       "  </tbody>\n",
       "</table>\n",
       "<p>33081318 rows × 8 columns</p>\n",
       "</div>"
      ],
      "text/plain": [
       "            transcript_id transcript_position   parent nucleotides  \\\n",
       "0         ENST00000000233                 244  AAGACCA       AAGAC   \n",
       "1         ENST00000000233                 244  AAGACCA       AAGAC   \n",
       "2         ENST00000000233                 244  AAGACCA       AAGAC   \n",
       "3         ENST00000000233                 244  AAGACCA       AAGAC   \n",
       "4         ENST00000000233                 244  AAGACCA       AAGAC   \n",
       "...                   ...                 ...      ...         ...   \n",
       "11027101  ENST00000641834                1693  TTGACAT       GACAT   \n",
       "11027102  ENST00000641834                1693  TTGACAT       GACAT   \n",
       "11027103  ENST00000641834                1693  TTGACAT       GACAT   \n",
       "11027104  ENST00000641834                1693  TTGACAT       GACAT   \n",
       "11027105  ENST00000641834                1693  TTGACAT       GACAT   \n",
       "\n",
       "          dwelling_time  std_dev   mean  flank_pos  \n",
       "0               0.00299     2.06  125.0         -1  \n",
       "1               0.00631     2.53  125.0         -1  \n",
       "2               0.00465     3.92  109.0         -1  \n",
       "3               0.00398     2.06  125.0         -1  \n",
       "4               0.00664     2.92  120.0         -1  \n",
       "...                 ...      ...    ...        ...  \n",
       "11027101        0.01000     2.01   76.4          1  \n",
       "11027102        0.01760     2.61   74.6          1  \n",
       "11027103        0.00316     2.28   85.3          1  \n",
       "11027104        0.00664     4.44   76.8          1  \n",
       "11027105        0.01930     1.79   76.2          1  \n",
       "\n",
       "[33081318 rows x 8 columns]"
      ]
     },
     "execution_count": 5,
     "metadata": {},
     "output_type": "execute_result"
    }
   ],
   "source": [
    "df_n0 = df[['transcript_id', 'transcript_position', 'nucleotides', 'n0', 0, 1, 2]].copy()\n",
    "df_n1 = df[['transcript_id', 'transcript_position', 'nucleotides', 'n1', 3, 4, 5]].copy()\n",
    "df_n2 = df[['transcript_id', 'transcript_position', 'nucleotides', 'n2', 6, 7, 8]].copy()\n",
    "\n",
    "df_n0.rename(columns={'nucleotides': 'parent', 'n0': 'nucleotides'}, inplace = True)\n",
    "df_n1.rename(columns={'nucleotides': 'parent', 'n1': 'nucleotides', 3:0, 4:1, 5:2 }, inplace = True)\n",
    "df_n2.rename(columns={'nucleotides': 'parent', 'n2': 'nucleotides', 6:0, 7:1, 8:2 }, inplace = True)\n",
    "\n",
    "df_n0['flank_pos'] = -1\n",
    "df_n1['flank_pos'] = 0\n",
    "df_n2['flank_pos'] = 1\n",
    "\n",
    "\n",
    "df = pd.concat([df_n0, df_n1, df_n2], axis=0)\n",
    "df.rename(columns={0:'dwelling_time', 1:'std_dev', 2:'mean'}, inplace=True)\n",
    "df"
   ]
  },
  {
   "cell_type": "markdown",
   "metadata": {},
   "source": [
    "# Feature Engineering"
   ]
  },
  {
   "cell_type": "markdown",
   "metadata": {},
   "source": [
    "## Helper Functions"
   ]
  },
  {
   "cell_type": "code",
   "execution_count": 6,
   "metadata": {},
   "outputs": [],
   "source": [
    "def get_pairing_composition(pairing, nucleotides_lst, results_lst):\n",
    "    for nucleotide in nucleotides_lst:\n",
    "        if pairing in nucleotide:\n",
    "            pairing_count = nucleotide.count(pairing)\n",
    "            pairing_composition = (pairing_count)/(len(nucleotide)-pairing_count)\n",
    "            results_lst.append(pairing_composition)\n",
    "        else:\n",
    "            results_lst.append(0)\n",
    "    return results_lst\n",
    "\n",
    "def get_composition(letter, nucleotides_lst, results_lst):\n",
    "    for nucleotide in nucleotides_lst:\n",
    "        if letter in nucleotide:\n",
    "            letter_count = nucleotide.count(letter)\n",
    "            letter_composition = letter_count/len(nucleotide)\n",
    "            results_lst.append(letter_composition)\n",
    "        else:\n",
    "            results_lst.append(0)\n",
    "    return results_lst"
   ]
  },
  {
   "cell_type": "markdown",
   "metadata": {},
   "source": [
    "## Pairing Compositions"
   ]
  },
  {
   "cell_type": "code",
   "execution_count": 7,
   "metadata": {},
   "outputs": [],
   "source": [
    "AT_PAIRING_COMPOSITION = []\n",
    "GC_PAIRING_COMPOSITION = []\n",
    "G_COMPOSITION = []\n",
    "C_COMPOSITION = []"
   ]
  },
  {
   "cell_type": "code",
   "execution_count": null,
   "metadata": {},
   "outputs": [],
   "source": [
    "get_pairing_composition('AT', list(df['nucleotides']), AT_PAIRING_COMPOSITION)  \n",
    "get_pairing_composition('GC', list(df['nucleotides']), GC_PAIRING_COMPOSITION) \n",
    "get_composition('G', list(df['nucleotides']), G_COMPOSITION)\n",
    "get_composition('C', list(df['nucleotides']), C_COMPOSITION)"
   ]
  },
  {
   "cell_type": "code",
   "execution_count": 9,
   "metadata": {},
   "outputs": [],
   "source": [
    "df['AT_composition'] = AT_PAIRING_COMPOSITION\n",
    "df['GC_composition'] = GC_PAIRING_COMPOSITION\n",
    "df['G_composition'] = G_COMPOSITION\n",
    "df['C_composition'] = C_COMPOSITION"
   ]
  },
  {
   "cell_type": "code",
   "execution_count": 10,
   "metadata": {},
   "outputs": [
    {
     "data": {
      "text/html": [
       "<div>\n",
       "<style scoped>\n",
       "    .dataframe tbody tr th:only-of-type {\n",
       "        vertical-align: middle;\n",
       "    }\n",
       "\n",
       "    .dataframe tbody tr th {\n",
       "        vertical-align: top;\n",
       "    }\n",
       "\n",
       "    .dataframe thead th {\n",
       "        text-align: right;\n",
       "    }\n",
       "</style>\n",
       "<table border=\"1\" class=\"dataframe\">\n",
       "  <thead>\n",
       "    <tr style=\"text-align: right;\">\n",
       "      <th></th>\n",
       "      <th>transcript_id</th>\n",
       "      <th>transcript_position</th>\n",
       "      <th>parent</th>\n",
       "      <th>nucleotides</th>\n",
       "      <th>dwelling_time</th>\n",
       "      <th>std_dev</th>\n",
       "      <th>mean</th>\n",
       "      <th>flank_pos</th>\n",
       "      <th>AT_composition</th>\n",
       "      <th>GC_composition</th>\n",
       "      <th>G_composition</th>\n",
       "      <th>C_composition</th>\n",
       "    </tr>\n",
       "  </thead>\n",
       "  <tbody>\n",
       "    <tr>\n",
       "      <th>0</th>\n",
       "      <td>ENST00000000233</td>\n",
       "      <td>244</td>\n",
       "      <td>AAGACCA</td>\n",
       "      <td>AAGAC</td>\n",
       "      <td>0.00299</td>\n",
       "      <td>2.06</td>\n",
       "      <td>125.0</td>\n",
       "      <td>-1</td>\n",
       "      <td>0.0</td>\n",
       "      <td>0</td>\n",
       "      <td>0.2</td>\n",
       "      <td>0.2</td>\n",
       "    </tr>\n",
       "    <tr>\n",
       "      <th>1</th>\n",
       "      <td>ENST00000000233</td>\n",
       "      <td>244</td>\n",
       "      <td>AAGACCA</td>\n",
       "      <td>AAGAC</td>\n",
       "      <td>0.00631</td>\n",
       "      <td>2.53</td>\n",
       "      <td>125.0</td>\n",
       "      <td>-1</td>\n",
       "      <td>0.0</td>\n",
       "      <td>0</td>\n",
       "      <td>0.2</td>\n",
       "      <td>0.2</td>\n",
       "    </tr>\n",
       "    <tr>\n",
       "      <th>2</th>\n",
       "      <td>ENST00000000233</td>\n",
       "      <td>244</td>\n",
       "      <td>AAGACCA</td>\n",
       "      <td>AAGAC</td>\n",
       "      <td>0.00465</td>\n",
       "      <td>3.92</td>\n",
       "      <td>109.0</td>\n",
       "      <td>-1</td>\n",
       "      <td>0.0</td>\n",
       "      <td>0</td>\n",
       "      <td>0.2</td>\n",
       "      <td>0.2</td>\n",
       "    </tr>\n",
       "    <tr>\n",
       "      <th>3</th>\n",
       "      <td>ENST00000000233</td>\n",
       "      <td>244</td>\n",
       "      <td>AAGACCA</td>\n",
       "      <td>AAGAC</td>\n",
       "      <td>0.00398</td>\n",
       "      <td>2.06</td>\n",
       "      <td>125.0</td>\n",
       "      <td>-1</td>\n",
       "      <td>0.0</td>\n",
       "      <td>0</td>\n",
       "      <td>0.2</td>\n",
       "      <td>0.2</td>\n",
       "    </tr>\n",
       "    <tr>\n",
       "      <th>4</th>\n",
       "      <td>ENST00000000233</td>\n",
       "      <td>244</td>\n",
       "      <td>AAGACCA</td>\n",
       "      <td>AAGAC</td>\n",
       "      <td>0.00664</td>\n",
       "      <td>2.92</td>\n",
       "      <td>120.0</td>\n",
       "      <td>-1</td>\n",
       "      <td>0.0</td>\n",
       "      <td>0</td>\n",
       "      <td>0.2</td>\n",
       "      <td>0.2</td>\n",
       "    </tr>\n",
       "  </tbody>\n",
       "</table>\n",
       "</div>"
      ],
      "text/plain": [
       "     transcript_id transcript_position   parent nucleotides  dwelling_time  \\\n",
       "0  ENST00000000233                 244  AAGACCA       AAGAC        0.00299   \n",
       "1  ENST00000000233                 244  AAGACCA       AAGAC        0.00631   \n",
       "2  ENST00000000233                 244  AAGACCA       AAGAC        0.00465   \n",
       "3  ENST00000000233                 244  AAGACCA       AAGAC        0.00398   \n",
       "4  ENST00000000233                 244  AAGACCA       AAGAC        0.00664   \n",
       "\n",
       "   std_dev   mean  flank_pos  AT_composition  GC_composition  G_composition  \\\n",
       "0     2.06  125.0         -1             0.0               0            0.2   \n",
       "1     2.53  125.0         -1             0.0               0            0.2   \n",
       "2     3.92  109.0         -1             0.0               0            0.2   \n",
       "3     2.06  125.0         -1             0.0               0            0.2   \n",
       "4     2.92  120.0         -1             0.0               0            0.2   \n",
       "\n",
       "   C_composition  \n",
       "0            0.2  \n",
       "1            0.2  \n",
       "2            0.2  \n",
       "3            0.2  \n",
       "4            0.2  "
      ]
     },
     "execution_count": 10,
     "metadata": {},
     "output_type": "execute_result"
    }
   ],
   "source": [
    "df.head()"
   ]
  },
  {
   "cell_type": "code",
   "execution_count": 11,
   "metadata": {},
   "outputs": [
    {
     "name": "stderr",
     "output_type": "stream",
     "text": [
      "/tmp/ipykernel_2018/2916288419.py:2: FutureWarning: The default value of numeric_only in DataFrameGroupBy.mean is deprecated. In a future version, numeric_only will default to False. Either specify numeric_only or select only columns which should be valid for the function.\n",
      "  temp1 = df.groupby(by = ['transcript_id', 'transcript_position', 'parent']).mean()\n"
     ]
    }
   ],
   "source": [
    "# groupby and agg using mean \n",
    "temp1 = df.groupby(by = ['transcript_id', 'transcript_position', 'parent']).mean()\n",
    "temp1.reset_index(inplace = True)\n",
    "temp1 = temp1.astype({'transcript_id':'str','transcript_position': 'str'})"
   ]
  },
  {
   "cell_type": "code",
   "execution_count": 12,
   "metadata": {},
   "outputs": [
    {
     "data": {
      "text/html": [
       "<div>\n",
       "<style scoped>\n",
       "    .dataframe tbody tr th:only-of-type {\n",
       "        vertical-align: middle;\n",
       "    }\n",
       "\n",
       "    .dataframe tbody tr th {\n",
       "        vertical-align: top;\n",
       "    }\n",
       "\n",
       "    .dataframe thead th {\n",
       "        text-align: right;\n",
       "    }\n",
       "</style>\n",
       "<table border=\"1\" class=\"dataframe\">\n",
       "  <thead>\n",
       "    <tr style=\"text-align: right;\">\n",
       "      <th></th>\n",
       "      <th>gene_id</th>\n",
       "      <th>transcript_id</th>\n",
       "      <th>transcript_position</th>\n",
       "      <th>label</th>\n",
       "    </tr>\n",
       "  </thead>\n",
       "  <tbody>\n",
       "    <tr>\n",
       "      <th>0</th>\n",
       "      <td>ENSG00000004059</td>\n",
       "      <td>ENST00000000233</td>\n",
       "      <td>244</td>\n",
       "      <td>0</td>\n",
       "    </tr>\n",
       "    <tr>\n",
       "      <th>1</th>\n",
       "      <td>ENSG00000004059</td>\n",
       "      <td>ENST00000000233</td>\n",
       "      <td>261</td>\n",
       "      <td>0</td>\n",
       "    </tr>\n",
       "    <tr>\n",
       "      <th>2</th>\n",
       "      <td>ENSG00000004059</td>\n",
       "      <td>ENST00000000233</td>\n",
       "      <td>316</td>\n",
       "      <td>0</td>\n",
       "    </tr>\n",
       "    <tr>\n",
       "      <th>3</th>\n",
       "      <td>ENSG00000004059</td>\n",
       "      <td>ENST00000000233</td>\n",
       "      <td>332</td>\n",
       "      <td>0</td>\n",
       "    </tr>\n",
       "    <tr>\n",
       "      <th>4</th>\n",
       "      <td>ENSG00000004059</td>\n",
       "      <td>ENST00000000233</td>\n",
       "      <td>368</td>\n",
       "      <td>0</td>\n",
       "    </tr>\n",
       "  </tbody>\n",
       "</table>\n",
       "</div>"
      ],
      "text/plain": [
       "           gene_id    transcript_id transcript_position  label\n",
       "0  ENSG00000004059  ENST00000000233                 244      0\n",
       "1  ENSG00000004059  ENST00000000233                 261      0\n",
       "2  ENSG00000004059  ENST00000000233                 316      0\n",
       "3  ENSG00000004059  ENST00000000233                 332      0\n",
       "4  ENSG00000004059  ENST00000000233                 368      0"
      ]
     },
     "execution_count": 12,
     "metadata": {},
     "output_type": "execute_result"
    }
   ],
   "source": [
    "df2 = pd.read_csv('../data/data.info')\n",
    "df2 = df2.astype({'transcript_position': 'str', 'transcript_id':'str'})\n",
    "df2.head()"
   ]
  },
  {
   "cell_type": "code",
   "execution_count": 15,
   "metadata": {},
   "outputs": [
    {
     "data": {
      "text/html": [
       "<div>\n",
       "<style scoped>\n",
       "    .dataframe tbody tr th:only-of-type {\n",
       "        vertical-align: middle;\n",
       "    }\n",
       "\n",
       "    .dataframe tbody tr th {\n",
       "        vertical-align: top;\n",
       "    }\n",
       "\n",
       "    .dataframe thead th {\n",
       "        text-align: right;\n",
       "    }\n",
       "</style>\n",
       "<table border=\"1\" class=\"dataframe\">\n",
       "  <thead>\n",
       "    <tr style=\"text-align: right;\">\n",
       "      <th></th>\n",
       "      <th>gene_id</th>\n",
       "      <th>transcript_id</th>\n",
       "      <th>transcript_position</th>\n",
       "      <th>label</th>\n",
       "      <th>parent</th>\n",
       "      <th>dwelling_time</th>\n",
       "      <th>std_dev</th>\n",
       "      <th>mean</th>\n",
       "      <th>flank_pos</th>\n",
       "      <th>AT_composition</th>\n",
       "      <th>GC_composition</th>\n",
       "      <th>G_composition</th>\n",
       "      <th>C_composition</th>\n",
       "    </tr>\n",
       "  </thead>\n",
       "  <tbody>\n",
       "    <tr>\n",
       "      <th>0</th>\n",
       "      <td>ENSG00000004059</td>\n",
       "      <td>ENST00000000233</td>\n",
       "      <td>244</td>\n",
       "      <td>0</td>\n",
       "      <td>AAGACCA</td>\n",
       "      <td>0.008328</td>\n",
       "      <td>5.330978</td>\n",
       "      <td>110.062162</td>\n",
       "      <td>0.0</td>\n",
       "      <td>0.000000</td>\n",
       "      <td>0.0</td>\n",
       "      <td>0.200000</td>\n",
       "      <td>0.333333</td>\n",
       "    </tr>\n",
       "    <tr>\n",
       "      <th>1</th>\n",
       "      <td>ENSG00000004059</td>\n",
       "      <td>ENST00000000233</td>\n",
       "      <td>261</td>\n",
       "      <td>0</td>\n",
       "      <td>CAAACTG</td>\n",
       "      <td>0.007044</td>\n",
       "      <td>3.153186</td>\n",
       "      <td>103.953876</td>\n",
       "      <td>0.0</td>\n",
       "      <td>0.000000</td>\n",
       "      <td>0.0</td>\n",
       "      <td>0.066667</td>\n",
       "      <td>0.266667</td>\n",
       "    </tr>\n",
       "    <tr>\n",
       "      <th>2</th>\n",
       "      <td>ENSG00000004059</td>\n",
       "      <td>ENST00000000233</td>\n",
       "      <td>316</td>\n",
       "      <td>0</td>\n",
       "      <td>GAAACAG</td>\n",
       "      <td>0.007514</td>\n",
       "      <td>2.890130</td>\n",
       "      <td>97.929009</td>\n",
       "      <td>0.0</td>\n",
       "      <td>0.000000</td>\n",
       "      <td>0.0</td>\n",
       "      <td>0.133333</td>\n",
       "      <td>0.200000</td>\n",
       "    </tr>\n",
       "    <tr>\n",
       "      <th>3</th>\n",
       "      <td>ENSG00000004059</td>\n",
       "      <td>ENST00000000233</td>\n",
       "      <td>332</td>\n",
       "      <td>0</td>\n",
       "      <td>AGAACAT</td>\n",
       "      <td>0.008451</td>\n",
       "      <td>3.870690</td>\n",
       "      <td>105.448500</td>\n",
       "      <td>0.0</td>\n",
       "      <td>0.083333</td>\n",
       "      <td>0.0</td>\n",
       "      <td>0.133333</td>\n",
       "      <td>0.200000</td>\n",
       "    </tr>\n",
       "    <tr>\n",
       "      <th>4</th>\n",
       "      <td>ENSG00000004059</td>\n",
       "      <td>ENST00000000233</td>\n",
       "      <td>368</td>\n",
       "      <td>0</td>\n",
       "      <td>AGGACAA</td>\n",
       "      <td>0.010733</td>\n",
       "      <td>5.515202</td>\n",
       "      <td>108.352525</td>\n",
       "      <td>0.0</td>\n",
       "      <td>0.000000</td>\n",
       "      <td>0.0</td>\n",
       "      <td>0.333333</td>\n",
       "      <td>0.200000</td>\n",
       "    </tr>\n",
       "  </tbody>\n",
       "</table>\n",
       "</div>"
      ],
      "text/plain": [
       "           gene_id    transcript_id transcript_position  label   parent  \\\n",
       "0  ENSG00000004059  ENST00000000233                 244      0  AAGACCA   \n",
       "1  ENSG00000004059  ENST00000000233                 261      0  CAAACTG   \n",
       "2  ENSG00000004059  ENST00000000233                 316      0  GAAACAG   \n",
       "3  ENSG00000004059  ENST00000000233                 332      0  AGAACAT   \n",
       "4  ENSG00000004059  ENST00000000233                 368      0  AGGACAA   \n",
       "\n",
       "   dwelling_time   std_dev        mean  flank_pos  AT_composition  \\\n",
       "0       0.008328  5.330978  110.062162        0.0        0.000000   \n",
       "1       0.007044  3.153186  103.953876        0.0        0.000000   \n",
       "2       0.007514  2.890130   97.929009        0.0        0.000000   \n",
       "3       0.008451  3.870690  105.448500        0.0        0.083333   \n",
       "4       0.010733  5.515202  108.352525        0.0        0.000000   \n",
       "\n",
       "   GC_composition  G_composition  C_composition  \n",
       "0             0.0       0.200000       0.333333  \n",
       "1             0.0       0.066667       0.266667  \n",
       "2             0.0       0.133333       0.200000  \n",
       "3             0.0       0.133333       0.200000  \n",
       "4             0.0       0.333333       0.200000  "
      ]
     },
     "execution_count": 15,
     "metadata": {},
     "output_type": "execute_result"
    }
   ],
   "source": [
    "df_full = df2.merge(temp1, how='left', right_on = ['transcript_id', 'transcript_position'], left_on = ['transcript_id', 'transcript_position'])\n",
    "df_full.head()"
   ]
  },
  {
   "cell_type": "code",
   "execution_count": 17,
   "metadata": {},
   "outputs": [],
   "source": [
    "# input for prediction -> (transcript_id, transcript_pos) -> output probability\n",
    "# use (transcript_id, transcript_pos) as indexer to look up row values for prediction\n",
    "df_feature = df_full.drop(columns=['gene_id', 'transcript_id', 'transcript_position', 'label', 'parent', 'flank_pos', 'GC_composition'])\n",
    "df_label = df_full[['label']]"
   ]
  },
  {
   "cell_type": "code",
   "execution_count": 18,
   "metadata": {},
   "outputs": [
    {
     "data": {
      "text/plain": [
       "<AxesSubplot: >"
      ]
     },
     "execution_count": 18,
     "metadata": {},
     "output_type": "execute_result"
    },
    {
     "data": {
      "image/png": "[encoded data removed]",
      "text/plain": [
       "<Figure size 640x480 with 1 Axes>"
      ]
     },
     "metadata": {},
     "output_type": "display_data"
    }
   ],
   "source": [
    "df_label.label.value_counts().plot(kind = 'barh')"
   ]
  },
  {
   "cell_type": "code",
   "execution_count": 19,
   "metadata": {},
   "outputs": [
    {
     "name": "stderr",
     "output_type": "stream",
     "text": [
      "/tmp/ipykernel_2018/1755363421.py:5: FutureWarning: The default value of numeric_only in DataFrame.corr is deprecated. In a future version, it will default to False. Select only valid columns or specify the value of numeric_only to silence this warning.\n",
      "  plt.matshow(df_feature.corr(), fignum=f.number)\n"
     ]
    },
    {
     "data": {
      "text/plain": [
       "Text(0.5, 1.0, 'Correlation Matrix')"
      ]
     },
     "execution_count": 19,
     "metadata": {},
     "output_type": "execute_result"
    },
    {
     "data": {
      "image/png": "[encoded data removed]",
      "text/plain": [
       "<Figure size 1000x1000 with 2 Axes>"
      ]
     },
     "metadata": {},
     "output_type": "display_data"
    }
   ],
   "source": [
    "import matplotlib.pyplot as plt\n",
    "\n",
    "f = plt.figure(figsize=(10, 10))\n",
    "\n",
    "plt.matshow(df_feature.corr(), fignum=f.number)\n",
    "plt.xticks(range(df_feature.select_dtypes(['number']).shape[1]), df_feature.select_dtypes(['number']).columns, fontsize=14, rotation=45)\n",
    "plt.yticks(range(df_feature.select_dtypes(['number']).shape[1]), df_feature.select_dtypes(['number']).columns, fontsize=14)\n",
    "cb = plt.colorbar()\n",
    "cb.ax.tick_params(labelsize=14)\n",
    "plt.title('Correlation Matrix', fontsize=16)"
   ]
  },
  {
   "cell_type": "code",
   "execution_count": 20,
   "metadata": {},
   "outputs": [
    {
     "name": "stdout",
     "output_type": "stream",
     "text": [
      "Estimate: 21.254\n"
     ]
    }
   ],
   "source": [
    "from collections import Counter\n",
    "\n",
    "# count examples in each class\n",
    "count_label = Counter(df_label['label'])\n",
    "# estimate scale_pos_weight value\n",
    "estimate = count_label[0] / count_label[1]\n",
    "print('Estimate: %.3f' % estimate)"
   ]
  },
  {
   "cell_type": "code",
   "execution_count": 29,
   "metadata": {},
   "outputs": [],
   "source": [
    "from sklearn.model_selection import train_test_split\n",
    "\n",
    "seed = 42 \n",
    "\n",
    "unique_gene_ids = list(df_full['gene_id'].unique())\n",
    "gtr = unique_gene_ids[:int(0.8 * len(unique_gene_ids))]\n",
    "gte = unique_gene_ids[int(0.8 * len(unique_gene_ids)):]\n",
    "\n",
    "df_tr = df_full.loc[df_full['gene_id'].isin(gtr)]\n",
    "df_te = df_full.loc[df_full['gene_id'].isin(gte)]\n",
    "\n",
    "X_train = df_tr.drop(columns=['gene_id', 'transcript_id', 'transcript_position', 'label', 'parent', 'flank_pos', 'GC_composition'])\n",
    "y_train = df_tr[['label']]\n",
    "X_test = df_te.drop(columns=['gene_id', 'transcript_id', 'transcript_position', 'label', 'parent', 'flank_pos', 'GC_composition'])\n",
    "y_test = df_te[['label']]\n",
    "# X_train, X_test, y_train, y_test  = train_test_split(df_feature, df_label, test_size=0.2, random_state=seed)\n",
    "# X_train, X_val, y_train, y_val = train_test_split(X_train, y_train, test_size=0.25, random_state=seed) "
   ]
  },
  {
   "cell_type": "code",
   "execution_count": 24,
   "metadata": {},
   "outputs": [
    {
     "name": "stdout",
     "output_type": "stream",
     "text": [
      "[15:35:48] DEBUG: ../src/gbm/gbtree.cc:155: Using tree method: 2\n",
      "[15:35:48] INFO: ../src/tree/updater_prune.cc:101: tree pruning end, 112 extra nodes, 0 pruned nodes, max_depth=6\n",
      "[15:35:48] INFO: ../src/tree/updater_prune.cc:101: tree pruning end, 118 extra nodes, 0 pruned nodes, max_depth=6\n",
      "[15:35:48] INFO: ../src/tree/updater_prune.cc:101: tree pruning end, 108 extra nodes, 0 pruned nodes, max_depth=6\n",
      "[15:35:48] INFO: ../src/tree/updater_prune.cc:101: tree pruning end, 116 extra nodes, 0 pruned nodes, max_depth=6\n",
      "[15:35:48] INFO: ../src/tree/updater_prune.cc:101: tree pruning end, 108 extra nodes, 0 pruned nodes, max_depth=6\n",
      "[15:35:48] INFO: ../src/tree/updater_prune.cc:101: tree pruning end, 108 extra nodes, 0 pruned nodes, max_depth=6\n",
      "[15:35:49] INFO: ../src/tree/updater_prune.cc:101: tree pruning end, 112 extra nodes, 0 pruned nodes, max_depth=6\n",
      "[15:35:49] INFO: ../src/tree/updater_prune.cc:101: tree pruning end, 104 extra nodes, 0 pruned nodes, max_depth=6\n",
      "[15:35:49] INFO: ../src/tree/updater_prune.cc:101: tree pruning end, 104 extra nodes, 0 pruned nodes, max_depth=6\n",
      "[15:35:49] INFO: ../src/tree/updater_prune.cc:101: tree pruning end, 106 extra nodes, 0 pruned nodes, max_depth=6\n",
      "[15:35:49] INFO: ../src/tree/updater_prune.cc:101: tree pruning end, 60 extra nodes, 0 pruned nodes, max_depth=6\n",
      "[15:35:49] INFO: ../src/tree/updater_prune.cc:101: tree pruning end, 74 extra nodes, 0 pruned nodes, max_depth=6\n",
      "[15:35:49] INFO: ../src/tree/updater_prune.cc:101: tree pruning end, 50 extra nodes, 0 pruned nodes, max_depth=6\n",
      "[15:35:49] INFO: ../src/tree/updater_prune.cc:101: tree pruning end, 44 extra nodes, 0 pruned nodes, max_depth=6\n",
      "[15:35:49] INFO: ../src/tree/updater_prune.cc:101: tree pruning end, 66 extra nodes, 0 pruned nodes, max_depth=6\n",
      "[15:35:49] INFO: ../src/tree/updater_prune.cc:101: tree pruning end, 76 extra nodes, 0 pruned nodes, max_depth=6\n",
      "[15:35:49] INFO: ../src/tree/updater_prune.cc:101: tree pruning end, 40 extra nodes, 0 pruned nodes, max_depth=6\n",
      "[15:35:49] INFO: ../src/tree/updater_prune.cc:101: tree pruning end, 58 extra nodes, 0 pruned nodes, max_depth=6\n",
      "[15:35:49] INFO: ../src/tree/updater_prune.cc:101: tree pruning end, 78 extra nodes, 0 pruned nodes, max_depth=6\n",
      "[15:35:49] INFO: ../src/tree/updater_prune.cc:101: tree pruning end, 48 extra nodes, 0 pruned nodes, max_depth=6\n",
      "[15:35:49] INFO: ../src/tree/updater_prune.cc:101: tree pruning end, 58 extra nodes, 0 pruned nodes, max_depth=6\n",
      "[15:35:49] INFO: ../src/tree/updater_prune.cc:101: tree pruning end, 66 extra nodes, 0 pruned nodes, max_depth=6\n",
      "[15:35:49] INFO: ../src/tree/updater_prune.cc:101: tree pruning end, 46 extra nodes, 0 pruned nodes, max_depth=6\n",
      "[15:35:49] INFO: ../src/tree/updater_prune.cc:101: tree pruning end, 56 extra nodes, 0 pruned nodes, max_depth=6\n",
      "[15:35:49] INFO: ../src/tree/updater_prune.cc:101: tree pruning end, 70 extra nodes, 0 pruned nodes, max_depth=6\n",
      "[15:35:49] INFO: ../src/tree/updater_prune.cc:101: tree pruning end, 26 extra nodes, 0 pruned nodes, max_depth=6\n",
      "[15:35:50] INFO: ../src/tree/updater_prune.cc:101: tree pruning end, 22 extra nodes, 0 pruned nodes, max_depth=6\n",
      "[15:35:50] INFO: ../src/tree/updater_prune.cc:101: tree pruning end, 82 extra nodes, 0 pruned nodes, max_depth=6\n",
      "[15:35:50] INFO: ../src/tree/updater_prune.cc:101: tree pruning end, 24 extra nodes, 0 pruned nodes, max_depth=6\n",
      "[15:35:50] INFO: ../src/tree/updater_prune.cc:101: tree pruning end, 76 extra nodes, 0 pruned nodes, max_depth=6\n",
      "[15:35:50] INFO: ../src/tree/updater_prune.cc:101: tree pruning end, 64 extra nodes, 0 pruned nodes, max_depth=6\n",
      "[15:35:50] INFO: ../src/tree/updater_prune.cc:101: tree pruning end, 64 extra nodes, 0 pruned nodes, max_depth=6\n",
      "[15:35:50] INFO: ../src/tree/updater_prune.cc:101: tree pruning end, 98 extra nodes, 0 pruned nodes, max_depth=6\n",
      "[15:35:50] INFO: ../src/tree/updater_prune.cc:101: tree pruning end, 26 extra nodes, 0 pruned nodes, max_depth=6\n",
      "[15:35:50] INFO: ../src/tree/updater_prune.cc:101: tree pruning end, 56 extra nodes, 0 pruned nodes, max_depth=6\n",
      "[15:35:50] INFO: ../src/tree/updater_prune.cc:101: tree pruning end, 82 extra nodes, 0 pruned nodes, max_depth=6\n",
      "[15:35:50] INFO: ../src/tree/updater_prune.cc:101: tree pruning end, 22 extra nodes, 0 pruned nodes, max_depth=6\n",
      "[15:35:50] INFO: ../src/tree/updater_prune.cc:101: tree pruning end, 34 extra nodes, 0 pruned nodes, max_depth=6\n",
      "[15:35:50] INFO: ../src/tree/updater_prune.cc:101: tree pruning end, 60 extra nodes, 0 pruned nodes, max_depth=6\n",
      "[15:35:50] INFO: ../src/tree/updater_prune.cc:101: tree pruning end, 26 extra nodes, 0 pruned nodes, max_depth=6\n",
      "[15:35:50] INFO: ../src/tree/updater_prune.cc:101: tree pruning end, 36 extra nodes, 0 pruned nodes, max_depth=6\n",
      "[15:35:50] INFO: ../src/tree/updater_prune.cc:101: tree pruning end, 74 extra nodes, 0 pruned nodes, max_depth=6\n",
      "[15:35:50] INFO: ../src/tree/updater_prune.cc:101: tree pruning end, 78 extra nodes, 0 pruned nodes, max_depth=6\n",
      "[15:35:50] INFO: ../src/tree/updater_prune.cc:101: tree pruning end, 60 extra nodes, 0 pruned nodes, max_depth=6\n",
      "[15:35:50] INFO: ../src/tree/updater_prune.cc:101: tree pruning end, 80 extra nodes, 0 pruned nodes, max_depth=6\n",
      "[15:35:50] INFO: ../src/tree/updater_prune.cc:101: tree pruning end, 86 extra nodes, 0 pruned nodes, max_depth=6\n",
      "[15:35:50] INFO: ../src/tree/updater_prune.cc:101: tree pruning end, 88 extra nodes, 0 pruned nodes, max_depth=6\n",
      "[15:35:51] INFO: ../src/tree/updater_prune.cc:101: tree pruning end, 28 extra nodes, 0 pruned nodes, max_depth=6\n",
      "[15:35:51] INFO: ../src/tree/updater_prune.cc:101: tree pruning end, 34 extra nodes, 0 pruned nodes, max_depth=6\n",
      "[15:35:51] INFO: ../src/tree/updater_prune.cc:101: tree pruning end, 74 extra nodes, 0 pruned nodes, max_depth=6\n",
      "[15:35:51] INFO: ../src/tree/updater_prune.cc:101: tree pruning end, 32 extra nodes, 0 pruned nodes, max_depth=6\n",
      "[15:35:51] INFO: ../src/tree/updater_prune.cc:101: tree pruning end, 30 extra nodes, 0 pruned nodes, max_depth=6\n",
      "[15:35:51] INFO: ../src/tree/updater_prune.cc:101: tree pruning end, 24 extra nodes, 0 pruned nodes, max_depth=6\n",
      "[15:35:51] INFO: ../src/tree/updater_prune.cc:101: tree pruning end, 64 extra nodes, 0 pruned nodes, max_depth=6\n",
      "[15:35:51] INFO: ../src/tree/updater_prune.cc:101: tree pruning end, 18 extra nodes, 0 pruned nodes, max_depth=6\n",
      "[15:35:51] INFO: ../src/tree/updater_prune.cc:101: tree pruning end, 84 extra nodes, 0 pruned nodes, max_depth=6\n",
      "[15:35:51] INFO: ../src/tree/updater_prune.cc:101: tree pruning end, 90 extra nodes, 0 pruned nodes, max_depth=6\n",
      "[15:35:51] INFO: ../src/tree/updater_prune.cc:101: tree pruning end, 52 extra nodes, 0 pruned nodes, max_depth=6\n",
      "[15:35:51] INFO: ../src/tree/updater_prune.cc:101: tree pruning end, 104 extra nodes, 0 pruned nodes, max_depth=6\n",
      "[15:35:51] INFO: ../src/tree/updater_prune.cc:101: tree pruning end, 30 extra nodes, 0 pruned nodes, max_depth=6\n",
      "[15:35:51] INFO: ../src/tree/updater_prune.cc:101: tree pruning end, 36 extra nodes, 0 pruned nodes, max_depth=6\n",
      "[15:35:51] INFO: ../src/tree/updater_prune.cc:101: tree pruning end, 28 extra nodes, 0 pruned nodes, max_depth=6\n",
      "[15:35:51] INFO: ../src/tree/updater_prune.cc:101: tree pruning end, 50 extra nodes, 0 pruned nodes, max_depth=6\n",
      "[15:35:51] INFO: ../src/tree/updater_prune.cc:101: tree pruning end, 40 extra nodes, 0 pruned nodes, max_depth=6\n",
      "[15:35:51] INFO: ../src/tree/updater_prune.cc:101: tree pruning end, 50 extra nodes, 0 pruned nodes, max_depth=6\n",
      "[15:35:51] INFO: ../src/tree/updater_prune.cc:101: tree pruning end, 78 extra nodes, 0 pruned nodes, max_depth=6\n",
      "[15:35:51] INFO: ../src/tree/updater_prune.cc:101: tree pruning end, 92 extra nodes, 0 pruned nodes, max_depth=6\n",
      "[15:35:52] INFO: ../src/tree/updater_prune.cc:101: tree pruning end, 90 extra nodes, 0 pruned nodes, max_depth=6\n",
      "[15:35:52] INFO: ../src/tree/updater_prune.cc:101: tree pruning end, 84 extra nodes, 0 pruned nodes, max_depth=6\n",
      "[15:35:52] INFO: ../src/tree/updater_prune.cc:101: tree pruning end, 64 extra nodes, 0 pruned nodes, max_depth=6\n",
      "[15:35:52] INFO: ../src/tree/updater_prune.cc:101: tree pruning end, 26 extra nodes, 0 pruned nodes, max_depth=6\n",
      "[15:35:52] INFO: ../src/tree/updater_prune.cc:101: tree pruning end, 98 extra nodes, 0 pruned nodes, max_depth=6\n",
      "[15:35:52] INFO: ../src/tree/updater_prune.cc:101: tree pruning end, 64 extra nodes, 0 pruned nodes, max_depth=6\n",
      "[15:35:52] INFO: ../src/tree/updater_prune.cc:101: tree pruning end, 88 extra nodes, 0 pruned nodes, max_depth=6\n",
      "[15:35:52] INFO: ../src/tree/updater_prune.cc:101: tree pruning end, 84 extra nodes, 0 pruned nodes, max_depth=6\n",
      "[15:35:52] INFO: ../src/tree/updater_prune.cc:101: tree pruning end, 54 extra nodes, 0 pruned nodes, max_depth=6\n",
      "[15:35:52] INFO: ../src/tree/updater_prune.cc:101: tree pruning end, 40 extra nodes, 0 pruned nodes, max_depth=6\n",
      "[15:35:52] INFO: ../src/tree/updater_prune.cc:101: tree pruning end, 82 extra nodes, 0 pruned nodes, max_depth=6\n",
      "[15:35:52] INFO: ../src/tree/updater_prune.cc:101: tree pruning end, 54 extra nodes, 0 pruned nodes, max_depth=6\n",
      "[15:35:52] INFO: ../src/tree/updater_prune.cc:101: tree pruning end, 24 extra nodes, 0 pruned nodes, max_depth=6\n",
      "[15:35:52] INFO: ../src/tree/updater_prune.cc:101: tree pruning end, 52 extra nodes, 0 pruned nodes, max_depth=6\n",
      "[15:35:52] INFO: ../src/tree/updater_prune.cc:101: tree pruning end, 32 extra nodes, 0 pruned nodes, max_depth=6\n",
      "[15:35:52] INFO: ../src/tree/updater_prune.cc:101: tree pruning end, 92 extra nodes, 0 pruned nodes, max_depth=6\n",
      "[15:35:52] INFO: ../src/tree/updater_prune.cc:101: tree pruning end, 54 extra nodes, 0 pruned nodes, max_depth=6\n",
      "[15:35:52] INFO: ../src/tree/updater_prune.cc:101: tree pruning end, 62 extra nodes, 0 pruned nodes, max_depth=6\n",
      "[15:35:52] INFO: ../src/tree/updater_prune.cc:101: tree pruning end, 34 extra nodes, 0 pruned nodes, max_depth=6\n",
      "[15:35:52] INFO: ../src/tree/updater_prune.cc:101: tree pruning end, 52 extra nodes, 0 pruned nodes, max_depth=6\n",
      "[15:35:53] INFO: ../src/tree/updater_prune.cc:101: tree pruning end, 46 extra nodes, 0 pruned nodes, max_depth=6\n",
      "[15:35:53] INFO: ../src/tree/updater_prune.cc:101: tree pruning end, 96 extra nodes, 0 pruned nodes, max_depth=6\n",
      "[15:35:53] INFO: ../src/tree/updater_prune.cc:101: tree pruning end, 66 extra nodes, 0 pruned nodes, max_depth=6\n",
      "[15:35:53] INFO: ../src/tree/updater_prune.cc:101: tree pruning end, 28 extra nodes, 0 pruned nodes, max_depth=6\n",
      "[15:35:53] INFO: ../src/tree/updater_prune.cc:101: tree pruning end, 74 extra nodes, 0 pruned nodes, max_depth=6\n",
      "[15:35:53] INFO: ../src/tree/updater_prune.cc:101: tree pruning end, 64 extra nodes, 0 pruned nodes, max_depth=6\n",
      "[15:35:53] INFO: ../src/tree/updater_prune.cc:101: tree pruning end, 56 extra nodes, 0 pruned nodes, max_depth=6\n",
      "[15:35:53] INFO: ../src/tree/updater_prune.cc:101: tree pruning end, 58 extra nodes, 0 pruned nodes, max_depth=6\n",
      "[15:35:53] INFO: ../src/tree/updater_prune.cc:101: tree pruning end, 82 extra nodes, 0 pruned nodes, max_depth=6\n",
      "[15:35:53] INFO: ../src/tree/updater_prune.cc:101: tree pruning end, 52 extra nodes, 0 pruned nodes, max_depth=6\n",
      "[15:35:53] INFO: ../src/tree/updater_prune.cc:101: tree pruning end, 88 extra nodes, 0 pruned nodes, max_depth=6\n",
      "[15:35:53] INFO: ../src/tree/updater_prune.cc:101: tree pruning end, 78 extra nodes, 0 pruned nodes, max_depth=6\n",
      "[15:35:53] INFO: ../src/tree/updater_prune.cc:101: tree pruning end, 12 extra nodes, 0 pruned nodes, max_depth=6\n",
      "[15:35:53] ======== Monitor (0): Learner ========\n",
      "[15:35:53] Configure: 0s, 1 calls @ 0us\n",
      "\n",
      "[15:35:53] EvalOneIter: 0.000233s, 100 calls @ 233us\n",
      "\n",
      "[15:35:53] GetGradient: 0.043291s, 100 calls @ 43291us\n",
      "\n",
      "[15:35:53] PredictRaw: 0.109183s, 100 calls @ 109183us\n",
      "\n",
      "[15:35:53] UpdateOneIter: 4.75899s, 100 calls @ 4758993us\n",
      "\n",
      "[15:35:53] ======== Monitor (0): GBTree ========\n",
      "[15:35:53] BoostNewTrees: 4.69747s, 100 calls @ 4697467us\n",
      "\n",
      "[15:35:53] CommitModel: 9.4e-05s, 100 calls @ 94us\n",
      "\n",
      "[15:35:53] ======== Monitor (0): TreePruner ========\n",
      "[15:35:53] PrunerUpdate: 0.011521s, 100 calls @ 11521us\n",
      "\n"
     ]
    },
    {
     "data": {
      "text/plain": [
       "array([0, 0, 0, ..., 1, 1, 0])"
      ]
     },
     "execution_count": 24,
     "metadata": {},
     "output_type": "execute_result"
    }
   ],
   "source": [
    "# initial model \n",
    "import xgboost as xgb\n",
    "from xgboost import XGBClassifier \n",
    "from math import floor\n",
    "\n",
    "# fit model on training data\n",
    "xgb_model = XGBClassifier(objective='binary:logistic',\n",
    "        scale_pos_weight = floor(estimate),\n",
    "        max_delta_step = 1,\n",
    "        seed = seed,\n",
    "        verbosity = 3)\n",
    "xgb_model.fit(X_train, y_train)\n",
    "\n",
    "y_pred = xgb_model.predict(X_test)\n",
    "y_pred"
   ]
  },
  {
   "cell_type": "code",
   "execution_count": 25,
   "metadata": {},
   "outputs": [
    {
     "data": {
      "text/plain": [
       "array([0.3836836 , 0.13088313, 0.01288808, ..., 0.8491867 , 0.52230376,\n",
       "       0.03217164], dtype=float32)"
      ]
     },
     "execution_count": 25,
     "metadata": {},
     "output_type": "execute_result"
    }
   ],
   "source": [
    "# create random classifier curve\n",
    "y_pred_prob = xgb_model.predict_proba(X_test)\n",
    "y_pred_prob = y_pred_prob[:, 1]\n",
    "y_pred_prob"
   ]
  },
  {
   "cell_type": "code",
   "execution_count": 26,
   "metadata": {},
   "outputs": [
    {
     "name": "stdout",
     "output_type": "stream",
     "text": [
      "Accuracy: 79.15%\n",
      "f1score: 79.15%\n",
      "Random Classifier: ROC AUC=0.500\n",
      "Logistic: ROC AUC=0.850\n"
     ]
    },
    {
     "data": {
      "image/png": "[encoded data removed]",
      "text/plain": [
       "<Figure size 640x480 with 1 Axes>"
      ]
     },
     "metadata": {},
     "output_type": "display_data"
    }
   ],
   "source": [
    "from sklearn import metrics\n",
    "from sklearn.metrics import accuracy_score,f1_score\n",
    "from sklearn.metrics import roc_auc_score, roc_curve\n",
    "from sklearn.model_selection import cross_val_score\n",
    "from sklearn.model_selection import RepeatedStratifiedKFold\n",
    "from matplotlib import pyplot\n",
    "from numpy import mean\n",
    "# Model will be evaluated on the ROC AUC and PR AUC of the validation dataset\n",
    "\n",
    "# evaluate predictions\n",
    "accuracy = accuracy_score(y_test, y_pred)\n",
    "print(\"Accuracy: %.2f%%\" % (accuracy * 100.0))\n",
    "f1score = f1_score(y_test, y_pred, average = 'micro')\n",
    "print(\"f1score: %.2f%%\" % (f1score * 100.0))\n",
    "\n",
    "\n",
    "# create random classifier curve\n",
    "rc_prob = [0 for _ in range(len(y_test))]\n",
    "\n",
    "y_pred_prob = xgb_model.predict_proba(X_test)\n",
    "y_pred_prob = y_pred_prob[:, 1]\n",
    "\n",
    "rc_pred_auc = roc_auc_score(y_test, rc_prob)\n",
    "y_pred_auc = roc_auc_score(y_test, y_pred_prob)\n",
    "\n",
    "print('Random Classifier: ROC AUC=%.3f' % (rc_pred_auc))\n",
    "print('Logistic: ROC AUC=%.3f' % (y_pred_auc))\n",
    "\n",
    "# calculate roc curves\n",
    "rc_fpr, rc_tpr, _ = roc_curve(y_test, rc_prob)\n",
    "y_fpr, y_tpr, _ = roc_curve(y_test, y_pred_prob)\n",
    "\n",
    "# plot the roc curve for the model\n",
    "pyplot.plot(rc_fpr, rc_tpr, linestyle='--', label='Random Classifier')\n",
    "pyplot.plot(y_fpr, y_tpr, marker='.', label='XGBoost')\n",
    "# axis labels\n",
    "pyplot.xlabel('False Positive Rate')\n",
    "pyplot.ylabel('True Positive Rate')\n",
    "# show the legend\n",
    "pyplot.legend()\n",
    "# show the plot\n",
    "pyplot.show()"
   ]
  },
  {
   "cell_type": "code",
   "execution_count": 27,
   "metadata": {},
   "outputs": [
    {
     "name": "stdout",
     "output_type": "stream",
     "text": [
      "Logistic: f1=0.195 auc=0.241\n"
     ]
    },
    {
     "data": {
      "image/png": "[encoded data removed]",
      "text/plain": [
       "<Figure size 640x480 with 1 Axes>"
      ]
     },
     "metadata": {},
     "output_type": "display_data"
    }
   ],
   "source": [
    "# PR AUC \n",
    "from sklearn.metrics import precision_recall_curve\n",
    "from sklearn.metrics import f1_score\n",
    "from sklearn.metrics import auc\n",
    "\n",
    "y_pred = xgb_model.predict(X_test)\n",
    "\n",
    "xgb_precision, xgb_recall, _ = precision_recall_curve(y_test, y_pred_prob)\n",
    "xgb_f1, xgb_auc = f1_score(y_test, y_pred), auc(xgb_recall, xgb_precision)\n",
    "\n",
    "# summarize scores\n",
    "print('Logistic: f1=%.3f auc=%.3f' % (xgb_f1, xgb_auc))\n",
    "# plot the precision-recall curves\n",
    "random_classifier = len(y_test[y_test['label']==1]) / len(y_test)\n",
    "pyplot.plot([0, 1], [random_classifier, random_classifier], linestyle='--', label='Random Classifier')\n",
    "pyplot.plot(xgb_recall, xgb_precision, marker='.', label='XGBoost')\n",
    "# axis labels\n",
    "pyplot.xlabel('Recall')\n",
    "pyplot.ylabel('Precision')\n",
    "# show the legend\n",
    "pyplot.legend()\n",
    "# show the plot\n",
    "pyplot.show()"
   ]
  },
  {
   "cell_type": "markdown",
   "metadata": {},
   "source": [
    "## Save model"
   ]
  },
  {
   "cell_type": "code",
   "execution_count": 34,
   "metadata": {},
   "outputs": [],
   "source": [
    "import os\n",
    "MODEL_DIR = os.path.join(os.path.expanduser('~'), 'studies/ProjectStorage/tanyeejet/models')\n",
    "xgb_model.save_model(os.path.join(MODEL_DIR, 'xgb4_2.model'))"
   ]
  },
  {
   "cell_type": "code",
   "execution_count": 30,
   "metadata": {},
   "outputs": [],
   "source": [
    "# save data for testing\n",
    "X_test.to_csv('../data/xgb2_feature.csv', index=False)\n",
    "y_test.to_csv('../data/xgb2_label.csv', index=False)"
   ]
  }
 ],
 "metadata": {
  "kernelspec": {
   "display_name": "Python 3 (ipykernel)",
   "language": "python",
   "name": "python3"
  },
  "language_info": {
   "codemirror_mode": {
    "name": "ipython",
    "version": 3
   },
   "file_extension": ".py",
   "mimetype": "text/x-python",
   "name": "python",
   "nbconvert_exporter": "python",
   "pygments_lexer": "ipython3",
   "version": "3.8.10"
  },
  "vscode": {
   "interpreter": {
    "hash": "51f9be6423a28607127167002e9d2294574d8d40929d5b1bdeeda63751464f2e"
   }
  }
 },
 "nbformat": 4,
 "nbformat_minor": 4
}
